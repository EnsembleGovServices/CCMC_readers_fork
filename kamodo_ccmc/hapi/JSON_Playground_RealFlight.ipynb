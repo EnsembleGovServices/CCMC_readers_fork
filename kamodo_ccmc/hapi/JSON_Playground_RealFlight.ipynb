{
 "cells": [
  {
   "cell_type": "markdown",
   "id": "9d11fb30",
   "metadata": {},
   "source": [
    "# JSON Playground RealFlight\n",
    "This notebook demonstrates how to make HAPI JSONs for a sample Kamodo simulation dataset and a sample parameter list. See HAPI_KamodoRealFlight_JSONs.py script for this code in script form."
   ]
  },
  {
   "cell_type": "code",
   "execution_count": null,
   "id": "c9bc4089",
   "metadata": {},
   "outputs": [],
   "source": [
    "import kamodo_ccmc.flythrough.model_wrapper as MW\n",
    "\n",
    "# Demonstrate extraction of model and file_dir from dataset name.\n",
    "dataset = 'CTIPe_D:/CTIPe/Storm_201303/'\n",
    "# get list of model names in Kamodo\n",
    "model_list = list(MW.model_dict.keys())\n",
    "model_length = max([len(item) for item in model_list])\n",
    "# retrieve model name from dataset\n",
    "model_mask = [model in dataset[:model_length] for model in model_list]\n",
    "model = model_list[model_mask.index(True)]\n",
    "# retrieve run name from dataset\n",
    "file_dir = dataset[len(model)+1:]\n",
    "print(model, file_dir)"
   ]
  },
  {
   "cell_type": "code",
   "execution_count": null,
   "id": "23161c4b",
   "metadata": {},
   "outputs": [],
   "source": [
    "# Repeat, but now with a satellite name too.\n",
    "test_dataset = 'CTIPe_D:/CTIPe/Storm_201303/_grace1'\n",
    "# get list of satellite names from SSCWeb\n",
    "import urllib.request, json  \n",
    "with urllib.request.urlopen(\"https://hapi-server.org/servers/SSCWeb/hapi/catalog\") as url:\n",
    "    data = json.load(url)\n",
    "sat_names = [item['id'] for item in data['catalog']]\n",
    "# split dataset into model, file_dir, and sat_name\n",
    "sat_name = test_dataset.split('_')[-1] \n",
    "model_mask = [model in dataset[:model_length] for model in model_list]\n",
    "model = model_list[model_mask.index(True)]\n",
    "file_dir = test_dataset[len(model)+1:].split(sat_name)[0][:-1]\n",
    "print(model, file_dir, sat_name)"
   ]
  },
  {
   "cell_type": "code",
   "execution_count": null,
   "id": "6147645d",
   "metadata": {},
   "outputs": [],
   "source": [
    "# Collect metadata from Kamodo\n",
    "var_dict = MW.Variable_Search('', model, file_dir, return_dict=True)\n",
    "var_list = list(var_dict.keys())\n",
    "start_dt, stop_dt = MW.File_Times(model, file_dir, print_output=False)"
   ]
  },
  {
   "cell_type": "code",
   "execution_count": null,
   "id": "6c4ad4e2",
   "metadata": {
    "scrolled": true
   },
   "outputs": [],
   "source": [
    "# Create par_dict portion of json\n",
    "par_dict = [{'name': 'time', 'type': 'isotime', 'length': 24, 'units': 'UTC', 'fill': 'null'}] +\\\n",
    "    [{'name': var, 'type': 'double', 'units': var_dict[var][-1],\n",
    "      'description': var_dict[var][0]+' in the '+var_dict[var][2]+'-'+\n",
    "      var_dict[var][3]+' coordinate system, dependent on '+\n",
    "      ''.join([item+', ' for item in var_dict[var][-2]])[:-2]}\n",
    "     for var in var_list]\n",
    "par_dict"
   ]
  },
  {
   "cell_type": "code",
   "execution_count": null,
   "id": "61cb4f8a",
   "metadata": {
    "scrolled": true
   },
   "outputs": [],
   "source": [
    "# Demonstrate creation of full dataset JSON \n",
    "json_dict = {\n",
    "    \"HAPI\": \"3.1\",\n",
    "    \"status\": {\n",
    "        \"code\": 1200,\n",
    "        \"message\": \"OK\"\n",
    "    },\n",
    "    \"parameters\": par_dict,\n",
    "    \"startDate\": start_dt.isoformat().split('+')[0]+'Z',\n",
    "    \"stopDate\": stop_dt.isoformat().split('+')[0]+'Z'}\n",
    "json_dict"
   ]
  },
  {
   "cell_type": "code",
   "execution_count": null,
   "id": "e4250027",
   "metadata": {},
   "outputs": [],
   "source": [
    "# Write dataset JSON\n",
    "import json\n",
    "with open(file_dir+model+'_dataset.json', 'w') as write_file:\n",
    "    json.dump(json_dict, write_file)"
   ]
  },
  {
   "cell_type": "code",
   "execution_count": null,
   "id": "48ef3c4a",
   "metadata": {},
   "outputs": [],
   "source": [
    "# Demonstrate json creation for a given subset of variable names\n",
    "# Taken from the CTIPe model reader validation notebook with one extra.\n",
    "variables_requested = ['v_nup_ilev', 'T_n', 'T_e', 'TEC', 'E_theta300km']\n",
    "new_par = [par_dict[0]] + [par_dict[i+1] for i, var in enumerate(var_list)\n",
    "                           if var in variables_requested]\n",
    "new_json = json_dict.copy()\n",
    "new_json['parameters'] = new_par\n",
    "new_json"
   ]
  },
  {
   "cell_type": "code",
   "execution_count": null,
   "id": "3883b5fd",
   "metadata": {},
   "outputs": [],
   "source": [
    "# Write parameter JSON\n",
    "import json\n",
    "with open(file_dir+model+'_parametersRR.json', 'w') as write_file:\n",
    "    json.dump(new_json, write_file)"
   ]
  },
  {
   "cell_type": "code",
   "execution_count": null,
   "id": "216e7baf",
   "metadata": {},
   "outputs": [],
   "source": []
  }
 ],
 "metadata": {
  "kernelspec": {
   "display_name": "Python 3 (ipykernel)",
   "language": "python",
   "name": "python3"
  },
  "language_info": {
   "codemirror_mode": {
    "name": "ipython",
    "version": 3
   },
   "file_extension": ".py",
   "mimetype": "text/x-python",
   "name": "python",
   "nbconvert_exporter": "python",
   "pygments_lexer": "ipython3",
   "version": "3.7.16"
  }
 },
 "nbformat": 4,
 "nbformat_minor": 5
}
