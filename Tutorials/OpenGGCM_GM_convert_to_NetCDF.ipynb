{
 "cells": [
  {
   "cell_type": "code",
   "execution_count": null,
   "metadata": {},
   "outputs": [],
   "source": [
    "%load_ext autoreload\n",
    "%autoreload 2\n",
    "import os\n",
    "from numpy import transpose, zeros, array, append\n",
    "from time import perf_counter\n",
    "from netCDF4 import Dataset\n",
    "#from astropy.constants import R_earth\n",
    "from glob import glob\n",
    "import shutil\n",
    "from datetime import datetime,timezone,timedelta\n",
    "import sys\n",
    "import re\n",
    "\n",
    "pathsep=os.path.sep\n",
    "\n",
    "#import kamodo.readers as readers\n",
    "from kamodo_ccmc.readers.openggcm_gm_tocdf import openggcm_combine_magnetosphere_files"
   ]
  },
  {
   "cell_type": "code",
   "execution_count": null,
   "metadata": {
    "lines_to_next_cell": 2
   },
   "outputs": [],
   "source": [
    "cadence=600 \n",
    "requested_variables=['B_x','B_y','B_z']\n",
    "new_path=None\n",
    "#for run in \"Yihua_Zheng_090721_1\",\"Yihua_Zheng_090721_2\":\n",
    "#for run in [\"Zvi_Kantorovich_022121_1\"]:\n",
    "#for run in sys.argv[1:]:\n",
    "for run in [\"Yihua_Zheng_040122_1\"]:\n",
    "#for run in [\"Yihua_Zheng_021022_1\",\"Yihua_Zheng_021022_2\"]:\n",
    "    # step 1 get the run directory on the CCMC archive\n",
    "    run_path=\"/Users/lrastaet/Kamodo_data/OpenGGCM_GM/\"+run\n",
    "    # grep from Dataset_locations.txt then plit off second column\n",
    "    datasetlocations_file=\"/ccmcshare/Web/Public_cgi-bin/Dataset_locations.txt\"\n",
    "    if os.path.exists(datasetlocations_file):\n",
    "        with open(datasetlocations_file) as f:\n",
    "            for line in f.readlines():\n",
    "                if re.search(run, line):\n",
    "                    run_path=(line.split(\"\\t\"))[1]\n",
    "                    break\n",
    "    if not run_path:\n",
    "        break\n",
    "    # step 2 determine the start and end dates requested to generate list of hourly increments\n",
    "    date_times=[]\n",
    "    start_date=None\n",
    "    end_date=None\n",
    "\n",
    "    # global magnetosphere runs: we use date and hour\n",
    "    with open(run_path+pathsep+\"DatabaseInfo\") as f:\n",
    "        for line in f.readlines():\n",
    "            if re.search(\"# start_time\", line):\n",
    "                start_date=(line.split(\"\\t\"))[0]\n",
    "\n",
    "            if re.search(\"# end_time\", line):\n",
    "                end_date=(line.split(\"\\t\"))[0]\n",
    "\n",
    "    if not start_date and not end_date:\n",
    "        break\n",
    "    start_datetime=datetime.strptime(start_date[0:13],'%Y/%m/%d %H').replace(tzinfo=timezone.utc)\n",
    "    end_datetime=datetime.strptime(end_date[0:13], '%Y/%m/%d %H').replace(tzinfo=timezone.utc)\n",
    "    time_interval_hours=int((end_datetime-start_datetime).total_seconds()/3600)\n",
    "    \n",
    "    for this_hour in range(time_interval_hours):\n",
    "        hours_added = timedelta(hours = this_hour)\n",
    "        date_times.append( (start_datetime+hours_added).strftime(\"%Y-%m-%d_%H\") )\n",
    "                \n",
    "#for run in [\"Yihua_Zheng_090721_1\"]:\n",
    "    #for date_time in \"2015-10-16_11-0\", \"2015-10-16_11-1\", \"2015-10-16_11-2\":\n",
    "    #for date_time in [\"2015-10-16_11\"]:\n",
    "    #for date_time in [\"2015-10-16_12\"]:\n",
    "#    for date_time in [\"2020-08-29_00\",\"2020-08-29_01\",\"2020-08-29_02\"]:\n",
    "#    for date_time in [\"2018-04-29_04\",\"2018-04-29_05\"]: \n",
    "    for date_time in date_times:\n",
    "        #full_file_prefix=\"/raidz/RoR_data/GM/OpenGGCM/2021/\"+run+\"/3df/\"+run+\".3df_\"+date_time\n",
    "        full_file_prefix=run_path+\"/3df/\"+run+\".3df_\"+date_time\n",
    "        file_path=os.path.dirname(full_file_prefix)\n",
    "        file_prefix=os.path.basename(full_file_prefix)\n",
    "        \n",
    "        conversion_succeeded = openggcm_combine_magnetosphere_files(full_file_prefix,cadence=cadence,requested_variables=requested_variables,verbose=True)\n",
    "        #conversion_succeeded = openggcm_combine_magnetosphere_files(full_file_prefix,verbose=True)\n",
    "\n",
    "        if conversion_succeeded and new_path is not None:\n",
    "            nc_file=file_prefix+'.nc'\n",
    "            old_nc_file=file_path+pathsep+nc_file\n",
    "            new_nc_file=new_path+pathsep+run+pathsep+nc_file\n",
    "            if not os.path.isdir(new_path+pathsep+run):\n",
    "                os.mkdir(new_path+pathsep+run)\n",
    "            shutil.copy(old_nc_file,new_nc_file)\n",
    "\n"
   ]
  },
  {
   "cell_type": "code",
   "execution_count": null,
   "metadata": {},
   "outputs": [],
   "source": [
    "from netCDF4 import Dataset\n",
    "data=Dataset(\"\")"
   ]
  },
  {
   "cell_type": "code",
   "execution_count": null,
   "metadata": {},
   "outputs": [],
   "source": []
  }
 ],
 "metadata": {
  "jupytext": {
   "formats": "ipynb,py:percent"
  },
  "kernelspec": {
   "display_name": "Python 3 (ipykernel)",
   "language": "python",
   "name": "python3"
  },
  "language_info": {
   "codemirror_mode": {
    "name": "ipython",
    "version": 3
   },
   "file_extension": ".py",
   "mimetype": "text/x-python",
   "name": "python",
   "nbconvert_exporter": "python",
   "pygments_lexer": "ipython3",
   "version": "3.7.13"
  }
 },
 "nbformat": 4,
 "nbformat_minor": 2
}
