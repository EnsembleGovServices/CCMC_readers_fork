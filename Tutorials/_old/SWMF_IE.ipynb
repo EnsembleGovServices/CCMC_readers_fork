{
 "cells": [
  {
   "cell_type": "markdown",
   "metadata": {},
   "source": [
    "## SWMF IE: \n",
    "\n"
   ]
  },
  {
   "cell_type": "code",
   "execution_count": null,
   "metadata": {},
   "outputs": [],
   "source": [
    "%load_ext autoreload\n",
    "%autoreload 2"
   ]
  },
  {
   "cell_type": "code",
   "execution_count": null,
   "metadata": {},
   "outputs": [],
   "source": [
    "import numpy as np\n",
    "import pandas as pd\n",
    "import os\n",
    "import scipy\n",
    "import scipy.constants as constants\n",
    "from scipy import interpolate\n",
    "from scipy.interpolate import RegularGridInterpolator\n",
    "import math\n",
    "import time\n",
    "import kamodo\n",
    "\n",
    "import plotly.express as px\n",
    "import plotly.graph_objects as go\n",
    "from plotly.offline import init_notebook_mode, iplot, plot\n",
    "from plotly.subplots import make_subplots"
   ]
  },
  {
   "cell_type": "code",
   "execution_count": null,
   "metadata": {},
   "outputs": [],
   "source": [
    "from readers.swmf_ie import SWMF_IE"
   ]
  },
  {
   "cell_type": "code",
   "execution_count": null,
   "metadata": {},
   "outputs": [],
   "source": [
    "runname='weili_jiang_031012_4'\n",
    "ie=SWMF_IE('../../../data/weili_jiang_031012_4/ionosphere/it031031_235900_000.tec')"
   ]
  },
  {
   "cell_type": "code",
   "execution_count": null,
   "metadata": {},
   "outputs": [],
   "source": [
    "ie"
   ]
  },
  {
   "cell_type": "code",
   "execution_count": null,
   "metadata": {},
   "outputs": [],
   "source": [
    "# Interpolation at three points\n",
    "print(ie.SigmaP([[70,30.],[70,40.],[90,40.]]))"
   ]
  },
  {
   "cell_type": "code",
   "execution_count": null,
   "metadata": {},
   "outputs": [],
   "source": [
    "# Raw data on a slice of the data\n",
    "print(ie.variables['SigmaP']['data'][:,0])"
   ]
  },
  {
   "cell_type": "code",
   "execution_count": null,
   "metadata": {},
   "outputs": [],
   "source": [
    "# Available variables to plot and their units\n",
    "vars=ie.list_variables()\n",
    "for v in vars:\n",
    "    print(v,'\\t',ie.variables[v]['units'])"
   ]
  },
  {
   "cell_type": "code",
   "execution_count": null,
   "metadata": {},
   "outputs": [],
   "source": [
    "# 2D North and South polar view plots\n",
    "fig1=ie.get_plot('PHI', '2D-N', runname)\n",
    "fig2=ie.get_plot('JR', '2D-S', runname)\n",
    "iplot(fig1)\n",
    "iplot(fig2)"
   ]
  },
  {
   "cell_type": "code",
   "execution_count": null,
   "metadata": {},
   "outputs": [],
   "source": [
    "# Quick look 3D raw data view as scatter plot\n",
    "fig=px.scatter_3d(\n",
    "    x=ie.variables['X']['data'].flatten(),\n",
    "    y=ie.variables['Y']['data'].flatten(),\n",
    "    z=ie.variables['Z']['data'].flatten(),\n",
    "    color=ie.variables['JR']['data'].flatten())\n",
    "fig.show()"
   ]
  },
  {
   "cell_type": "code",
   "execution_count": null,
   "metadata": {},
   "outputs": [],
   "source": []
  }
 ],
 "metadata": {
  "kernelspec": {
   "display_name": "Python 3 (ipykernel)",
   "language": "python",
   "name": "python3"
  },
  "language_info": {
   "codemirror_mode": {
    "name": "ipython",
    "version": 3
   },
   "file_extension": ".py",
   "mimetype": "text/x-python",
   "name": "python",
   "nbconvert_exporter": "python",
   "pygments_lexer": "ipython3",
   "version": "3.7.13"
  }
 },
 "nbformat": 4,
 "nbformat_minor": 2
}
