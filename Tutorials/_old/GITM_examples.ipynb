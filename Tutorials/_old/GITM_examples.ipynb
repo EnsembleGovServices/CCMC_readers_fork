{
 "cells": [
  {
   "cell_type": "markdown",
   "metadata": {},
   "source": [
    "# GITM"
   ]
  },
  {
   "cell_type": "code",
   "execution_count": null,
   "metadata": {},
   "outputs": [],
   "source": [
    "from kamodo.kamodo import Kamodo\n",
    "from plotly.offline import init_notebook_mode, iplot, plot\n",
    "import plotly.graph_objs as go\n",
    "init_notebook_mode(connected = True)\n",
    "import plotly\n",
    "import spacepy\n",
    "import os"
   ]
  },
  {
   "cell_type": "code",
   "execution_count": null,
   "metadata": {},
   "outputs": [],
   "source": [
    "from kamodo import readers"
   ]
  },
  {
   "cell_type": "code",
   "execution_count": null,
   "metadata": {},
   "outputs": [],
   "source": [
    "from kamodo.readers.gitm import gitm as gitm\n",
    "from kamodo.readers.gitm import gitm_alt_plots as gap\n",
    "from kamodo.readers.gitm import gitm_plot_rout as gpr"
   ]
  },
  {
   "cell_type": "code",
   "execution_count": null,
   "metadata": {},
   "outputs": [],
   "source": [
    "#datafile = '../../../data/GITMdefault/3DLST_t150317_180000.bin'\n",
    "#datafile = '../../../data/GITMdefault/3DLST_t150318_120000.bin'\n",
    "#datafile = '../../../data/GITMwSWMF/3DLST_t150317_180000.bin'\n",
    "#datafile = '../../../data/GITMwSWMF/3DLST_t150318_120000.bin'\n",
    "\n",
    "import glob\n",
    "files = glob.glob('../../../data/IN/*.bin')\n",
    "#files = glob.glob('../../../data/jasoon_shim_071418_IT_1/*.bin')\n",
    "datafile = files[0]\n",
    "datafile"
   ]
  },
  {
   "cell_type": "code",
   "execution_count": null,
   "metadata": {},
   "outputs": [],
   "source": [
    "latkey = \"dLat\"\n",
    "lonkey = \"dLon\"\n",
    "altkey = \"Altitude\"\n",
    "gData = gitm.GitmBin(datafile)"
   ]
  },
  {
   "cell_type": "code",
   "execution_count": null,
   "metadata": {},
   "outputs": [],
   "source": [
    "gda = gData[altkey]\n",
    "gda.attrs\n",
    "\n",
    "import numpy as np\n",
    "\n",
    "from kamodo.kamodo import Kamodo\n",
    "\n",
    "lon = np.unique(gData[lonkey])\n",
    "lat = np.unique(gData[latkey])\n",
    "alt = np.unique(gData[altkey])\n",
    "pos = np.random.random((30)).reshape(10, 3)"
   ]
  },
  {
   "cell_type": "code",
   "execution_count": null,
   "metadata": {},
   "outputs": [],
   "source": [
    "sphere = Kamodo()\n",
    "sphere['theta'] = lambda lat: np.pi*lat/180\n",
    "sphere['phi'] = lambda lon: np.pi*lon/180\n",
    "sphere['r'] = lambda alt: alt + 6.3781E6\n",
    "sphere['x(lon,lat,alt)'] = 'r*cos(theta)*cos(phi)'\n",
    "sphere['y(lon,lat,alt)'] = 'r*cos(theta)*sin(phi)'\n",
    "sphere['z(alt,lat)'] = 'r*sin(theta)'\n",
    "#sphere"
   ]
  },
  {
   "cell_type": "code",
   "execution_count": null,
   "metadata": {},
   "outputs": [],
   "source": [
    "from scipy.interpolate import RegularGridInterpolator\n",
    "\n",
    "def wrap_interpolator(lon, lat, alt, v):\n",
    "    rgi = RegularGridInterpolator((lon, lat, alt), v, bounds_error = False)\n",
    "    def wrapped(lon, lat, alt):\n",
    "        return rgi((lon,lat,alt))\n",
    "    return wrapped\n",
    "    "
   ]
  },
  {
   "cell_type": "code",
   "execution_count": null,
   "metadata": {},
   "outputs": [],
   "source": [
    "def kamodofy_names(name, name_maps):\n",
    "    \"\"\"replaces all substrings in name with those given by name_maps\"\"\"\n",
    "    for old, new in name_maps:\n",
    "        name = name.replace(old, new)\n",
    "    return name"
   ]
  },
  {
   "cell_type": "code",
   "execution_count": null,
   "metadata": {},
   "outputs": [],
   "source": [
    "kamodo = Kamodo(verbose = False)\n",
    "\n",
    "for k,v in gData.items():\n",
    "    var_name = kamodofy_names(k,[\n",
    "            ('Vn (up) (m/s)', 'V_n__u__p [m/s]'),\n",
    "            ('Vi (east) (m/s)', 'V_i__e__a__s__t [m/s]'),\n",
    "            ('Vi (up) (m/s)', 'V_i__u__p [m/s]'),\n",
    "            ('Vi (north) (m/s)', 'V_i__n__o__r__t__h [m/s]'),\n",
    "            ('Vn (north) (m/s)', 'V_n__n__o__r__t__h [m/s]'),\n",
    "            ('Vn (east) (m/s)', 'V_n__e__a__s__t [m/s]'),\n",
    "            ('Rho (kg/m3)', 'rho (kg/m^3)'),\n",
    "            ('O_4SP_!U+!N', 'O!U+_4SP_!N'),\n",
    "            ('LT', 'lt [hours]'),\n",
    "            ('V!Dn!N (up,N(!U4!NS)           )', 'V_N__u__pCOMMALEFT4SRIGHT [m/s]'),\n",
    "            ('N(!U2!ND)','N__2D [kg/m^3]'),\n",
    "            (\" \", ''),\n",
    "            (\"O(!U3!NP)\", \"OLEFT3PRIGHT\"),\n",
    "            ('(','['),\n",
    "            (')',']'),\n",
    "            ('!D', '_'),\n",
    "            ('!N',''),\n",
    "            ('[/m3]','[1/m^3]'),\n",
    "            ('!U','__'),\n",
    "            ('+', 'plus'),\n",
    "            ('e-', 'eminus'),\n",
    "        ])\n",
    "    if k not in ['time']:\n",
    "        try:\n",
    "            kamodo[var_name] = wrap_interpolator(lon, lat, alt, v)\n",
    "        except:\n",
    "            print (k)\n",
    "            raise\n",
    "\n",
    "\n",
    "from kamodo.kamodo import kamodofy\n",
    "\n",
    "# define lat, lon, an alt in terms of r, theta, phi with defaults that correspond to the model\n",
    "@kamodofy(units = 'degrees')\n",
    "def LAT(theta = sphere.theta(lat[1:-1])):\n",
    "    return 180*theta/np.pi\n",
    "\n",
    "\n",
    "@kamodofy(units = 'degrees')\n",
    "def LON(phi = sphere.phi(lon[1:-1])):\n",
    "    return 180*phi/np.pi+180\n",
    "\n",
    "\n",
    "@kamodofy(units = 'm')\n",
    "def ALT(r = sphere.r(alt[1:-1])):\n",
    "    '''must generate altitude in meters'''\n",
    "    return r - 6.3781E6\n",
    "\n",
    "kamodo['ALT'] = ALT\n",
    "kamodo['LON'] = LON\n",
    "kamodo['LAT'] = LAT\n",
    "\n",
    "kamodo['r'] = 'sqrt(x**2 + y**2 + z**2)'\n",
    "kamodo['theta'] = 'asin(z/r)' #colatitude\n",
    "kamodo['phi'] = 'atan2(y,x)'\n",
    "#kamodo\n"
   ]
  },
  {
   "cell_type": "code",
   "execution_count": null,
   "metadata": {},
   "outputs": [],
   "source": [
    "newvars = [\"rho\", \"NeutralTemperature\", \"V_n__u__p\", \"V_i__e__a__s__t\", \"NO\", \"N_2\", \"NO__plus\", \"OLEFT3PRIGHT\", \"O__plus_4SP_\", \"eminus\", \"V_i__u__p\", \"N_2__plus\", \"V_i__n__o__r__t__h\", \"V_n__e__a__s__t\", \"O_2__plus\", \"O_2\", \"V_n__n__o__r__t__h\"]\n",
    "#newvars"
   ]
  },
  {
   "cell_type": "code",
   "execution_count": null,
   "metadata": {},
   "outputs": [],
   "source": [
    "ilat = np.linspace(-90, 90, 91)\n",
    "ilon = np.linspace(0, 360, 181)\n",
    "ialt = np.array([400000.])"
   ]
  },
  {
   "cell_type": "code",
   "execution_count": null,
   "metadata": {},
   "outputs": [],
   "source": [
    "# Have to make lat into a column\n",
    "def rhoK(ilon, ilat, ialt):\n",
    "    return kamodo.rho(ilon, ilat.reshape(-1,1), ialt)\n",
    "def NeutralTemperatureK(ilon, ilat, ialt):\n",
    "    return kamodo.NeutralTemperature(ilon, ilat.reshape(-1,1), ialt)\n",
    "def V_n__u__pK(ilon, ilat, ialt):\n",
    "    return kamodo.V_n__u__p(ilon, ilat.reshape(-1,1), ialt)\n",
    "def V_i__e__a__s__tK(ilon, ilat, ialt):\n",
    "    return kamodo.V_i__e__a__s__t(ilon, ilat.reshape(-1,1), ialt)\n",
    "def NOK(ilon, ilat, ialt):\n",
    "    return kamodo.NO(ilon, ilat.reshape(-1,1), ialt)\n",
    "def N_2K(ilon, ilat, ialt):\n",
    "    return kamodo.N_2(ilon, ilat.reshape(-1,1), ialt)\n",
    "def NO__plusK(ilon, ilat, ialt):\n",
    "    return kamodo.NO__plus(ilon, ilat.reshape(-1,1), ialt)\n",
    "def OLEFT3PRIGHTK(ilon, ilat, ialt):\n",
    "    return kamodo.OLEFT3PRIGHT(ilon, ilat.reshape(-1,1), ialt)\n",
    "def O__plus_4SP_K(ilon, ilat, ialt):\n",
    "    return kamodo.O__plus_4SP_(ilon, ilat.reshape(-1,1), ialt)\n",
    "def eminusK(ilon, ilat, ialt):\n",
    "    return kamodo.eminus(ilon, ilat.reshape(-1,1), ialt)\n",
    "def V_i__u__pK(ilon, ilat, ialt):\n",
    "    return kamodo.V_i__u__p(ilon, ilat.reshape(-1,1), ialt)\n",
    "def N_2__plusK(ilon, ilat, ialt):\n",
    "    return kamodo.N_2__plus(ilon, ilat.reshape(-1,1), ialt)\n",
    "def V_i__n__o__r__t__hK(ilon, ilat, ialt):\n",
    "    return kamodo.V_i__n__o__r__t__h(ilon, ilat.reshape(-1,1), ialt)\n",
    "def V_n__e__a__s__tK(ilon, ilat, ialt):\n",
    "    return kamodo.V_n__e__a__s__t(ilon, ilat.reshape(-1,1), ialt)\n",
    "def O_2__plusK(ilon, ilat, ialt):\n",
    "    return kamodo.O_2__plus(ilon, ilat.reshape(-1,1), ialt)\n",
    "def O_2K(ilon, ilat, ialt):\n",
    "    return kamodo.O_2(ilon, ilat.reshape(-1,1), ialt)\n",
    "def V_n__n__o__r__t__hK(ilon, ilat, ialt):\n",
    "    return kamodo.V_n__n__o__r__t__h(ilon, ilat.reshape(-1,1), ialt)"
   ]
  },
  {
   "cell_type": "code",
   "execution_count": null,
   "metadata": {},
   "outputs": [],
   "source": [
    "kamodo['rhoK(ilon, ilat, ialt)'] = rhoK\n",
    "kamodo['NeutralTemperatureK(ilon, ilat, ialt)'] = NeutralTemperatureK\n",
    "kamodo['V_n__u__pK(ilon, ilat, ialt)'] = V_n__u__pK\n",
    "kamodo['V_i__e__a__s__tK(ilon, ilat, ialt)'] = V_i__e__a__s__tK\n",
    "kamodo['NOK(ilon, ilat, ialt)'] = NOK\n",
    "kamodo['N_2K(ilon, ilat, ialt)'] = N_2K\n",
    "kamodo['NO__plusK(ilon, ilat, ialt)'] = NO__plusK\n",
    "kamodo['OLEFT3PRIGHTK(ilon, ilat, ialt)'] = OLEFT3PRIGHTK\n",
    "kamodo['O__plus_4SP_K(ilon, ilat, ialt)'] = O__plus_4SP_K\n",
    "kamodo['eminusK(ilon, ilat, ialt)'] = eminusK\n",
    "kamodo['V_i__u__pK(ilon, ilat, ialt)'] = V_i__u__pK\n",
    "kamodo['N_2__plusK(ilon, ilat, ialt)'] = N_2__plusK\n",
    "kamodo['V_i__n__o__r__t__hK(ilon, ilat, ialt)'] = V_i__n__o__r__t__hK\n",
    "kamodo['V_n__e__a__s__tK(ilon, ilat, ialt)'] = V_n__e__a__s__tK\n",
    "kamodo['O_2__plusK(ilon, ilat, ialt)'] = O_2__plusK\n",
    "kamodo['O_2K(ilon, ilat, ialt)'] = O_2K\n",
    "kamodo['V_n__n__o__r__t__hK(ilon, ilat, ialt)'] = V_n__n__o__r__t__hK"
   ]
  },
  {
   "cell_type": "code",
   "execution_count": null,
   "metadata": {},
   "outputs": [],
   "source": [
    "resultsALL = []\n",
    "\n",
    "results = kamodo.evaluate('rhoK', ilon = ilon, ilat = ilat, ialt=ialt)\n",
    "resultsALL.append(results['rhoK'])\n",
    "\n",
    "results = kamodo.evaluate('NeutralTemperatureK', ilon = ilon, ilat = ilat, ialt=ialt)\n",
    "resultsALL.append(results['NeutralTemperatureK'])\n",
    "\n",
    "results = kamodo.evaluate('V_n__u__pK', ilon = ilon, ilat = ilat, ialt=ialt)\n",
    "resultsALL.append(results['V_n__u__pK'])\n",
    "\n",
    "results = kamodo.evaluate('V_i__e__a__s__tK', ilon = ilon, ilat = ilat, ialt=ialt)\n",
    "resultsALL.append(results['V_i__e__a__s__tK'])\n",
    "\n",
    "results = kamodo.evaluate('NOK', ilon = ilon, ilat = ilat, ialt=ialt)\n",
    "resultsALL.append(results['NOK'])\n",
    "\n",
    "results = kamodo.evaluate('N_2K', ilon = ilon, ilat = ilat, ialt=ialt)\n",
    "resultsALL.append(results['N_2K'])\n",
    "\n",
    "results = kamodo.evaluate('NO__plusK', ilon = ilon, ilat = ilat, ialt=ialt)\n",
    "resultsALL.append(results['NO__plusK'])\n",
    "\n",
    "results = kamodo.evaluate('OLEFT3PRIGHTK', ilon = ilon, ilat = ilat, ialt=ialt)\n",
    "resultsALL.append(results['OLEFT3PRIGHTK'])\n",
    "\n",
    "results = kamodo.evaluate('O__plus_4SP_K', ilon = ilon, ilat = ilat, ialt=ialt)\n",
    "resultsALL.append(results['O__plus_4SP_K'])\n",
    "\n",
    "results = kamodo.evaluate('eminusK', ilon = ilon, ilat = ilat, ialt=ialt)\n",
    "resultsALL.append(results['eminusK'])\n",
    "\n",
    "results = kamodo.evaluate('V_i__u__pK', ilon = ilon, ilat = ilat, ialt=ialt)\n",
    "resultsALL.append(results['V_i__u__pK'])\n",
    "\n",
    "results = kamodo.evaluate('N_2__plusK', ilon = ilon, ilat = ilat, ialt=ialt)\n",
    "resultsALL.append(results['N_2__plusK'])\n",
    "\n",
    "results = kamodo.evaluate('V_i__n__o__r__t__hK', ilon = ilon, ilat = ilat, ialt=ialt)\n",
    "resultsALL.append(results['V_i__n__o__r__t__hK'])\n",
    "\n",
    "results = kamodo.evaluate('V_n__e__a__s__tK', ilon = ilon, ilat = ilat, ialt=ialt)\n",
    "resultsALL.append(results['V_n__e__a__s__tK'])\n",
    "\n",
    "results = kamodo.evaluate('O_2__plusK', ilon = ilon, ilat = ilat, ialt=ialt)\n",
    "resultsALL.append(results['O_2__plusK'])\n",
    "\n",
    "results = kamodo.evaluate('O_2K', ilon = ilon, ilat = ilat, ialt=ialt)\n",
    "resultsALL.append(results['O_2K'])\n",
    "\n",
    "results = kamodo.evaluate('V_n__n__o__r__t__hK', ilon = ilon, ilat = ilat, ialt=ialt)\n",
    "resultsALL.append(results['V_n__n__o__r__t__hK'])"
   ]
  },
  {
   "cell_type": "code",
   "execution_count": null,
   "metadata": {},
   "outputs": [],
   "source": [
    "#len(resultsALL)\n",
    "#resultsALL"
   ]
  },
  {
   "cell_type": "code",
   "execution_count": null,
   "metadata": {},
   "outputs": [],
   "source": [
    "head, tail = os.path.split(datafile)\n",
    "idx1 = tail.find('_')\n",
    "idx2 = tail.find('.')\n",
    "newfile = '400km' + tail[idx1:idx2] + '.dat'\n",
    "outF = open(newfile, \"w\")\n",
    "header=\"#GITM 2x2 degree grid extracted at 400km\\n#run = nnn\\n#datafile = \" + tail + \"\\nLatitude Longitude \" + \" \".join(\"%s\" % n for n in newvars) + \"\\n\"\n",
    "outF.write(header)\n",
    "i = 0\n",
    "while i < len(ilat):\n",
    "    latv = ilat[i]\n",
    "    j = 0\n",
    "    while j < len(ilon):\n",
    "        lonv = ilon[j]\n",
    "        vv = []\n",
    "        n = 0\n",
    "        while n < len(newvars):\n",
    "            vv.append(resultsALL[n][i][j])\n",
    "            n += 1\n",
    "        line = '{:.0f} {:.0f} '.format(latv, lonv) + \" \".join(\"%.5e\" % n for n in vv) + \"\\n\"\n",
    "        outF.write(line)\n",
    "        j += 1\n",
    "    i += 1\n",
    "\n",
    "outF.close()"
   ]
  },
  {
   "cell_type": "code",
   "execution_count": null,
   "metadata": {},
   "outputs": [],
   "source": []
  },
  {
   "cell_type": "markdown",
   "metadata": {},
   "source": [
    "# Plotting and other misc stuff ..."
   ]
  },
  {
   "cell_type": "code",
   "execution_count": null,
   "metadata": {},
   "outputs": [],
   "source": [
    "# 3D plot of density at 400km altitude\n",
    "iplot(kamodo.plot(rhoK = dict(ilon = ilon, ilat = ilat, ialt = ialt)))"
   ]
  },
  {
   "cell_type": "code",
   "execution_count": null,
   "metadata": {},
   "outputs": [],
   "source": [
    "def rhoK2D(ilon, ilat):\n",
    "    return kamodo.rho(ilon, ilat.reshape(-1,1), ialt)\n",
    "\n",
    "kamodo['rhoK2D(ilon, ilat)'] = rhoK2D"
   ]
  },
  {
   "cell_type": "code",
   "execution_count": null,
   "metadata": {},
   "outputs": [],
   "source": [
    "# 2D plot of density at 400km altitude\n",
    "iplot(kamodo.plot(rhoK2D = dict(ilon = ilon, ilat = ilat)))"
   ]
  },
  {
   "cell_type": "code",
   "execution_count": null,
   "metadata": {},
   "outputs": [],
   "source": [
    "# 3D plot of density at 400km altitude in spherical coords\n",
    "kamodo['Srho'] = 'rho(LON, LAT, ALT)'\n",
    "alt_slice = 400000.\n",
    "llon, llat = np.meshgrid(np.array(lon), np.array(lat))\n",
    "iplot(kamodo.plot(Srho = dict(\n",
    "        x = sphere.x(llon, llat, alt_slice),\n",
    "        y = sphere.y(llon, llat, alt_slice),\n",
    "        z = sphere.z(alt_slice, llat))))"
   ]
  },
  {
   "cell_type": "code",
   "execution_count": null,
   "metadata": {},
   "outputs": [],
   "source": []
  },
  {
   "cell_type": "code",
   "execution_count": null,
   "metadata": {},
   "outputs": [],
   "source": [
    "results = kamodo.evaluate('rhoK2D', ilon = ilon, ilat = ilat)\n",
    "results['rhoK2D']\n",
    "results"
   ]
  },
  {
   "cell_type": "code",
   "execution_count": null,
   "metadata": {},
   "outputs": [],
   "source": []
  },
  {
   "cell_type": "code",
   "execution_count": null,
   "metadata": {},
   "outputs": [],
   "source": [
    "for k,v in gData.items():\n",
    "    print(k)"
   ]
  },
  {
   "cell_type": "code",
   "execution_count": null,
   "metadata": {},
   "outputs": [],
   "source": [
    "print (gData['Rho (kg/m3)'].attrs)\n",
    "#print gData.attrs"
   ]
  },
  {
   "cell_type": "code",
   "execution_count": null,
   "metadata": {},
   "outputs": [],
   "source": []
  },
  {
   "cell_type": "markdown",
   "metadata": {},
   "source": [
    "## Plot a dummy trajectory over the plot"
   ]
  },
  {
   "cell_type": "code",
   "execution_count": null,
   "metadata": {},
   "outputs": [],
   "source": [
    "def trajectory(t = np.linspace(0, 360, 60)):\n",
    "    lon = t\n",
    "    lat = 50*np.sin(2*np.pi*t/360)\n",
    "    return np.vstack((lon, lat)).T"
   ]
  },
  {
   "cell_type": "code",
   "execution_count": null,
   "metadata": {},
   "outputs": [],
   "source": [
    "kamodo['sat'] = trajectory"
   ]
  },
  {
   "cell_type": "code",
   "execution_count": null,
   "metadata": {},
   "outputs": [],
   "source": [
    "iplot(kamodo.plot( 'sat'))"
   ]
  },
  {
   "cell_type": "code",
   "execution_count": null,
   "metadata": {},
   "outputs": [],
   "source": [
    "iplot(kamodo.plot('sat', rhoK2D = dict(ilon = ilon, ilat = ilat)))"
   ]
  },
  {
   "cell_type": "code",
   "execution_count": null,
   "metadata": {},
   "outputs": [],
   "source": []
  },
  {
   "cell_type": "markdown",
   "metadata": {},
   "source": [
    "## Extract values on trajectory\n",
    "- currently reading an ASCII DMSP file\n",
    "- does not handle periodicity well (convert to XYZ from LAT/LON to show better)\n",
    "- timestamp in file is number of seconds in the day"
   ]
  },
  {
   "cell_type": "code",
   "execution_count": null,
   "metadata": {},
   "outputs": [],
   "source": [
    "import pandas as pd\n",
    "import glob"
   ]
  },
  {
   "cell_type": "code",
   "execution_count": null,
   "metadata": {},
   "outputs": [],
   "source": [
    "# This reads in a DMSP orbit file to get positions\n",
    "files = glob.glob('../../../data/f13*')\n",
    "datafile = files[0]\n",
    "datafile"
   ]
  },
  {
   "cell_type": "code",
   "execution_count": null,
   "metadata": {},
   "outputs": [],
   "source": [
    "df = pd.read_csv(datafile, delimiter= '\\s+', index_col=False)\n",
    "df"
   ]
  },
  {
   "cell_type": "code",
   "execution_count": null,
   "metadata": {},
   "outputs": [],
   "source": [
    "# Defaults to row basis, so transpose it to get the columns I want as a numpy array\n",
    "import time\n",
    "import datetime\n",
    "\n",
    "new=(df.to_numpy()).transpose()\n",
    "tmpDate=new[0]\n",
    "tmpTime=new[1]\n",
    "dAlt=new[4]\n",
    "dGLAT=new[5]\n",
    "dGLONG=new[6]\n",
    "dTime = []\n",
    "for i in range(len(tmpTime)):\n",
    "    d = tmpDate[0]\n",
    "    y= int(str(d)[0:3])+1900\n",
    "    doy = int(str(d)[3:6])\n",
    "    d = str(datetime.datetime(y, 1, 1) + datetime.timedelta(doy - 1))[0:10]\n",
    "    t = time.strftime('%H:%M:%S', time.gmtime(tmpTime[i]))\n",
    "    dTime.append(d + ' ' + t)\n",
    "\n",
    "print(tmpDate[0],tmpTime[0],' ==>',dTime[0],'\\n',dAlt,'\\n',dGLAT,'\\n',dGLONG)"
   ]
  },
  {
   "cell_type": "code",
   "execution_count": null,
   "metadata": {},
   "outputs": [],
   "source": [
    "# Force altitude to 400km as actual DMSP position is outside of simulation\n",
    "dRho = []\n",
    "for i in range(len(dAlt)):\n",
    "    tmplon = np.array([dGLONG[i]])\n",
    "    tmplat = np.array([dGLAT[i]])\n",
    "    tmpalt = np.array([400000.])\n",
    "    results = kamodo.evaluate('rhoK', ilon = tmplon, ilat = tmplat, ialt=tmpalt)\n",
    "    newvalue = results['rhoK'][0][0]\n",
    "    dRho.append(newvalue)"
   ]
  },
  {
   "cell_type": "code",
   "execution_count": null,
   "metadata": {},
   "outputs": [],
   "source": [
    "def DMSPtrajectory1(rho = dRho):\n",
    "    lon = dGLONG\n",
    "    lat = dGLAT\n",
    "    return np.vstack((lon, lat)).T"
   ]
  },
  {
   "cell_type": "code",
   "execution_count": null,
   "metadata": {},
   "outputs": [],
   "source": [
    "def DMSPtrajectory2(rho = dRho):\n",
    "    lon = dGLONG\n",
    "    lat = dGLAT\n",
    "    time = dTime\n",
    "    return np.vstack((time, rho)).T"
   ]
  },
  {
   "cell_type": "code",
   "execution_count": null,
   "metadata": {},
   "outputs": [],
   "source": [
    "kamodo['DMSP1'] = DMSPtrajectory1"
   ]
  },
  {
   "cell_type": "code",
   "execution_count": null,
   "metadata": {},
   "outputs": [],
   "source": [
    "kamodo['DMSP2'] = DMSPtrajectory2"
   ]
  },
  {
   "cell_type": "code",
   "execution_count": null,
   "metadata": {},
   "outputs": [],
   "source": [
    "iplot(kamodo.plot( 'DMSP2' ))"
   ]
  },
  {
   "cell_type": "code",
   "execution_count": null,
   "metadata": {},
   "outputs": [],
   "source": [
    "iplot(kamodo.plot( 'DMSP1', rhoK2D = dict(ilon = ilon, ilat = ilat) ))"
   ]
  },
  {
   "cell_type": "code",
   "execution_count": null,
   "metadata": {},
   "outputs": [],
   "source": [
    "dPOS = np.array([dGLONG,dGLAT,dAlt])\n",
    "dPOS"
   ]
  },
  {
   "cell_type": "code",
   "execution_count": null,
   "metadata": {},
   "outputs": [],
   "source": []
  },
  {
   "cell_type": "code",
   "execution_count": null,
   "metadata": {},
   "outputs": [],
   "source": []
  }
 ],
 "metadata": {
  "kernelspec": {
   "display_name": "Python 3 (ipykernel)",
   "language": "python",
   "name": "python3"
  },
  "language_info": {
   "codemirror_mode": {
    "name": "ipython",
    "version": 3
   },
   "file_extension": ".py",
   "mimetype": "text/x-python",
   "name": "python",
   "nbconvert_exporter": "python",
   "pygments_lexer": "ipython3",
   "version": "3.7.13"
  }
 },
 "nbformat": 4,
 "nbformat_minor": 2
}
