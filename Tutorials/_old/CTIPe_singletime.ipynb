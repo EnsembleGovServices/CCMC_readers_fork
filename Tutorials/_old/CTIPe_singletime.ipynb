{
 "cells": [
  {
   "cell_type": "markdown",
   "metadata": {},
   "source": [
    "# CTIPe\n",
    "\n",
    "\n",
    "The kamodofied CTIPe requires `netcdf4` (and numpy, scipy, and pandas, but those are required by kamodo)\n",
    "\n",
    "    pip install netcdf4"
   ]
  },
  {
   "cell_type": "markdown",
   "metadata": {},
   "source": [
    "!!! warning\n",
    "    This is a work in progress!"
   ]
  },
  {
   "cell_type": "code",
   "execution_count": null,
   "metadata": {},
   "outputs": [],
   "source": [
    "%load_ext autoreload\n",
    "%autoreload 2"
   ]
  },
  {
   "cell_type": "code",
   "execution_count": null,
   "metadata": {},
   "outputs": [],
   "source": [
    "from netCDF4 import Dataset\n",
    "import numpy as np\n",
    "import os\n",
    "import scipy\n",
    "from scipy import interpolate\n",
    "from scipy.interpolate import RegularGridInterpolator\n",
    "import math\n",
    "import time\n",
    "import kamodo\n",
    "from datetime import datetime,timezone\n",
    "import pandas as pd\n",
    "from plotly.offline import init_notebook_mode, iplot, plot\n",
    "init_notebook_mode(connected = True)"
   ]
  },
  {
   "cell_type": "code",
   "execution_count": null,
   "metadata": {},
   "outputs": [],
   "source": [
    "#filename = '/Users/lrastaet/Kamodo_data/CTIPe/2020-05-04-plot-density.nc' # each CTIPe run has plot-density, plot-height, plot-neutral and plot-plasma files for each date\n",
    "#filename = '/Users/lrastaet/Kamodo_data/CTIPe//Sujay_Pal_042620_IT_1/2015-03-20-plot-neutral.nc'\n",
    "filename = '/Users/lrastaet/Kamodo_data/CTIPe//Sujay_Pal_042620_IT_1/2015-03-20-plot-plasma.nc'\n",
    "#filename = '/Users/lrastaet/Kamodo_data/CTIPe//Sujay_Pal_042620_IT_1/2015-03-20-plot-height.nc'\n",
    "#filename= '/Users/lrastaet/Kamodo_data/CTIPe/Sujay_Pal_042620_IT_1/2015-03-20-plot-density.nc' "
   ]
  },
  {
   "cell_type": "code",
   "execution_count": null,
   "metadata": {},
   "outputs": [],
   "source": [
    "dt=datetime.strptime(\"2015/06/12 05:07:01\",'%Y/%m/%d %H:%M:%S') #,tzinfo=timezone.utc)"
   ]
  },
  {
   "cell_type": "code",
   "execution_count": null,
   "metadata": {},
   "outputs": [],
   "source": [
    "delta_t=dt-datetime(1970,1,1)\n",
    "print(delta_t.total_seconds())"
   ]
  },
  {
   "cell_type": "code",
   "execution_count": null,
   "metadata": {},
   "outputs": [],
   "source": [
    "from readers.ctipe_singletime import CTIPe,ctipe_kamodo_variable_names\n",
    "from readers.geopack_transform import seconds_from_19700101\n",
    "def seconds_from_19700101_to_DateTime(seconds):\n",
    "    from datetime import datetime,timezone,timedelta\n",
    "    time0=datetime(1970,1,1,0,0,0,tzinfo=timezone.utc)+timedelta(seconds=seconds)\n",
    "    return time0\n",
    "from tiegcm.util import datetime_to_epoch"
   ]
  },
  {
   "cell_type": "markdown",
   "metadata": {},
   "source": [
    "By default, the kamodofied CTIPe reader will load all 3d and 4d variables from the model. For performance reasons, you may want to only include certain variables for analysis. To do so, pass a list of variables in addition to the filename:"
   ]
  },
  {
   "cell_type": "code",
   "execution_count": null,
   "metadata": {
    "scrolled": false
   },
   "outputs": [],
   "source": [
    "ctipe = CTIPe(filename,variables_requested=['T'],date=\"2015/03/20\",time=\"01:15:00\",debug=False)\n",
    "#ctipe = CTIPe(filename,debug=False)\n",
    "#ctipe = CTIPe_Kamodo(filename, ['TN', 'UN', 'VN', 'EFLUX', 'Z'])"
   ]
  },
  {
   "cell_type": "code",
   "execution_count": null,
   "metadata": {},
   "outputs": [],
   "source": [
    "ctipe"
   ]
  },
  {
   "cell_type": "code",
   "execution_count": null,
   "metadata": {},
   "outputs": [],
   "source": [
    "ctipe.set_plot('LonLat',cutV=15,latrange=dict(min=-20,max=70,n=31),lonrange=dict(min=0,max=120,n=61))\n",
    "plot=ctipe.get_plot('H',colorscale=\"Rainbow\")\n",
    "\n",
    "iplot(plot)"
   ]
  },
  {
   "cell_type": "code",
   "execution_count": null,
   "metadata": {},
   "outputs": [],
   "source": [
    "ctipe.set_plot('LatIP',cutV=50,latrange=dict(min=80,max=90),hrange=dict(min=5))\n",
    "plot=ctipe.get_plot('rho',colorscale=\"Rainbow\")\n",
    "iplot(plot)"
   ]
  },
  {
   "cell_type": "markdown",
   "metadata": {},
   "source": [
    "ctipe.set_plot('LonIP')\n",
    "plot=ctipe.get_plot('rho',colorscale=\"Rainbow\")\n",
    "iplot(plot)"
   ]
  },
  {
   "cell_type": "code",
   "execution_count": null,
   "metadata": {},
   "outputs": [],
   "source": [
    "ctipe.set_plot('LonIP',cutV=0)\n",
    "plot=ctipe.get_plot('rho',colorscale=\"Rainbow\")\n",
    "iplot(plot)"
   ]
  },
  {
   "cell_type": "code",
   "execution_count": null,
   "metadata": {},
   "outputs": [],
   "source": [
    "print(ctipe['H'].data[0,:,0,0])"
   ]
  },
  {
   "cell_type": "code",
   "execution_count": null,
   "metadata": {},
   "outputs": [],
   "source": [
    "H=ctipe['H'].data\n",
    "#hintp=RegularGridInterpolator((ctipe._time,H[0,:,0,0].flatten(),ctipe._lat_density,ctipe._lon_density),H)\n",
    "hintp=HeightInterpolator((ctipe._time,H[0,:,0,0].flatten(),ctipe._lat_density,ctipe._lon_density),H)\n"
   ]
  },
  {
   "cell_type": "code",
   "execution_count": null,
   "metadata": {},
   "outputs": [],
   "source": [
    "print(hintp([ctipe._time[0],125000.,10.3,50.3],method='linear'))\n"
   ]
  },
  {
   "cell_type": "code",
   "execution_count": null,
   "metadata": {},
   "outputs": [],
   "source": [
    "## comparison test with IDL in run \n",
    "## IDL> print,get_pointdata([50.,0.,10.])\n",
    "## % Compiled module: GET_POINTDATA_3D.\n",
    "##  5.07806e-10      188.940      19.6322     -6.30557      28.9232      1.83336      595.492  7.52705e+10  1.99925e-05   0.00973094\n",
    "##    -0.985651  1.08981e+16  1.08948e+14  4.56949e+15  1.68988e+12  1.35428e+10      6169.57  7.52248e+09      29051.7  5.42052e+10\n",
    "##  1.73583e+06  3.07283e-05  1.89448e-06     -3.32263      2.88644  1.39743e-06      0.00000      0.00000 -0.000311317 -0.000303866\n",
    "## -0.000346761 -0.000338463      36.2960      0.00000  1.38551e+12      260.000\n",
    "##IDL> print,qusntities\n",
    "##% PRINT: Variable is undefined: QUSNTITIES.\n",
    "##% Execution halted at: $MAIN$              1 /ccmcshare/IDL/3DView/ak3me.pro\n",
    "##IDL> print,quantities\n",
    "##rho H Rmt Vn_lat Vn_lon Vn_IP T_n N_e Psolar Pjoule Prad N_O N_O2 N_N2 N_NO N_NO+ N_N2+ N_O2+ N_N+ N_O+ N_H+ sigma_P sigma_H Vi_lat\n",
    "##Vi_lon Wjoule Win En_avg E140_theta E300_theta E140_lambda E300_lambda TEC_above_140km Vi_IP NmF2 HmF2\n",
    "##IDL> print,year,month,time,put_time(time)\n",
    "##        2015           3   9.9999999e-0900:00:00.0000"
   ]
  },
  {
   "cell_type": "code",
   "execution_count": null,
   "metadata": {},
   "outputs": [],
   "source": [
    "testdata=dict()\n",
    "testdata['ip']=5.5\n",
    "testdata['Height']='125'\n",
    "testdata['date']='2015/3/20'\n",
    "testdata['time']='00:15:00'\n",
    "testdata['lon']=50.\n",
    "testdata['lat']=10.\n",
    "testdata['rho']='1.49067e-07  1.64051e-08'\n",
    "testdata['H']='105.230      125.000'\n",
    "testdata['Rmt']='26.3395      23.9059'\n",
    "testdata['Vn_lat']='-0.0601084      43.4968'\n",
    "testdata['Vn_lon']='-23.2656     -3.15513'\n",
    "testdata['Vn_IP']='-0.0434272   -0.0818311'\n",
    "testdata['T']='298.432      430.817'  #T_n\n",
    "testdata['N_e']='1.06982e+08  5.90486e+08'\n",
    "testdata['Psolar']='1.10576e-06  2.72283e-06'\n",
    "testdata['Pjoule']='4.78753e-05  0.000398958'\n",
    "testdata['Prad']=' -0.210089     -1.06214'\n",
    "testdata['N_O']='4.70951e+17  1.42260e+17'\n",
    "testdata['N_O2']='3.72280e+17  1.27961e+16'\n",
    "testdata['N_N2']='2.51143e+18  2.56911e+17'\n",
    "testdata['N_NO']='6.02975e+13  3.22197e+13'\n",
    "testdata['N_NOplus']='1.06908e+08  5.04418e+08'\n",
    "testdata['N_N2plus']='4.83005     0.987384'\n",
    "testdata['N_O2plus']='74194.3  8.11062e+07'\n",
    "testdata['N_Nplus']='0.615991     0.795714'\n",
    "testdata['N_Oplus']='3.41415  4.96166e+06' #N_O+\n",
    "testdata['N_Hplus']='0.00000      32.4158'\n",
    "testdata['sigma_P']='9.66247e-07  5.87935e-06'\n",
    "testdata['sigma_H']='9.17236e-06  8.91819e-06'\n",
    "testdata['Vi_lat']='-0.723088      40.6683'\n",
    "testdata['Vi_lon']='-23.9126     -9.70373'\n",
    "testdata['Wjoule']='5.02903e-07  5.02903e-07'\n",
    "testdata['Win ']='0.00000      0.00000'\n",
    "testdata['En_avg']='0.00000      0.00000'\n",
    "testdata['E_theta140km']='-0.000191656 -0.000191656'\n",
    "testdata['E_theta300km']='-0.000187069 -0.000187069'\n",
    "testdata['E_lambda140km']='-0.000340932 -0.000340932'\n",
    "testdata['E_lambda300km']='-0.000332773 -0.000332773'\n",
    "testdata['TEC']='40.6796      40.6796'  # 'TEC_above_140km'\n",
    "testdata['Vi_IP']='0.00000      0.00000'\n",
    "testdata['NmF2']='1.57999e+12  1.57999e+12'\n",
    "testdata['HmF2']='300.000      300.000'"
   ]
  },
  {
   "cell_type": "code",
   "execution_count": null,
   "metadata": {},
   "outputs": [],
   "source": [
    "checked=dict()\n",
    "pos_ip=[ctipe._time[0],5.5,10,50]\n",
    "# the Python algortihm calculates IP and uses that for regular interpolation in grid\n",
    "# resulting in a slightly smaller height value thatn input.\n",
    "# the required input height value resulting in 125 km in the output is 126.2 km. \n",
    "# THis shift in altitude / height may vary over the longitude-latitude grid.\n",
    "# the IDL implemetnation uses the height value and interpolates at the 2 nearest (lon,lat) \n",
    "# grid stacks using the height values before applying the weights in longitude and latitude \n",
    "# to arrive at the final interpolatied value for each quantity\n",
    "# numerical value for efield parameters are different between IDL and Python\n",
    "# The efield values on the 37x73 grid are re-interpolated to the 91x20 plasma grid, a step not performed in Python\n",
    "#\n",
    "#pos_h=[ctipe._time[0],126200.,10,50]\n",
    "pos_h=[ctipe._time[0],125000.,10,50]\n",
    "print('pos:    %12.4g %12.4g %12.4g %12.4g' % (pos_ip[0],pos_ip[1],pos_ip[2],pos_ip[3]))\n",
    "print('pos_h:  %12.4g %12.4g %12.4g %12.4g' % (pos_h[0],pos_h[1],pos_h[2],pos_h[3]))\n",
    "ilev=ctipe.lev_density(ctipe,t=pos_h[0],z=pos_h[1],lon=pos_h[2],lat=pos_h[3])\n",
    "#ilev=ctipe.lev_density_log(ctipe,t=pos_h[0],z=pos_h[1],lon=pos_h[2],lat=pos_h[3])\n",
    "pos_h_ip=pos_h.copy() # lists may be assigned by reference unless using copy()\n",
    "pos_h_ip[1]=ilev\n",
    "print(pos_h_ip)\n",
    "for var in ctipe:\n",
    "    if var.name not in checked:  # prevent duplication\n",
    "        checked[var.name]=1   #\n",
    "        \n",
    "        try:\n",
    "            val_ip=np.squeeze(np.array(ctipe[var](pos_ip[0],pos_ip[1],pos_ip[2],pos_ip[3])))\n",
    "        except:\n",
    "            val_ip=np.squeeze(np.array(ctipe[var](pos_ip[0],pos_ip[2],pos_ip[3])))\n",
    "        try:\n",
    "            val_h=np.squeeze(np.array(ctipe[var](pos_h[0],ilev,pos_h[2],pos_h[3])))\n",
    "        except:\n",
    "            val_h=np.squeeze(np.array(ctipe[var](pos_h[0],pos_h[2],pos_h[3])))\n",
    "#        try:\n",
    "        val_h2=np.squeeze(np.array(ctipe.vert_interp(var,pos_h[0],pos_h[1],pos_h[2],pos_h[3])))\n",
    "#        except:\n",
    "#            val_h2=np.NaN # np.squeeze(np.array(ctipe[var](pos_h[0],pos_h[2],pos_h[3])))\n",
    "        if var.name in testdata:\n",
    "            print(\"%s %12.4g %12.4g %12.4g IDL: %s\" % (var,val_ip,val_h,val_h2,testdata[var.name]))\n",
    "        else:\n",
    "            print(\"%s %12.4g %12.4g  IDL: %s\" % (var,val_ip,val_h,\"---\"))\n",
    "#          print(var,np.squeeze(np.array(ctipe[var](positions[0],positions[2],positions[3]))))\n",
    "#            except:\n",
    "#                val_ip=np.squeeze(np.array(ctipe[var](pos_ip[0],pos_ip[1],pos_ip[2],pos_ip[3])))\n",
    "#                val_h=np.squeeze(np.array(ctipe[var](positions[0],ilev,positions[2],positions[3])))\n",
    "#                print(var,val_ip,val_h)\n",
    "##                print(var,np.squeeze(np.array(ctipe[var]([positions[0],positions[1],positions[2],positions[3]]))))"
   ]
  },
  {
   "cell_type": "code",
   "execution_count": null,
   "metadata": {},
   "outputs": [],
   "source": [
    "ctipe.lev_density(ctipe,ctipe._time[0],125000.,30.,20.)"
   ]
  },
  {
   "cell_type": "code",
   "execution_count": null,
   "metadata": {},
   "outputs": [],
   "source": [
    "ctipe._ctipe_density.variables['height'].data.shape"
   ]
  },
  {
   "cell_type": "code",
   "execution_count": null,
   "metadata": {},
   "outputs": [],
   "source": [
    "print(pos_h)\n",
    "ctipe.vert_interp('rho',pos_h[0],pos_h[1],pos_h[2],pos_h[3])"
   ]
  },
  {
   "cell_type": "code",
   "execution_count": null,
   "metadata": {},
   "outputs": [],
   "source": [
    "lon=pos_h[2]\n",
    "lat=pos_h[3]\n",
    "lon_rep=np.repeat(lon,len(ctipe._ilev_density))\n",
    "lat_rep=np.repeat(lat,len(ctipe._ilev_density))\n",
    "xvec=np.vstack((ctipe._ilev_density,lat_rep,lon_rep)).T\n",
    "print(lon_rep)\n",
    "print(lat_rep)\n",
    "print(ctipe._ilev_density)\n",
    "print(xvec)"
   ]
  },
  {
   "cell_type": "code",
   "execution_count": null,
   "metadata": {},
   "outputs": [],
   "source": [
    "z_levels=np.squeeze(np.log(ctipe.H(t = ctipe._time[0], lat = 30., lon = 20.)))"
   ]
  },
  {
   "cell_type": "code",
   "execution_count": null,
   "metadata": {},
   "outputs": [],
   "source": [
    "ctipe._ilev_neutral"
   ]
  },
  {
   "cell_type": "code",
   "execution_count": null,
   "metadata": {},
   "outputs": [],
   "source": [
    "from scipy.interpolate import RegularGridInterpolator, interp1d\n",
    "level = interp1d(z_levels, ctipe._ilev_density, bounds_error=False)"
   ]
  },
  {
   "cell_type": "code",
   "execution_count": null,
   "metadata": {},
   "outputs": [],
   "source": [
    "z_levels_abs=np.exp(z_levels)\n",
    "level_abs = interp1d(z_levels_abs, ctipe._ilev_density, bounds_error=False)"
   ]
  },
  {
   "cell_type": "code",
   "execution_count": null,
   "metadata": {},
   "outputs": [],
   "source": [
    "np.array(np.where(ctipe._lon_density <= 0.)).max()"
   ]
  },
  {
   "cell_type": "code",
   "execution_count": null,
   "metadata": {},
   "outputs": [],
   "source": [
    "from scipy.interpolate import interp1d\n",
    "import numpy as np\n",
    "#@np.vectorize\n",
    "def ctipe_vert_interp(self,varname,time,z,lat,lon):\n",
    "    data=self[varname].data\n",
    "    lons=self._lon_density\n",
    "    lats=self._lat_density\n",
    "    times=self._time\n",
    "    #H=np.log(self['H'].data)\n",
    "    H=self['H'].data\n",
    "\n",
    "    ilon=np.array(np.where(lons[0:-1] <= lon)).max()\n",
    "    if ilon == len(lons):\n",
    "        ilon=ilon-1\n",
    "    w0_lon=(lons[ilon+1]-lon)/(lons[ilon+1]-lons[ilon])\n",
    "    print('ILON=%d W0=%f' %( ilon, w0_lon))\n",
    "\n",
    "    ilat=np.array(np.where(lats[0:-1] <= lat)).max()\n",
    "    if ilat == len(lats):\n",
    "        ilat=ilat-1\n",
    "    w0_lat=(lats[ilat+1]-lat)/(lats[ilat+1]-lats[ilat])\n",
    "    print('ILAT=%d W0=%f' %( ilat, w0_lat) )\n",
    "\n",
    "    itime=np.array(np.where(times <= time)).max()\n",
    "# need to load next day's data and use itime=0 from there\n",
    "    if itime == len(times):  \n",
    "        itime=ilime-1                               \n",
    "    w0_time=(times[itime+1]-time)/(times[itime+1]-times[itime])\n",
    "    print('ITIME=%d W0=%f' %( itime, w0_time) )\n",
    "    h_000=np.squeeze(H[itime,:,ilat,ilon])               \n",
    "    d_000=np.squeeze(data[itime,:,ilat,ilon])\n",
    "    int000=interp1d(h_000,d_000,bounds_error=False)\n",
    "    print('Lons: ',lons.shape)\n",
    "    print('Lats: ',lats.shape)\n",
    "    print('Height: ',H.shape)\n",
    "    print('Data:' ,data.shape)\n",
    "    \n",
    "    ilon1=ilon+1\n",
    "    ilat1=ilat+1\n",
    "    itime1=itime+1\n",
    "\n",
    "    w1_lon=1.-w0_lon\n",
    "    w1_lat=1-w0_lat\n",
    "    w1_time=1-w0_time\n",
    "    \n",
    "    h_000=np.squeeze(H[itime,:,ilat,ilon])               \n",
    "    d_000=np.squeeze(data[itime,:,ilat,ilon])\n",
    "    int000=interp1d(h_000,d_000,bounds_error=False)\n",
    "    \n",
    "    h_001=np.squeeze(H[itime,:,ilat,ilon1])               \n",
    "    d_001=np.squeeze(data[itime,:,ilat,ilon+1])\n",
    "    int001=interp1d(h_000,d_000,bounds_error=False)\n",
    "    \n",
    "    h_010=np.squeeze(H[itime,:,ilat1,ilon])               \n",
    "    d_010=np.squeeze(data[itime,:,ilat+1,ilon])\n",
    "    int010=interp1d(h_000,d_000,bounds_error=False)\n",
    "    \n",
    "    h_011=np.squeeze(H[itime,:,ilat1,ilon1])               \n",
    "    d_011=np.squeeze(data[itime,:,ilat+1,ilon+1])\n",
    "    int011=interp1d(h_000,d_000,bounds_error=False)\n",
    "    \n",
    "    h_100=np.squeeze(H[itime+1,:,ilat,ilon])               \n",
    "    d_100=np.squeeze(data[itime+1,:,ilat,ilon])\n",
    "    int100=interp1d(h_000,d_000,bounds_error=False)\n",
    "    \n",
    "    h_101=np.squeeze(H[itime1,:,ilat,ilon1])               \n",
    "    d_101=np.squeeze(data[itime1,:,ilat,ilon1])\n",
    "    int101=interp1d(h_000,d_000,bounds_error=False)\n",
    "    \n",
    "    h_110=np.squeeze(H[itime1,:,ilat1,ilon])               \n",
    "    d_110=np.squeeze(data[itime1,:,ilat1,ilon])\n",
    "    int110=interp1d(h_000,d_000,bounds_error=False)\n",
    "    \n",
    "    h_111=np.squeeze(H[itime1,:,ilat1,ilon1])               \n",
    "    d_111=np.squeeze(data[itime1,:,ilat1,ilon1])\n",
    "    int111=interp1d(h_000,d_000,bounds_error=False)\n",
    "    #zlog=np.log(z)                           \n",
    "    zlog=z\n",
    "    return(int000(zlog)*w0_lon*w0_lat*w0_time\n",
    "        +int001(zlog)*w1_lon*w0_lat*w0_time\n",
    "        +int010(zlog)*w0_lon*w1_lat*w0_time\n",
    "        +int011(zlog)*w1_lon*w1_lat*w0_time\n",
    "        +int100(zlog)*w0_lon*w0_lat*w1_time\n",
    "        +int101(zlog)*w1_lon*w0_lat*w1_time\n",
    "        +int110(zlog)*w0_lon*w1_lat*w1_time\n",
    "        +int111(zlog)*w1_lon*w1_lat*w1_time\n",
    "          )\n",
    "    \n",
    "    "
   ]
  },
  {
   "cell_type": "code",
   "execution_count": null,
   "metadata": {},
   "outputs": [],
   "source": [
    "pos_h=[ctipe._time[0],125000.,10,50]\n",
    "print(ctipe.vert_interp('H',ctipe._time[0],125000.,10,50.))"
   ]
  },
  {
   "cell_type": "code",
   "execution_count": null,
   "metadata": {},
   "outputs": [],
   "source": [
    "print(ctipe_vert_interp(ctipe,'rho',ctipe._time[0],125000.,10,50.))\n"
   ]
  },
  {
   "cell_type": "code",
   "execution_count": null,
   "metadata": {},
   "outputs": [],
   "source": [
    "H=np.array([[1.,2.,3.],[4.,5.,6.]])"
   ]
  },
  {
   "cell_type": "code",
   "execution_count": null,
   "metadata": {},
   "outputs": [],
   "source": [
    "print(H.shape)"
   ]
  },
  {
   "cell_type": "code",
   "execution_count": null,
   "metadata": {},
   "outputs": [],
   "source": []
  }
 ],
 "metadata": {
  "kernelspec": {
   "display_name": "Python 3 (ipykernel)",
   "language": "python",
   "name": "python3"
  },
  "language_info": {
   "codemirror_mode": {
    "name": "ipython",
    "version": 3
   },
   "file_extension": ".py",
   "mimetype": "text/x-python",
   "name": "python",
   "nbconvert_exporter": "python",
   "pygments_lexer": "ipython3",
   "version": "3.7.13"
  }
 },
 "nbformat": 4,
 "nbformat_minor": 2
}
