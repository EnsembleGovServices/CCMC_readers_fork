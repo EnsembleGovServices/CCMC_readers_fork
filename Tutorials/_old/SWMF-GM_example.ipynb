{
 "cells": [
  {
   "cell_type": "markdown",
   "metadata": {},
   "source": [
    "# Kamodo SWMF-GM 3D simulation output reader"
   ]
  },
  {
   "cell_type": "markdown",
   "metadata": {},
   "source": [
    "This reader requires some other packages to be installed."
   ]
  },
  {
   "cell_type": "markdown",
   "metadata": {},
   "source": [
    "pip install requests"
   ]
  },
  {
   "cell_type": "markdown",
   "metadata": {},
   "source": [
    "conda install -c plotly plotly-orca"
   ]
  },
  {
   "cell_type": "code",
   "execution_count": null,
   "metadata": {},
   "outputs": [],
   "source": [
    "import kamodo\n",
    "from readers.swmf_gm import SWMF_GM\n",
    "from readers.swmf_gm import show_GM_files\n",
    "\n",
    "import glob\n",
    "import numpy as np\n",
    "from plotly.offline import init_notebook_mode, iplot, plot\n",
    "init_notebook_mode(connected = True)"
   ]
  },
  {
   "cell_type": "code",
   "execution_count": null,
   "metadata": {},
   "outputs": [],
   "source": [
    "runpath = \"../../../data/\"\n",
    "runname = \"weili_jiang_031012_4\"\n",
    "file = show_GM_files(runpath, runname)"
   ]
  },
  {
   "cell_type": "code",
   "execution_count": null,
   "metadata": {},
   "outputs": [],
   "source": [
    "# Select the data file\n",
    "runpath = \"../../../data/\"\n",
    "runname = \"weili_jiang_031012_4\"\n",
    "files = glob.glob(runpath+runname+'/IO2/3d*.out')\n",
    "files.sort()\n",
    "file = files[-1]\n",
    "\n",
    "model = SWMF_GM(file, runpath=runpath, runname=runname)\n",
    "#model"
   ]
  },
  {
   "cell_type": "code",
   "execution_count": null,
   "metadata": {},
   "outputs": [],
   "source": [
    "model.set_plot('XY')\n",
    "fig = model.get_plot('p')\n",
    "iplot(fig)"
   ]
  },
  {
   "cell_type": "code",
   "execution_count": null,
   "metadata": {},
   "outputs": [],
   "source": [
    "model.set_plot('XZ')"
   ]
  },
  {
   "cell_type": "code",
   "execution_count": null,
   "metadata": {},
   "outputs": [],
   "source": [
    "fig = model.get_plot('p')\n",
    "iplot(fig)"
   ]
  },
  {
   "cell_type": "code",
   "execution_count": null,
   "metadata": {},
   "outputs": [],
   "source": [
    "# This figure can be saved as a PNG, self-contained interactable html file, and a DIV to include in a web page.\n",
    "#fig.write_image(\"Yslice.png\")\n",
    "#fig.write_html(\"Yslice.html\")\n",
    "#fig.write_html(\"Yslice.div\",full_html=False)"
   ]
  },
  {
   "cell_type": "code",
   "execution_count": null,
   "metadata": {},
   "outputs": [],
   "source": [
    "model.set_plot('XYZ')"
   ]
  },
  {
   "cell_type": "code",
   "execution_count": null,
   "metadata": {},
   "outputs": [],
   "source": [
    "fig = model.get_plot('p', colorscale=\"Rainbow\")\n",
    "iplot(fig)"
   ]
  },
  {
   "cell_type": "code",
   "execution_count": null,
   "metadata": {},
   "outputs": [],
   "source": [
    "fig.update_traces(hovertemplate=\"X: %{x:.2f}<br>Y: %{y:.2f}<br>Z: %{z:.2f}<br>contour min/max %{data.cmin:.4f} / %{data.cmax:.4f}\")\n",
    "iplot(fig)"
   ]
  },
  {
   "cell_type": "code",
   "execution_count": null,
   "metadata": {},
   "outputs": [],
   "source": [
    "model.set_plot('YZ', cutV = 0.)"
   ]
  },
  {
   "cell_type": "code",
   "execution_count": null,
   "metadata": {
    "scrolled": false
   },
   "outputs": [],
   "source": [
    "fig = model.get_plot('ux', colorscale=\"BlueRed\", sym=\"T\")\n",
    "iplot(fig)"
   ]
  },
  {
   "cell_type": "code",
   "execution_count": null,
   "metadata": {},
   "outputs": [],
   "source": []
  },
  {
   "cell_type": "markdown",
   "metadata": {},
   "source": [
    "# Interpolation can be imprecise, see example below:"
   ]
  },
  {
   "cell_type": "code",
   "execution_count": null,
   "metadata": {
    "scrolled": true
   },
   "outputs": [],
   "source": [
    "help(model.GMinterpolate)"
   ]
  },
  {
   "cell_type": "code",
   "execution_count": null,
   "metadata": {},
   "outputs": [],
   "source": [
    "a=np.array([[10.,-3.,0.]], dtype=np.float32)\n",
    "print(a,a.shape)\n",
    "b=model.p(a)\n",
    "print('result is ',b,' shape = ',b.shape)"
   ]
  },
  {
   "cell_type": "code",
   "execution_count": null,
   "metadata": {},
   "outputs": [],
   "source": [
    "a=np.array([[10.,-3.,0.],[10.,-4.,0.],[10.,-3.5,0.]], dtype=np.float32)\n",
    "print(a,a.shape)\n",
    "b=model.p(a)\n",
    "print('result is ',b,' shape = ',b.shape)"
   ]
  },
  {
   "cell_type": "code",
   "execution_count": null,
   "metadata": {},
   "outputs": [],
   "source": []
  }
 ],
 "metadata": {
  "kernelspec": {
   "display_name": "Python 3 (ipykernel)",
   "language": "python",
   "name": "python3"
  },
  "language_info": {
   "codemirror_mode": {
    "name": "ipython",
    "version": 3
   },
   "file_extension": ".py",
   "mimetype": "text/x-python",
   "name": "python",
   "nbconvert_exporter": "python",
   "pygments_lexer": "ipython3",
   "version": "3.7.13"
  }
 },
 "nbformat": 4,
 "nbformat_minor": 4
}
