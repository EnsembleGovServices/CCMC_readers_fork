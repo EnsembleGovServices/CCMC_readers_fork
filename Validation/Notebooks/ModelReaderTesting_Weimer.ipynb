{
 "cells": [
  {
   "cell_type": "markdown",
   "metadata": {},
   "source": [
    "# Demo notebook for Model Reader"
   ]
  },
  {
   "cell_type": "code",
   "execution_count": null,
   "metadata": {},
   "outputs": [],
   "source": [
    "# Delete the time files before running.\n",
    "model = 'Weimer'\n",
    "variables_requested = ['Phi', 'Psi']  # one variable from each coordinate\n",
    "# The second variable is included here just for reader testing not validation.\n",
    "# change file path to where data is stored on your machine\n",
    "file_dir = 'D:/Weimer/Dibyendu_Sur_071122_IT_1/'\n",
    "from os.path import isfile\n",
    "from os import remove\n",
    "if isfile(file_dir+model+'_times.txt'):\n",
    "    remove(file_dir+model+'_times.txt')\n",
    "if isfile(file_dir+model+'_list.txt'):\n",
    "    remove(file_dir+model+'_list.txt')"
   ]
  },
  {
   "cell_type": "code",
   "execution_count": null,
   "metadata": {},
   "outputs": [],
   "source": [
    "# confirm MW functions work appropriately with model varnames dictionary\n",
    "import kamodo_ccmc.flythrough.model_wrapper as MW\n",
    "MW.Variable_Search('potential')"
   ]
  },
  {
   "cell_type": "code",
   "execution_count": null,
   "metadata": {},
   "outputs": [],
   "source": [
    "MW.Variable_Search('potential', model)"
   ]
  },
  {
   "cell_type": "code",
   "execution_count": null,
   "metadata": {},
   "outputs": [],
   "source": [
    "MW.Variable_Search('potential', model, file_dir)"
   ]
  },
  {
   "cell_type": "code",
   "execution_count": null,
   "metadata": {},
   "outputs": [],
   "source": [
    "MW.Var_3D(model)"
   ]
  },
  {
   "cell_type": "code",
   "execution_count": null,
   "metadata": {},
   "outputs": [],
   "source": [
    "MW.Var_units(model, variables_requested)"
   ]
  },
  {
   "cell_type": "code",
   "execution_count": null,
   "metadata": {},
   "outputs": [],
   "source": [
    "# Confirm time method works with model reader\n",
    "MW.File_Times(model, file_dir)"
   ]
  },
  {
   "cell_type": "code",
   "execution_count": null,
   "metadata": {},
   "outputs": [],
   "source": [
    "# Confirm file list method works with model reader\n",
    "MW.File_List(model, file_dir)"
   ]
  },
  {
   "cell_type": "code",
   "execution_count": null,
   "metadata": {},
   "outputs": [],
   "source": [
    "# Check that time files creation works, that reader works for one variable,\n",
    "# and that an unknown variable request does not break it.\n",
    "reader = MW.Model_Reader(model)\n",
    "kamodo_object = reader(file_dir, variables_requested=['Trash'])\n",
    "kamodo_object"
   ]
  },
  {
   "cell_type": "code",
   "execution_count": null,
   "metadata": {},
   "outputs": [],
   "source": [
    "# Check that reader works for one variable with an unknown variable\n",
    "kamodo_object = reader(file_dir, variables_requested=['Trash', variables_requested[0]])\n",
    "kamodo_object"
   ]
  },
  {
   "cell_type": "code",
   "execution_count": null,
   "metadata": {},
   "outputs": [],
   "source": [
    "# Test model reader with one variable from each coordinate system\n",
    "kamodo_object = reader(file_dir, variables_requested=variables_requested)\n",
    "kamodo_object"
   ]
  },
  {
   "cell_type": "code",
   "execution_count": null,
   "metadata": {},
   "outputs": [],
   "source": [
    "# Check that reading the time files works and that reader works for one variable,\n",
    "kamodo_object = reader(file_dir, variables_requested=variables_requested[:1])\n",
    "kamodo_object"
   ]
  },
  {
   "cell_type": "code",
   "execution_count": null,
   "metadata": {},
   "outputs": [],
   "source": [
    "# Confirm that interpolation works. \n",
    "from math import isnan\n",
    "print(kamodo_object.Phi([0.5, 10., 60.]))\n",
    "if isnan(kamodo_object.Phi([0.5, 10., 60.])[0]):\n",
    "    raise AttributeError('Returned value is a NaN.')\n",
    "else:\n",
    "    print('Value is valid.')\n",
    "print(kamodo_object.Phi_ijk(time=0.5, lon=10., lat=60.))\n",
    "if isnan(kamodo_object.Phi_ijk(time=0.5, lon=10., lat=60.)):\n",
    "    raise AttributeError('Returned value is a NaN.')\n",
    "else:\n",
    "    print('Value is valid.')\n",
    "if not kamodo_object.Phi([0.5, 10., 60.]) == kamodo_object.Phi_ijk(time=0.5, lon=10., lat=60.):\n",
    "    raise AttributeError('Values are not equal.')\n",
    "else:\n",
    "    print('Values are equal.')\n",
    "print(kamodo_object.Phi_ijk(time=0.5).shape)"
   ]
  },
  {
   "cell_type": "code",
   "execution_count": null,
   "metadata": {},
   "outputs": [],
   "source": [
    "# Check that reading the time files works, and that the reader works for all variables\n",
    "kamodo_object = reader(file_dir)\n",
    "kamodo_object"
   ]
  },
  {
   "cell_type": "code",
   "execution_count": null,
   "metadata": {},
   "outputs": [],
   "source": [
    "# Get a list of all of the functionalized variables, both regular and gridded\n",
    "var_list = list(MW.Variable_Search('', model, file_dir, return_dict=True).keys())\n",
    "varijk_list = sorted(var_list + [item+'_ijk' for item in var_list])\n",
    "varijk_list"
   ]
  },
  {
   "cell_type": "code",
   "execution_count": null,
   "metadata": {},
   "outputs": [],
   "source": [
    "# Test coordinate range logic for all variables\n",
    "MW.Coord_Range(kamodo_object, varijk_list)"
   ]
  },
  {
   "cell_type": "code",
   "execution_count": null,
   "metadata": {},
   "outputs": [],
   "source": [
    "# Check that the kamodo object was built properly.\n",
    "print(kamodo_object.Phi([0.5, 10., 60.]))\n",
    "if isnan(kamodo_object.Phi([0.5, 10., 60.])[0]):\n",
    "    raise AttributeError('Returned value is a NaN.')\n",
    "else:\n",
    "    print('Value is valid.')"
   ]
  },
  {
   "cell_type": "code",
   "execution_count": null,
   "metadata": {},
   "outputs": [],
   "source": [
    "# Check that the reader works for the testing subset\n",
    "kamodo_object = reader(file_dir, variables_requested=variables_requested)\n",
    "kamodo_object"
   ]
  },
  {
   "cell_type": "code",
   "execution_count": null,
   "metadata": {},
   "outputs": [],
   "source": [
    "# Confirm that the interpolator works for each testing variable and type\n",
    "print(kamodo_object.Phi([0.5, 10., 60.]))\n",
    "print(kamodo_object.Phi_ijk(time=0.5, lon=10., lat=60.))\n",
    "if not kamodo_object.Phi([0.5, 10., 60.]) == kamodo_object.Phi_ijk(time=0.5, lon=10., lat=60.):\n",
    "    raise AttributeError('Values are not equal.')\n",
    "else:\n",
    "    print('Values are equal.')\n",
    "print(kamodo_object.Phi_ijk(time=0.5).shape)"
   ]
  },
  {
   "cell_type": "code",
   "execution_count": null,
   "metadata": {
    "scrolled": false
   },
   "outputs": [],
   "source": [
    "# Generate a plot for validation\n",
    "from kamodo_ccmc.tools.plotfunctions import toColor\n",
    "toColor(kamodo_object.plot('Phi_ijk', plot_partial={'Phi_ijk': {'lat': 60.}}),\n",
    "        colorscale=\"Viridis\")"
   ]
  },
  {
   "cell_type": "code",
   "execution_count": null,
   "metadata": {},
   "outputs": [],
   "source": [
    "# Generate a plot for validation\n",
    "fig1 = toColor(kamodo_object.plot('Phi_ijk', plot_partial={'Phi_ijk': {'time': 0.5}}),\n",
    "               colorscale=\"Viridis\")\n",
    "fig1"
   ]
  },
  {
   "cell_type": "code",
   "execution_count": null,
   "metadata": {},
   "outputs": [],
   "source": [
    "# create polar plot for validation at the poles\n",
    "import kamodo_ccmc.tools.plotfunctions as pf\n",
    "utcts = kamodo_object.filedate.timestamp() + 0.5*3600.  # time in UTC seconds\n",
    "pf.ReplotLL3D(fig1, model, 400, utcts, plotCoord='SM',\n",
    "              opacity=0.85, colorscale='Viridis', axis=True, title=model+' Phi_ijk')"
   ]
  },
  {
   "cell_type": "code",
   "execution_count": null,
   "metadata": {},
   "outputs": [],
   "source": [
    "# Test that more than one variable works through the flythrough\n",
    "from kamodo_ccmc.flythrough import SatelliteFlythrough as SF\n",
    "import datetime as dt\n",
    "start_utcts = dt.datetime(2014, 1, 1, 0, 30).replace(tzinfo=dt.timezone.utc).timestamp()\n",
    "end_utcts = dt.datetime(2014, 1, 1, 1, 30).replace(tzinfo=dt.timezone.utc).timestamp()-1\n",
    "results = SF.ModelFlythrough(model, file_dir, [variables_requested[0]], [start_utcts, end_utcts], [0., 180.], [60., -60.],\n",
    "                             [400., 400.], 'GDZ-sph')\n",
    "results[variables_requested[0]]"
   ]
  },
  {
   "cell_type": "code",
   "execution_count": null,
   "metadata": {},
   "outputs": [],
   "source": [
    "# Test that one variable works through the flythrough\n",
    "results = SF.ModelFlythrough(model, file_dir, [variables_requested[0]], [start_utcts], [0.], [60.],\n",
    "                             [400.], 'GDZ-sph')\n",
    "results[variables_requested[0]]"
   ]
  },
  {
   "cell_type": "code",
   "execution_count": null,
   "metadata": {},
   "outputs": [],
   "source": []
  }
 ],
 "metadata": {
  "kernelspec": {
   "display_name": "Python 3 (ipykernel)",
   "language": "python",
   "name": "python3"
  },
  "language_info": {
   "codemirror_mode": {
    "name": "ipython",
    "version": 3
   },
   "file_extension": ".py",
   "mimetype": "text/x-python",
   "name": "python",
   "nbconvert_exporter": "python",
   "pygments_lexer": "ipython3",
   "version": "3.7.16"
  }
 },
 "nbformat": 4,
 "nbformat_minor": 2
}
