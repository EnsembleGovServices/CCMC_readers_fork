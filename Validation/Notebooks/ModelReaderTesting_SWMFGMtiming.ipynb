{
 "cells": [
  {
   "cell_type": "markdown",
   "metadata": {},
   "source": [
    "# Demo notebook for Model Reader"
   ]
  },
  {
   "cell_type": "code",
   "execution_count": null,
   "metadata": {},
   "outputs": [],
   "source": [
    "model = 'SWMF_GM'\n",
    "file_dir = 'D:/SWMF_GM/TreShunda_James_071322_1/'  # 2010-12-18\n",
    "import kamodo_ccmc.flythrough.model_wrapper as MW\n",
    "MW.Variable_Search('', model, file_dir)"
   ]
  },
  {
   "cell_type": "code",
   "execution_count": null,
   "metadata": {},
   "outputs": [],
   "source": [
    "var_list = ['B_1x', 'B_1y', 'B_1z', 'B_x', 'B_y', 'B_z', 'u', 'J_x', 'J_y', 'J_z']\n",
    "from time import perf_counter\n",
    "reader = MW.Model_Reader(model)\n",
    "t0 = perf_counter()\n",
    "kamodo_object = reader(file_dir, variables_requested=var_list[:10])\n",
    "t1 = perf_counter()\n",
    "print(t1-t0)\n",
    "kamodo_object"
   ]
  },
  {
   "cell_type": "code",
   "execution_count": null,
   "metadata": {},
   "outputs": [],
   "source": []
  }
 ],
 "metadata": {
  "kernelspec": {
   "display_name": "Python 3 (ipykernel)",
   "language": "python",
   "name": "python3"
  },
  "language_info": {
   "codemirror_mode": {
    "name": "ipython",
    "version": 3
   },
   "file_extension": ".py",
   "mimetype": "text/x-python",
   "name": "python",
   "nbconvert_exporter": "python",
   "pygments_lexer": "ipython3",
   "version": "3.7.16"
  }
 },
 "nbformat": 4,
 "nbformat_minor": 2
}
