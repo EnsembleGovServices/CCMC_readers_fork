{
 "cells": [
  {
   "cell_type": "markdown",
   "metadata": {},
   "source": [
    "# Demo notebook for Model Reader"
   ]
  },
  {
   "cell_type": "code",
   "execution_count": null,
   "metadata": {},
   "outputs": [],
   "source": [
    "%load_ext autoreload\n",
    "%autoreload 2"
   ]
  },
  {
   "cell_type": "code",
   "execution_count": null,
   "metadata": {},
   "outputs": [],
   "source": [
    "# Delete the time files before running.\n",
    "model = 'GAMERA_GM'\n",
    "variables_requested = ['B_y','N_plasma','X','dV']  # 'B_0z' only in serial run\n",
    "# change file path to where data is stored on your machine\n",
    "#file_dir = 'D:/GAMERA_GM/SerialRun/'  # 2022-01-12\n",
    "#file_dir = 'D:/GAMERA_GM/MPIRun/'  # 2022-01-12, 1858 date b/c of time value error in files.\n",
    "file_dir = '/Users/lrastaet/Kamodo_data/GAMERA/Gerkin_Ai_070323_1/results/output_0/'\n",
    "#file_dir = '/Users/lrastaet/Kamodo_data/GAMERA/Slava_Merkin_120423_1/results/output_0/'\n",
    "from os.path import isfile\n",
    "from os import remove\n",
    "if isfile(file_dir+model+'_times.txt'):\n",
    "    remove(file_dir+model+'_times.txt')\n",
    "if isfile(file_dir+model+'_list.txt'):\n",
    "    remove(file_dir+model+'_list.txt')"
   ]
  },
  {
   "cell_type": "code",
   "execution_count": null,
   "metadata": {},
   "outputs": [],
   "source": [
    "# confirm MW functions work appropriately with model varnames dictionary\n",
    "import kamodo_ccmc.flythrough.model_wrapper as MW\n",
    "MW.Variable_Search('magnetic')"
   ]
  },
  {
   "cell_type": "code",
   "execution_count": null,
   "metadata": {},
   "outputs": [],
   "source": [
    "MW.Variable_Search('magnetic', model)"
   ]
  },
  {
   "cell_type": "code",
   "execution_count": null,
   "metadata": {},
   "outputs": [],
   "source": [
    "MW.Variable_Search('magnetic', model, file_dir)"
   ]
  },
  {
   "cell_type": "code",
   "execution_count": null,
   "metadata": {},
   "outputs": [],
   "source": [
    "MW.Var_3D(model)"
   ]
  },
  {
   "cell_type": "code",
   "execution_count": null,
   "metadata": {},
   "outputs": [],
   "source": [
    "MW.Var_units(model, variables_requested)"
   ]
  },
  {
   "cell_type": "code",
   "execution_count": null,
   "metadata": {},
   "outputs": [],
   "source": [
    "# Confirm time method works with model reader\n",
    "MW.File_Times(model, file_dir)"
   ]
  },
  {
   "cell_type": "code",
   "execution_count": null,
   "metadata": {},
   "outputs": [],
   "source": [
    "# Confirm file list method works with model reader\n",
    "MW.File_List(model, file_dir)"
   ]
  },
  {
   "cell_type": "code",
   "execution_count": null,
   "metadata": {},
   "outputs": [],
   "source": [
    "# Check that time files creation works, that reader works for one variable,\n",
    "# and that an unknown variable request does not break it.\n",
    "reader = MW.Model_Reader(model)\n",
    "kamodo_object = reader(file_dir, variables_requested=['Trash'])\n",
    "kamodo_object"
   ]
  },
  {
   "cell_type": "code",
   "execution_count": null,
   "metadata": {
    "scrolled": false
   },
   "outputs": [],
   "source": [
    "# Check that reader works for one variable with an unknown variable\n",
    "kamodo_object = reader(file_dir, variables_requested=['Trash', variables_requested[0]])\n",
    "kamodo_object"
   ]
  },
  {
   "cell_type": "code",
   "execution_count": null,
   "metadata": {},
   "outputs": [],
   "source": [
    "print(kamodo_object.B_y_ijk(time=24.5,X=10.,Y=1.,Z=10.))"
   ]
  },
  {
   "cell_type": "code",
   "execution_count": null,
   "metadata": {
    "scrolled": false
   },
   "outputs": [],
   "source": [
    "# Test model reader with one variable from each coordinate system\n",
    "kamodo_object = reader(file_dir, variables_requested=variables_requested)\n",
    "kamodo_object"
   ]
  },
  {
   "cell_type": "code",
   "execution_count": null,
   "metadata": {},
   "outputs": [],
   "source": [
    "# Check that reading the time files works and that reader works for one variable,\n",
    "kamodo_object = reader(file_dir, variables_requested=variables_requested[:1])\n",
    "kamodo_object"
   ]
  },
  {
   "cell_type": "code",
   "execution_count": null,
   "metadata": {},
   "outputs": [],
   "source": [
    "kamodo_object.filedate"
   ]
  },
  {
   "cell_type": "code",
   "execution_count": null,
   "metadata": {},
   "outputs": [],
   "source": [
    "# Confirm that interpolation works. \n",
    "from math import isnan\n",
    "tpos,xpos,ypos,zpos = [21.,10.,15.,20.]\n",
    "#xpos, ypos, zpos = [21.,10.,60. ,50.]\n",
    "print(kamodo_object.B_y([21., xpos, ypos, zpos]))\n",
    "if isnan(kamodo_object.B_y([21., xpos, ypos, zpos])[0]):\n",
    "    raise AttributeError('Returned value is a NaN.')\n",
    "else:\n",
    "    print('Value is valid.')\n",
    "print(kamodo_object.B_y_ijk(time=tpos, X=xpos, Y=ypos, Z=zpos))\n",
    "if isnan(kamodo_object.B_y_ijk(time=tpos, X=xpos, Y=ypos, Z=zpos)):\n",
    "    raise AttributeError('Returned value is a NaN.')\n",
    "else:\n",
    "    print('Value is valid.')\n",
    "if not kamodo_object.B_y([tpos,xpos,ypos,zpos]) == kamodo_object.B_y_ijk(time=tpos, X=xpos, Y=ypos, Z=zpos):\n",
    "    raise AttributeError('Values are not equal.')\n",
    "else:\n",
    "    print('Values are equal.')\n",
    "print(kamodo_object.B_y_ijk(time=xpos, X=ypos).shape)"
   ]
  },
  {
   "cell_type": "code",
   "execution_count": null,
   "metadata": {},
   "outputs": [],
   "source": [
    "# Check that reading the time files works, and that the reader works for all variables\n",
    "kamodo_object = reader(file_dir)\n",
    "kamodo_object"
   ]
  },
  {
   "cell_type": "code",
   "execution_count": null,
   "metadata": {},
   "outputs": [],
   "source": [
    "# Get a list of all of the functionalized variables, both regular and gridded\n",
    "var_list = list(MW.Variable_Search('', model, file_dir, return_dict=True).keys())\n",
    "varijk_list = sorted(var_list + [item+'_ijk' for item in var_list])\n",
    "varijk_list"
   ]
  },
  {
   "cell_type": "code",
   "execution_count": null,
   "metadata": {},
   "outputs": [],
   "source": [
    "# Test coordinate range logic for all variables\n",
    "MW.Coord_Range(kamodo_object, varijk_list)"
   ]
  },
  {
   "cell_type": "code",
   "execution_count": null,
   "metadata": {},
   "outputs": [],
   "source": [
    "# Check that the kamodo object was built properly.\n",
    "print(kamodo_object.B_z([tpos,xpos,ypos,zpos]))\n",
    "if isnan(kamodo_object.B_z([tpos,xpos,ypos,zpos])[0]):\n",
    "    raise AttributeError('Returned value is a NaN.')\n",
    "else:\n",
    "    print('Value is valid.')"
   ]
  },
  {
   "cell_type": "code",
   "execution_count": null,
   "metadata": {},
   "outputs": [],
   "source": [
    "# Check that the reader works for the testing subset\n",
    "kamodo_object = reader(file_dir, variables_requested=variables_requested)\n",
    "kamodo_object"
   ]
  },
  {
   "cell_type": "code",
   "execution_count": null,
   "metadata": {},
   "outputs": [],
   "source": [
    "# Confirm that the interpolator works for each testing variable and type\n",
    "print(kamodo_object.B_y([tpos,xpos,ypos,zpos]))\n",
    "if isnan(kamodo_object.B_y([tpos,xpos,ypos,zpos])[0]):\n",
    "    raise AttributeError('Returned value is a NaN.')\n",
    "else:\n",
    "    print('Value is valid.')\n",
    "print(kamodo_object.B_y_ijk(time=tpos, X=xpos, Y=ypos, Z=zpos))\n",
    "if isnan(kamodo_object.B_y_ijk(time=tpos, X=xpos, Y=ypos, Z=zpos)):\n",
    "    raise AttributeError('Returned value is a NaN.')\n",
    "else:\n",
    "    print('Value is valid.')\n",
    "if not kamodo_object.B_y([tpos,xpos,ypos,zpos]) == kamodo_object.B_y_ijk(time=tpos, X=xpos, Y=ypos, Z=zpos):\n",
    "    raise AttributeError('Values are not equal.')\n",
    "else:\n",
    "    print('Values are equal.')\n",
    "print(kamodo_object.B_y_ijk(time=tpos, X=xpos).shape)\n",
    "# X\n",
    "## dV not yet supported\n",
    "if isnan(kamodo_object.X([xpos,ypos,zpos])[0]):\n",
    "    raise AttributeError('Returned value is a NaN.')\n",
    "else:\n",
    "    print('Value is valid.')\n",
    "print(kamodo_object.X_ijk(X=xpos, Y=ypos, Z=zpos))\n",
    "if isnan(kamodo_object.X_ijk(X=xpos, Y=ypos, Z=zpos)):\n",
    "    raise AttributeError('Returned value is a NaN.')\n",
    "else:\n",
    "    print('Value is valid.')\n",
    "if not kamodo_object.X([xpos,ypos,zpos]) == kamodo_object.X_ijk(X=xpos, Y=ypos, Z=zpos):\n",
    "    raise AttributeError('Values are not equal.')\n",
    "else:\n",
    "    print('Values are equal.')\n",
    "print(kamodo_object.X_ijk(X=10).shape)"
   ]
  },
  {
   "cell_type": "code",
   "execution_count": null,
   "metadata": {},
   "outputs": [],
   "source": [
    "# Generate a plot for validation\n",
    "from kamodo_ccmc.tools.plotfunctions import toColor\n",
    "toColor(kamodo_object.plot('B_y_ijk', plot_partial={'B_y_ijk': {'time': tpos, 'Z': zpos/2}}),\n",
    "        colorscale=\"Viridis\")"
   ]
  },
  {
   "cell_type": "code",
   "execution_count": null,
   "metadata": {},
   "outputs": [],
   "source": [
    "kamodo_object.B_y([tpos,-190.,20.,zpos])"
   ]
  },
  {
   "cell_type": "code",
   "execution_count": null,
   "metadata": {
    "scrolled": false
   },
   "outputs": [],
   "source": [
    "# Generate a plot for validation\n",
    "toColor(kamodo_object.plot('B_y_ijk', plot_partial={'B_y_ijk': {'X': xpos, 'Y': ypos}}),\n",
    "        colorscale=\"Viridis\")"
   ]
  },
  {
   "cell_type": "code",
   "execution_count": null,
   "metadata": {},
   "outputs": [],
   "source": [
    "# Generate a plot for validation\n",
    "toColor(kamodo_object.plot('dV_ijk', plot_partial={'dV_ijk': {'Y': 0.}}),\n",
    "        colorscale=\"Viridis\")"
   ]
  },
  {
   "cell_type": "code",
   "execution_count": null,
   "metadata": {},
   "outputs": [],
   "source": [
    "# Test that more than one variable works through the flythrough\n",
    "from kamodo_ccmc.flythrough import SatelliteFlythrough as SF\n",
    "import datetime as dt\n",
    "# valid time range:\n",
    "# 2023-04-18  Time: 14:00:00\n",
    "# 2023-04-19  Time: 02:00:00\n",
    "start_utcts = dt.datetime(2023, 4, 18, 22, 5).replace(tzinfo=dt.timezone.utc).timestamp()\n",
    "end_utcts = dt.datetime(2023, 4, 19, 1, 50).replace(tzinfo=dt.timezone.utc).timestamp()-1\n",
    "results = SF.ModelFlythrough(model, file_dir, [variables_requested[0]], [start_utcts, end_utcts], \n",
    "                             [0., 10.], [10., -10.], [0., 0.], 'SM-car')\n",
    "results[variables_requested[0]]"
   ]
  },
  {
   "cell_type": "code",
   "execution_count": null,
   "metadata": {},
   "outputs": [],
   "source": [
    "# Test that one variable works through the flythrough\n",
    "results = SF.ModelFlythrough(model, file_dir, [variables_requested[0]], [start_utcts], [0.], [10.],\n",
    "                             [40.], 'GSM-car')\n",
    "results[variables_requested[0]]"
   ]
  },
  {
   "cell_type": "code",
   "execution_count": null,
   "metadata": {},
   "outputs": [],
   "source": []
  }
 ],
 "metadata": {
  "kernelspec": {
   "display_name": "Python 3 (ipykernel)",
   "language": "python",
   "name": "python3"
  },
  "language_info": {
   "codemirror_mode": {
    "name": "ipython",
    "version": 3
   },
   "file_extension": ".py",
   "mimetype": "text/x-python",
   "name": "python",
   "nbconvert_exporter": "python",
   "pygments_lexer": "ipython3",
   "version": "3.10.11"
  }
 },
 "nbformat": 4,
 "nbformat_minor": 2
}
