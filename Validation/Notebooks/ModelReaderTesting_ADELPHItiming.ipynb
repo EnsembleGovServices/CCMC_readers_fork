{
 "cells": [
  {
   "cell_type": "markdown",
   "metadata": {},
   "source": [
    "# ADELPHI Model Reader Timing"
   ]
  },
  {
   "cell_type": "code",
   "execution_count": null,
   "metadata": {},
   "outputs": [],
   "source": [
    "import kamodo_ccmc.flythrough.model_wrapper as MW\n",
    "model = 'ADELPHI'\n",
    "# change file path to where data is stored on your machine\n",
    "file_dir = 'D:/ADELPHI/Robert_Robinson_03Oct2022_Testing/'\n",
    "MW.Variable_Search('', model, file_dir)"
   ]
  },
  {
   "cell_type": "code",
   "execution_count": null,
   "metadata": {},
   "outputs": [],
   "source": [
    "import kamodo_ccmc.flythrough.model_wrapper as MW\n",
    "model = 'ADELPHI'\n",
    "file_dir = 'C:/Users/rringuet/Kamodo_Data/ADELPHI/Robert_Robinson_03Oct2022_Testing/'\n",
    "var_list = ['Sigma_H', 'Sigma_P', 'phi', 'E_east', 'E_north', 'J_east', 'J_north', 'Phi', 'J_heat', 'J_Rout']\n",
    "from time import perf_counter\n",
    "reader = MW.Model_Reader(model)\n",
    "t0 = perf_counter()\n",
    "kamodo_object = reader(file_dir, variables_requested=var_list[:10])\n",
    "t1 = perf_counter()\n",
    "print(t1-t0)\n",
    "kamodo_object"
   ]
  },
  {
   "cell_type": "code",
   "execution_count": null,
   "metadata": {},
   "outputs": [],
   "source": []
  }
 ],
 "metadata": {
  "kernelspec": {
   "display_name": "Python 3 (ipykernel)",
   "language": "python",
   "name": "python3"
  },
  "language_info": {
   "codemirror_mode": {
    "name": "ipython",
    "version": 3
   },
   "file_extension": ".py",
   "mimetype": "text/x-python",
   "name": "python",
   "nbconvert_exporter": "python",
   "pygments_lexer": "ipython3",
   "version": "3.7.16"
  }
 },
 "nbformat": 4,
 "nbformat_minor": 2
}
