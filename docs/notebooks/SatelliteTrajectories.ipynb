{
 "cells": [
  {
   "cell_type": "markdown",
   "id": "cadfb350",
   "metadata": {},
   "source": [
    "# Satellite Trajectories\n",
    "This notebook tutorial shows how to retrieve or create a trajectory in a variety of methods.\n",
    "1. Retrieve a real trajectory through SSCWeb,\n",
    "2. Create a sample trajectory in GDZ spherical coordinates,\n",
    "3. Create a trajectory from a TLE input file,\n",
    "4. Read in a trajectory from a file,\n",
    "5. Write out a trajectory to a file."
   ]
  },
  {
   "cell_type": "markdown",
   "id": "697db75a",
   "metadata": {},
   "source": [
    "## Retrieve a real satellite trajectory through SSCWeb "
   ]
  },
  {
   "cell_type": "code",
   "execution_count": 1,
   "id": "precious-motivation",
   "metadata": {},
   "outputs": [
    {
     "name": "stdout",
     "output_type": "stream",
     "text": [
      "Help on function SatelliteTrajectory in module kamodo_ccmc.flythrough.SatelliteFlythrough:\n",
      "\n",
      "SatelliteTrajectory(dataset, start_ts, stop_ts, coord_type='GEO', verbose=False)\n",
      "    Retrieve and return satellite trajectory from HAPI/CDAWeb\n",
      "    Parameters:\n",
      "    ----------\n",
      "    dataset: name of the satellite data set to pull trajectory from\n",
      "    start_ts: utc timestamp for start of desired time interval\n",
      "    stop_ts: utc timestamp for end of desired time interval\n",
      "    coord_type: Pick from GEO, GSM, GSE, or SM\n",
      "    verbose: Set to true to be overwhelmed with information.\n",
      "    \n",
      "    Coordinates are retrieved on a cartesian grid.\n",
      "    See kamodo_ccmc.flythrough.utils.ConvertCoord for info on the coordinate\n",
      "    systems.\n",
      "\n"
     ]
    },
    {
     "name": "stderr",
     "output_type": "stream",
     "text": [
      "C:\\Users\\rringuet\\Anaconda3\\envs\\Kamodo_Jan2023\\lib\\site-packages\\spacepy\\time.py:2367: UserWarning: Leapseconds may be out of date. Use spacepy.toolbox.update(leapsecs=True)\n",
      "  warnings.warn('Leapseconds may be out of date.'\n"
     ]
    }
   ],
   "source": [
    "# Import function to retrieve description.\n",
    "from kamodo_ccmc.flythrough import SatelliteFlythrough as SF\n",
    "help(SF.SatelliteTrajectory)"
   ]
  },
  {
   "cell_type": "code",
   "execution_count": 2,
   "id": "built-salmon",
   "metadata": {},
   "outputs": [
    {
     "name": "stdout",
     "output_type": "stream",
     "text": [
      "Attribute/Key names of return dictionary: dict_keys(['sat_time', 'c1', 'c2', 'c3'])\n",
      "dict_keys(['sat_time', 'c1', 'c2', 'c3']) GEO-car\n",
      "<class 'numpy.ndarray'> (345,) 1426660020.0 1426680660.0\n",
      "<class 'numpy.ndarray'> (345,) -0.9270195119 1.0114874276\n",
      "<class 'numpy.ndarray'> (345,) -1.0605838293 1.0499913722\n",
      "<class 'numpy.ndarray'> (345,) -1.0639983632 1.0598825872\n"
     ]
    }
   ],
   "source": [
    "# Retrieve a real satellite trajectory.\n",
    "# Typical coordinates possible through SSCWeb are GEO, GSE, SM, and GSM (all cartesian and in R_E).\n",
    "from datetime import datetime, timezone\n",
    "start = datetime(2015, 3, 18, 6, 26, 40).replace(tzinfo=timezone.utc)\n",
    "end = datetime(2015, 3, 18, 12, 11, 40).replace(tzinfo=timezone.utc)\n",
    "traj_dict, coord_type = SF.SatelliteTrajectory('grace1', start.timestamp(), end.timestamp(), coord_type='GEO')\n",
    "# Show the structure of the returned dictionary and range of each coordinate.\n",
    "print(traj_dict.keys(), coord_type)\n",
    "for key in traj_dict.keys():\n",
    "    print(type(traj_dict[key]), traj_dict[key].shape, traj_dict[key].min(), traj_dict[key].max())"
   ]
  },
  {
   "cell_type": "markdown",
   "id": "07609686",
   "metadata": {},
   "source": [
    "## Create a sample trajectory"
   ]
  },
  {
   "cell_type": "code",
   "execution_count": 3,
   "id": "55c5621e",
   "metadata": {
    "scrolled": false
   },
   "outputs": [
    {
     "name": "stdout",
     "output_type": "stream",
     "text": [
      "Help on function SampleTrajectory in module kamodo_ccmc.flythrough.SatelliteFlythrough:\n",
      "\n",
      "SampleTrajectory(start_time, stop_time, max_lat=65.0, min_lat=-65.0, lon_perorbit=363.0, max_height=450.0, min_height=400.0, p=0.01, n=2.0)\n",
      "    Given start and stop times in timestamp form, return a test satellite\n",
      "    trajectory.\n",
      "    Parameters:\n",
      "    ----------\n",
      "        start_time: utc timestamp in seconds for start\n",
      "        stop_time: utc timestamp in seconds for stop\n",
      "        max_lat: maximum latitude for sample trajectory, in degrees\n",
      "            (default=65.)\n",
      "        min_lat: minimum latitude for sample trajectory, in degrees\n",
      "            (default=-65.)\n",
      "        lon_perorbit: the degrees of longitude per about 90 minute orbit\n",
      "            (set less than 360 for precession forward in longitude, set less\n",
      "            than 360 for precession backwards) (default=363.)\n",
      "        max_height: maximum starting height of orbit in km (default=450.)\n",
      "        min_height: minimum starting height of orbit in km (default=400.)\n",
      "        p: a rough precession variable, applied as an overall height decrease\n",
      "            as a percentage of the min_height value: p =  (default=0.01).\n",
      "        n: the time cadence of the sample trajectory generated\n",
      "            (default = 2 seconds)\n",
      "    Returns a dictionary with keys: sat_time, c1, c2, and c3.\n",
      "        sat_time is an array in UTC seconds since 1970-01-01.\n",
      "        (c1,c2,c3) = (lon, lat, alt) in (deg,deg,km) in the 'GDZ', 'sph'\n",
      "        coordinate system in SpacePy. See\n",
      "        kamodo_ccmc.flythrough.utils.ConvertCoord for more info on the\n",
      "        coordinate systems.\n",
      "\n"
     ]
    }
   ],
   "source": [
    "# Another way to get a trajectory is via the SampleTrajectory flythrough function\n",
    "help(SF.SampleTrajectory)"
   ]
  },
  {
   "cell_type": "code",
   "execution_count": 4,
   "id": "6a13d94a",
   "metadata": {},
   "outputs": [
    {
     "name": "stdout",
     "output_type": "stream",
     "text": [
      "Attribute/Key names of return dictionary: dict_keys(['sat_time', 'c1', 'c2', 'c3'])\n",
      "(c1,c2,c3) = (lon, lat, alt) in (deg,deg,km) in the GDZ, sph coordinate system.\n",
      "sat_time contains the utc timestamps.\n",
      "dict_keys(['sat_time', 'c1', 'c2', 'c3']) GDZ-sph\n",
      "<class 'numpy.ndarray'> (690,) 1426660000.0 1426680700.0\n",
      "<class 'numpy.ndarray'> (690,) -180.0 179.48766328011612\n",
      "<class 'numpy.ndarray'> (690,) -64.98998926658311 65.0\n",
      "<class 'numpy.ndarray'> (690,) 499.26537612988614 548.3416630573417\n"
     ]
    }
   ],
   "source": [
    "# Create a sample trajectory.\n",
    "sample_traj, sample_coord = SF.SampleTrajectory(start.timestamp(), end.timestamp(), max_height=550., \n",
    "                                                min_height=525., p=0.05, n=30.)\n",
    "# Show the structure of the returned dictionary and range of each coordinate.\n",
    "print(sample_traj.keys(), sample_coord)\n",
    "for key in sample_traj.keys():\n",
    "    print(type(sample_traj[key]), sample_traj[key].shape, sample_traj[key].min(), sample_traj[key].max())"
   ]
  },
  {
   "cell_type": "markdown",
   "id": "56b8fe95",
   "metadata": {},
   "source": [
    "## Create a trajectory from TLEs (two-line elements)"
   ]
  },
  {
   "cell_type": "code",
   "execution_count": 5,
   "id": "5ec47180",
   "metadata": {},
   "outputs": [
    {
     "name": "stdout",
     "output_type": "stream",
     "text": [
      "Help on function TLETrajectory in module kamodo_ccmc.flythrough.SatelliteFlythrough:\n",
      "\n",
      "TLETrajectory(tle_file, start_utcts, stop_utcts, time_cadence, method='forward', verbose=False)\n",
      "    Use sgp4 to calculate a satellite trajectory given TLEs.\n",
      "    Parameters:\n",
      "        tle_file: The file name, including complete file path, of a file\n",
      "            containing two-line elements. It is assumed that the file has no\n",
      "            header and no other content.\n",
      "        start_utcts: The UTC timestamp corresponding to the desired start time.\n",
      "            Should be an integer.\n",
      "        stop_utcts: The UTC timestamp corresponding to the desired stop time.\n",
      "            Should be an integer.\n",
      "        time_cadence: The number of seconds desired between trajectory\n",
      "            positions. Should be an integer.\n",
      "        method: 'forward' or 'nearest'. This keyword changes the propagation\n",
      "            method for timestamps between TLEs, not for timestamps before the\n",
      "            first TLE or after the last TLE. The 'forward' (default) method\n",
      "            uses the previous TLE to propagate forward for all timestamps\n",
      "            between the selected TLE and the next one, while the 'nearest'\n",
      "            method finds the TLE nearest to the timestamp and propagates either\n",
      "            forward or backward for the timestamp.\n",
      "    \n",
      "    If the time cadence does not evenly divide into the range of timestamps\n",
      "        given, then the ending time value will be extended so that the entire\n",
      "        requested range will be covered.\n",
      "    \n",
      "    Returns a dictionary with keys: sat_time, c1, c2, and c3.\n",
      "        sat_time is an array in UTC seconds since 1970-01-01.\n",
      "        (c1,c2,c3) = (x, y, z) in (km,km,km) in the 'teme', 'car'\n",
      "        coordinate system in AstroPy. See\n",
      "        kamodo_ccmc.flythrough.utils.ConvertCoord for more info on the\n",
      "        coordinate systems.\n",
      "\n"
     ]
    }
   ],
   "source": [
    "# TLE files can be obtained from celes-track.org and similar sites.\n",
    "help(SF.TLETrajectory)"
   ]
  },
  {
   "cell_type": "code",
   "execution_count": 8,
   "id": "52231b9e",
   "metadata": {},
   "outputs": [
    {
     "name": "stdout",
     "output_type": "stream",
     "text": [
      "dict_keys(['sat_time', 'c1', 'c2', 'c3']) teme-car\n",
      "<class 'numpy.ndarray'> (4301,) 1426638000.0 1426896000.0\n",
      "<class 'numpy.ndarray'> (4301,) -0.210969381482701 0.21127247435341875\n",
      "<class 'numpy.ndarray'> (4301,) -1.042345933737127 1.0437405655036243\n",
      "<class 'numpy.ndarray'> (4301,) -1.0641529578213578 1.0598925509819095\n"
     ]
    }
   ],
   "source": [
    "# How to get a trajectory from TLEs\n",
    "tle_file = './Files/GRACE1_TLEs.txt'\n",
    "time_cadence = 60.  # seconds between propagated trajectory positions\n",
    "start_utcts = datetime(2015, 3, 18, 0, 20).replace(tzinfo=timezone.utc).timestamp()\n",
    "end_utcts = datetime(2015, 3, 21, 0, 0).replace(tzinfo=timezone.utc).timestamp()\n",
    "tle_dict, coord_type = SF.TLETrajectory(tle_file, start_utcts, end_utcts, time_cadence)\n",
    "# Show the structure of the returned dictionary and range of each coordinate.\n",
    "print(tle_dict.keys(), coord_type)\n",
    "for key in tle_dict.keys():\n",
    "    print(type(tle_dict[key]), tle_dict[key].shape, tle_dict[key].min(), tle_dict[key].max())"
   ]
  },
  {
   "cell_type": "markdown",
   "id": "e9fa5e4e",
   "metadata": {},
   "source": [
    "## Load a trajectory from a file"
   ]
  },
  {
   "cell_type": "code",
   "execution_count": 9,
   "id": "3a9adcf7",
   "metadata": {},
   "outputs": [
    {
     "name": "stdout",
     "output_type": "stream",
     "text": [
      "Help on function SF_read in module kamodo_ccmc.flythrough.SF_output:\n",
      "\n",
      "SF_read(filename)\n",
      "    Collect input function calls into one function.\n",
      "    \n",
      "    filename = string with complete filepath. The file extension must be one\n",
      "        of 'nc'for a netCDF4 file, 'csv' for a comma separated file, or 'txt'\n",
      "        for a tab separated file.\n",
      "    \n",
      "    Output: a nested dictionary containing the metadata, data, and units.\n",
      "\n"
     ]
    }
   ],
   "source": [
    "help(SF.O.SF_read)"
   ]
  },
  {
   "cell_type": "code",
   "execution_count": 10,
   "id": "04eda3e6",
   "metadata": {},
   "outputs": [
    {
     "name": "stdout",
     "output_type": "stream",
     "text": [
      "dict_keys(['utc_time', 'c1', 'c2', 'c3', 'net_idx', 'rho_n', 'T_e', 'T_i', 'metadata']) GEO-car\n",
      "dict_keys(['units', 'data'])\n",
      "dict_keys(['units', 'data'])\n",
      "dict_keys(['units', 'data'])\n",
      "dict_keys(['units', 'data'])\n",
      "dict_keys(['units', 'data'])\n",
      "dict_keys(['units', 'data'])\n",
      "dict_keys(['units', 'data'])\n",
      "dict_keys(['units', 'data'])\n",
      "dict_keys(['model_files', 'model_used', 'coord_type', 'coord_grid'])\n"
     ]
    }
   ],
   "source": [
    "file_data = SF.O.SF_read('./Files/RealFlightExample_GITM.txt')\n",
    "coord_sys = file_data['metadata']['coord_type'] + '-' + file_data['metadata']['coord_grid']\n",
    "# Show the structure of the returned dictionary.\n",
    "print(file_data.keys(), coord_sys)\n",
    "for key in file_data.keys():\n",
    "    print(file_data[key].keys())"
   ]
  },
  {
   "cell_type": "markdown",
   "id": "c8dec9ee",
   "metadata": {},
   "source": [
    "## Write a trajectory to a file"
   ]
  },
  {
   "cell_type": "code",
   "execution_count": 11,
   "id": "5aa4d0c2",
   "metadata": {},
   "outputs": [
    {
     "name": "stdout",
     "output_type": "stream",
     "text": [
      "Help on function SF_write in module kamodo_ccmc.flythrough.SF_output:\n",
      "\n",
      "SF_write(filename, model_filename, model_name, results_dict, results_units, coord_sys)\n",
      "    Collect output function calls into one function.\n",
      "    \n",
      "    Inputs:\n",
      "        filename = string with complete filepath. The file extension must be\n",
      "            one of 'nc' for a netCDF4 file, 'csv' for a comma separated file,\n",
      "            or 'txt' for a tab separated file.\n",
      "        model_filename = A list of the model data filenames or prefixes used\n",
      "            to generate the data. Filenames should include the full file path.\n",
      "        model_name = A string indicating the model name.\n",
      "        results_dict = A dictionary with variable names as keys (strings) and\n",
      "            the time series data as the values (one array per key).\n",
      "        results_units = A dictionary with variable names as keys (strings) and\n",
      "            the units as the values (one value per key).\n",
      "        coord_sys = one of 'GDZ', 'GEO', 'GSM', 'GSE', 'SM', 'GEI', 'MAG',\n",
      "            'SPH', or 'RLL' combined with '-sph' or '-car'. E.g. 'SM-car' or\n",
      "            'GDZ-sph'. Astropy coordinate systems supported. See ConvertCoord\n",
      "            for details.\n",
      "\n"
     ]
    }
   ],
   "source": [
    "help(SF.O.SF_write)"
   ]
  },
  {
   "cell_type": "code",
   "execution_count": 12,
   "id": "f70b0ddd",
   "metadata": {},
   "outputs": [
    {
     "data": {
      "text/plain": [
       "'./Files/GRACE1_TLEs.csv'"
      ]
     },
     "execution_count": 12,
     "metadata": {},
     "output_type": "execute_result"
    }
   ],
   "source": [
    "# Write grace1 TLE trajectory to a new file.\n",
    "tle_units = {'sat_time': 's', 'c1': 'R_E', 'c2': 'R_E', 'c3': 'R_E'}\n",
    "SF.O.SF_write('./Files/GRACE1_TLEs.csv', '', '', tle_dict, tle_units, 'teme-car')"
   ]
  }
 ],
 "metadata": {
  "kernelspec": {
   "display_name": "Python 3 (ipykernel)",
   "language": "python",
   "name": "python3"
  },
  "language_info": {
   "codemirror_mode": {
    "name": "ipython",
    "version": 3
   },
   "file_extension": ".py",
   "mimetype": "text/x-python",
   "name": "python",
   "nbconvert_exporter": "python",
   "pygments_lexer": "ipython3",
   "version": "3.7.16"
  }
 },
 "nbformat": 4,
 "nbformat_minor": 5
}
