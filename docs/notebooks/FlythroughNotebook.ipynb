{
 "cells": [
  {
   "cell_type": "markdown",
   "id": "fff91bd3",
   "metadata": {},
   "source": [
    "# Performing a Flythrough in a Notebook\n",
    "This notebook tutorial shows how to perform a flythrough in a notebook in a variety of methods.\n",
    "1. Fly a real satellite trajectory through a dataset,\n",
    "2. Fly a sample trajectory through a dataset,\n",
    "3. Fly a two-line elements (TLEs) through a dataset,\n",
    "4. Fly a trajectory from a file through a dataset,\n",
    "5. Fly a trajectory in python memory through a dataset.\n",
    "\n",
    "Note: You may run the notebook as is if you have the sample data files, but you must\n",
    "change the 'file_dir', 'output_name', and 'plot_output' variables the relevant blocks to have the correct file path. The sample data files can be obtained from https://ccmc.gsfc.nasa.gov/RoR_WWW/output_files/KAMODO_DEMO/GITM/jasoon_shim_071418_IT_1_subset/. Only the \\*.nc files need to be downloaded.\n",
    "\n",
    "All coordinate conversions needed are automatically detected and handled in the background. These routines are designed for scalars. Proper treatment of vectors in this process is a capability currently under development by Ensemble's Kamodo-core."
   ]
  },
  {
   "cell_type": "code",
   "execution_count": 2,
   "id": "a5111aff",
   "metadata": {},
   "outputs": [],
   "source": [
    "from kamodo_ccmc.flythrough import SatelliteFlythrough as SF"
   ]
  },
  {
   "cell_type": "markdown",
   "id": "5b6edc82",
   "metadata": {},
   "source": [
    "## RealFlight\n",
    "Fly a real satellite trajectory obtained from the SSCWeb through a dataset."
   ]
  },
  {
   "cell_type": "code",
   "execution_count": 2,
   "id": "ec840cf0",
   "metadata": {},
   "outputs": [
    {
     "name": "stdout",
     "output_type": "stream",
     "text": [
      "Help on function RealFlight in module kamodo_ccmc.flythrough.SatelliteFlythrough:\n",
      "\n",
      "RealFlight(dataset, start, stop, model, file_dir, variable_list, coord_type='GEO', output_name='', plot_coord='GEO', verbose=False)\n",
      "    Retrieves the trajectory for the satellite requested and then flies that\n",
      "    trajectory through the model data requested.\n",
      "    \n",
      "    dataset: name of the satellite data set to pull trajectory from\n",
      "    start: utc timestamp for start of desired time interval\n",
      "    stop: utc timestamp for end of desired time interval\n",
      "    model: 'CTIPe','IRI', ...\n",
      "    file_dir: complete path to where model data files are stored\n",
      "    variable_list: List of standardized variable names. See model variable\n",
      "        output for details. Dimensions must be at least time + 2D spatial.\n",
      "    coord_type: Pick from GEO, GSM, GSE, or SM for the satellite trajectory.\n",
      "    output_name: complete path with filename (with the extension) for the file\n",
      "        to write the results to. Plotting filenames are determined by\n",
      "        output_name - extension + variable names + plot type (1D or 3D).\n",
      "        Extensions must be one of 'nc' for netCDF4 files, 'csv' for comma\n",
      "        separated data, or 'txt' for tab separated data files.\n",
      "    plot_coord: one of 'GDZ', 'GEO', 'GSM', 'GSE', 'SM', 'GEI', 'MAG', etc.\n",
      "        Indicates the coordinate system the plot will be generated in.\n",
      "        Only plots in cartesian coordinates systems are supported, so 'SPH'\n",
      "        and 'RLL' are not accepted. Default is 'GEO'. Astropy coordinates\n",
      "        also allowed.\n",
      "    verbose: Set to true to be overwhelmed with information.\n",
      "    \n",
      "    Returns a dictionary with keys: 'utc_time', 'c1', 'c2', 'c3', and 'net_idx'\n",
      "        - utc_time is an array in UTC seconds since 1970-01-01 of the satellite\n",
      "            timestamps with any occuring outside of the model data removed.\n",
      "        - 'c1', 'c2', and 'c3' are arrays of the given coordinate values for\n",
      "            each surviving timestamp.\n",
      "        - 'net_idx' is the original index value of the surviving timestamps.\n",
      "            This is kept for easier comparison with the original dataset.\n",
      "        - additional keys are included for each variable and label an array of\n",
      "            the values of the indicated variable for each time+spatial\n",
      "            coordinate given.\n",
      "        - The units of each array in the returned dictionary are printed to\n",
      "            the screen.\n",
      "    \n",
      "    See kamodo_ccmc.flythrough.utils.ConvertCoord for info on the coordinate\n",
      "    systems.\n",
      "\n"
     ]
    }
   ],
   "source": [
    "help(SF.RealFlight)"
   ]
  },
  {
   "cell_type": "code",
   "execution_count": 3,
   "id": "fe55f81f",
   "metadata": {},
   "outputs": [],
   "source": [
    "# Select input values\n",
    "import datetime as dt\n",
    "# Choose input values for RealFlight function call.\n",
    "model = 'GITM'  # Choose the model.\n",
    "# Full file path to model output data.\n",
    "file_dir = 'D:/GITM/jasoon_shim_071418_IT_1_tenth_oneday/'  \n",
    "start_utcts = dt.datetime(2015, 3, 17, 0).replace(tzinfo=dt.timezone.utc).timestamp()\n",
    "end_utcts = dt.datetime(2015, 3, 17, 2).replace(tzinfo=dt.timezone.utc).timestamp()-1\n",
    "variables = ['rho_n', 'TEC']  # one or more variable names to retrieve\n",
    "dataset = 'cnofs' \n",
    "# Use https://sscweb.gsfc.nasa.gov/ to find the satellite name and time range desired.\n",
    "coord_type = 'GEO'  # Desired coordinate system for retrieved trajectory.\n",
    "# Choose naming convention for output files\n",
    "output_name = 'Files/RealFlightExample_GITM.txt' \n",
    "plot_coord = 'GSE'  # Coordinate system chosen for output plots\n",
    "# See https://sscweb.gsfc.nasa.gov/users_guide/Appendix_C.shtml for a description of coordinate types"
   ]
  },
  {
   "cell_type": "markdown",
   "id": "e4dffebd",
   "metadata": {},
   "source": [
    "The flythrough commands will break if the output file requested already exists. This feature is included by design to prevent users from accidentally overwriting a previously created file, especially since some flythrough execution times may take a while depending on various factors. So, the next block removes the file if it already exists. Avoid executing the next block if this is not the desired behavior."
   ]
  },
  {
   "cell_type": "code",
   "execution_count": 4,
   "id": "a1f45ae6",
   "metadata": {},
   "outputs": [
    {
     "name": "stdout",
     "output_type": "stream",
     "text": [
      "Files/RealFlightExample_GITM.txt file removed.\n"
     ]
    }
   ],
   "source": [
    "# Remove the previously created output file.\n",
    "import os\n",
    "if os.path.isfile(output_name):\n",
    "    os.remove(output_name)\n",
    "    print(output_name, 'file removed.')\n",
    "else:\n",
    "    print(output_name, 'file not found.')"
   ]
  },
  {
   "cell_type": "code",
   "execution_count": 5,
   "id": "88335af5",
   "metadata": {},
   "outputs": [
    {
     "name": "stdout",
     "output_type": "stream",
     "text": [
      "Attribute/Key names of return dictionary: dict_keys(['sat_time', 'c1', 'c2', 'c3'])\n",
      "Time slice index 0 added from file.\n",
      "Time slice index 1 added from file.\n",
      "Time slice index 2 added from file.\n",
      "Time slice index 3 added from file.\n",
      "Time slice index 4 added from file.\n",
      "Time slice index 5 added from file.\n",
      "Time slice index 6 added from file.\n",
      "Time slice index 7 added from file.\n",
      "Time slice index 8 added from file.\n",
      "Time slice index 9 added from file.\n",
      "Time slice index 10 added from file.\n",
      "Time slice index 11 added from file.\n",
      "Time slice index 12 added from file.\n",
      "Time slice index 13 added from file.\n",
      "Time slice index 0 added from file.\n",
      "Time slice index 1 added from file.\n",
      "Time slice index 2 added from file.\n",
      "Time slice index 3 added from file.\n",
      "Time slice index 4 added from file.\n",
      "Time slice index 5 added from file.\n",
      "Time slice index 6 added from file.\n",
      "Time slice index 7 added from file.\n",
      "Time slice index 8 added from file.\n",
      "Time slice index 9 added from file.\n",
      "Time slice index 10 added from file.\n",
      "Time slice index 11 added from file.\n",
      "Time slice index 12 added from file.\n",
      "Time slice index 13 added from file.\n",
      "{'rho_n': 'kg/m**3', 'TEC': '10**16/m**2', 'utc_time': 's', 'net_idx': '', 'c1': 'R_E', 'c2': 'R_E', 'c3': 'R_E'}\n",
      "Output saved in Files/RealFlightExample_GITM.txt.\n",
      "Generating interactive plots...\n"
     ]
    },
    {
     "name": "stderr",
     "output_type": "stream",
     "text": [
      "C:\\Users\\rringuet\\Anaconda3\\envs\\Kamodo_Jan2023\\lib\\site-packages\\scipy\\interpolate\\interpolate.py:630: RuntimeWarning: divide by zero encountered in true_divide\n",
      "  slope = (y_hi - y_lo) / (x_hi - x_lo)[:, None]\n",
      "C:\\Users\\rringuet\\Anaconda3\\envs\\Kamodo_Jan2023\\lib\\site-packages\\scipy\\interpolate\\interpolate.py:633: RuntimeWarning: invalid value encountered in multiply\n",
      "  y_new = slope*(x_new - x_lo)[:, None] + y_lo\n"
     ]
    },
    {
     "name": "stdout",
     "output_type": "stream",
     "text": [
      "-saving html div file:  Files/RealFlightExample_GITM_rho_n_3D.html\n",
      "-saving html div file:  Files/RealFlightExample_GITM_rho_n_1D.html\n",
      "-saving html div file:  Files/RealFlightExample_GITM_TEC_3D.html\n",
      "-saving html div file:  Files/RealFlightExample_GITM_TEC_1D.html\n"
     ]
    }
   ],
   "source": [
    "# Run RealFlight flythrough command. \n",
    "results_real = SF.RealFlight(dataset, start_utcts, end_utcts, model, file_dir, variables, \n",
    "                             coord_type=coord_type, output_name=output_name, plot_coord=plot_coord)\n",
    "# The numerous 'Time slice index' messages printed are generated by the lazy time interpolation,\n",
    "# which only loads the time slices necessary to perform the flythrough execution requested.\n",
    "# Open plots in separate internet browser window for interactivity. Nothing will open here."
   ]
  },
  {
   "cell_type": "code",
   "execution_count": 6,
   "id": "4ed3c141",
   "metadata": {},
   "outputs": [
    {
     "data": {
      "text/latex": [
       "\\begin{equation}\\rho_{n}{\\left(time \\right)}[\\frac{kg}{m^{3}}] = \\lambda{\\left(time \\right)}\\end{equation} \\begin{equation}\\operatorname{TEC}{\\left(time \\right)}[\\frac{10000000000000000}{m^{2}}] = \\lambda{\\left(time \\right)}\\end{equation}"
      ],
      "text/plain": [
       "{rho_n(time): <function Functionalize_TimeSeries.<locals>.timeseries_func at 0x000001C460A6C9D8>, rho_n: <function Functionalize_TimeSeries.<locals>.timeseries_func at 0x000001C460A6C9D8>, TEC(time): <function Functionalize_TimeSeries.<locals>.timeseries_func at 0x000001C4609CA828>, TEC: <function Functionalize_TimeSeries.<locals>.timeseries_func at 0x000001C4609CA828>}"
      ]
     },
     "execution_count": 6,
     "metadata": {},
     "output_type": "execute_result"
    }
   ],
   "source": [
    "# Functionalize the output.\n",
    "kamodo_object_real = SF.O.Functionalize_SFResults(model, results_real)\n",
    "kamodo_object_real"
   ]
  },
  {
   "cell_type": "markdown",
   "id": "2f287212",
   "metadata": {},
   "source": [
    "## FakeFlight\n",
    "Fly a sample satellite trajectory through a dataset"
   ]
  },
  {
   "cell_type": "code",
   "execution_count": 7,
   "id": "5bd1b924",
   "metadata": {},
   "outputs": [
    {
     "name": "stdout",
     "output_type": "stream",
     "text": [
      "Help on function FakeFlight in module kamodo_ccmc.flythrough.SatelliteFlythrough:\n",
      "\n",
      "FakeFlight(start_time, stop_time, model, file_dir, variable_list, max_lat=65.0, min_lat=-65.0, lon_perorbit=363.0, max_height=450.0, min_height=400.0, p=0.01, n=2.0, verbose=False, output_name='', plot_coord='GEO')\n",
      "    Generates a sample trajectory and then flies that trajectory through the\n",
      "    model data chosen.\n",
      "    \n",
      "    Parameters:\n",
      "        start_time: utc timestamp in seconds for start\n",
      "        stop_time: utc timestamp in seconds for stop\n",
      "        model: CTIPe, IRI, ....\n",
      "        file_dir: complete path to where model data is stored\n",
      "        variable_list: list of standardized variable names desired.\n",
      "            Integers allowed. Dimensions must be at least time + 2D spatial.\n",
      "        max_lat: maximum latitude for sample trajectory, in degrees\n",
      "            (default=65.)\n",
      "        min_lat: minimum latitude for sample trajectory, in degrees\n",
      "            (default=-65.)\n",
      "        lon_perorbit: the degrees of longitude per about 90 minute orbit\n",
      "            (set less than 360 for precession forward in longitude, set less\n",
      "            than 360 for precession backwards) (default=363.)\n",
      "        max_height: maximum starting height of orbit in km (default=450.)\n",
      "        min_height: minimum starting height of orbit in km (default=400.)\n",
      "        p: a rough precession variable, applied as an overall height decrease\n",
      "            as a percentage of the min_height value: p =  (default=0.01).\n",
      "        n: the time cadence of the sample trajectory generated\n",
      "            (default = 2 seconds)\n",
      "        output_name: complete path with filename (with the extension) for the\n",
      "            file to write the results to. Plotting filenames are determined by\n",
      "            output_name - extension + variable names + plot type (1D or 3D).\n",
      "            Extensions must be one of 'nc' for netCDF4 files, 'csv' for comma\n",
      "            separated data, or 'txt' for tab separated data files.\n",
      "        plot_coord: one of 'GDZ', 'GEO', 'GSM', 'GSE', 'SM', 'GEI', 'MAG', etc.\n",
      "            Indicates the coordinate system the plot will be generated in.\n",
      "            Only plots in cartesian coordinates systems are supported, so 'SPH'\n",
      "            and 'RLL' are not accepted. Default is 'GEO'. Astropy coordinates\n",
      "            also allowed.\n",
      "    \n",
      "    Returns a dictionary with keys: 'utc_time', 'c1', 'c2', 'c3', and 'net_idx'\n",
      "    - utc_time is an array in UTC seconds since 1970-01-01 of the generated\n",
      "        timestamps with any occuring outside of the model data removed.\n",
      "    - 'c1', 'c2', and 'c3' are arrays of the given coordinate values for each\n",
      "        surviving timestamp\n",
      "    - 'net_idx' is the original index value of the surviving timestamps.\n",
      "        This is kept for easier comparison with the original dataset.\n",
      "    - additional keys are included for each variable and label an array of the\n",
      "        values of the indicated variable for each time+spatial coordinate given\n",
      "    - The units of each array in the returned dictionary are printed to\n",
      "        the screen.\n",
      "    \n",
      "    See kamodo_ccmc.flythrough.utils.ConvertCoord for info on the coordinate\n",
      "    systems.\n",
      "\n"
     ]
    }
   ],
   "source": [
    "help(SF.FakeFlight)"
   ]
  },
  {
   "cell_type": "code",
   "execution_count": 8,
   "id": "d40fcb7d",
   "metadata": {},
   "outputs": [
    {
     "name": "stdout",
     "output_type": "stream",
     "text": [
      "Attribute/Key names of return dictionary: dict_keys(['sat_time', 'c1', 'c2', 'c3'])\n",
      "(c1,c2,c3) = (lon, lat, alt) in (deg,deg,km) in the GDZ, sph coordinate system.\n",
      "sat_time contains the utc timestamps.\n",
      "Time slice index 0 added from file.\n",
      "Time slice index 1 added from file.\n",
      "Time slice index 2 added from file.\n",
      "Time slice index 3 added from file.\n",
      "Time slice index 4 added from file.\n",
      "Time slice index 5 added from file.\n",
      "Time slice index 6 added from file.\n",
      "Time slice index 7 added from file.\n",
      "Time slice index 8 added from file.\n",
      "Time slice index 9 added from file.\n",
      "Time slice index 10 added from file.\n",
      "Time slice index 11 added from file.\n",
      "Time slice index 12 added from file.\n",
      "Time slice index 13 added from file.\n",
      "Time slice index 0 added from file.\n",
      "Time slice index 1 added from file.\n",
      "Time slice index 2 added from file.\n",
      "Time slice index 3 added from file.\n",
      "Time slice index 4 added from file.\n",
      "Time slice index 5 added from file.\n",
      "Time slice index 6 added from file.\n",
      "Time slice index 7 added from file.\n",
      "Time slice index 8 added from file.\n",
      "Time slice index 9 added from file.\n",
      "Time slice index 10 added from file.\n",
      "Time slice index 11 added from file.\n",
      "Time slice index 12 added from file.\n",
      "Time slice index 13 added from file.\n",
      "{'rho_n': 'kg/m**3', 'TEC': '10**16/m**2', 'utc_time': 's', 'net_idx': '', 'c1': 'deg', 'c2': 'deg', 'c3': 'km'}\n"
     ]
    },
    {
     "name": "stderr",
     "output_type": "stream",
     "text": [
      "C:\\Users\\rringuet\\Anaconda3\\envs\\Kamodo_Jan2023\\lib\\site-packages\\scipy\\interpolate\\interpolate.py:630: RuntimeWarning:\n",
      "\n",
      "divide by zero encountered in true_divide\n",
      "\n",
      "C:\\Users\\rringuet\\Anaconda3\\envs\\Kamodo_Jan2023\\lib\\site-packages\\scipy\\interpolate\\interpolate.py:633: RuntimeWarning:\n",
      "\n",
      "invalid value encountered in multiply\n",
      "\n"
     ]
    }
   ],
   "source": [
    "# Run FakeFlight. Note the same variables defined above are used here. \n",
    "results_fake = SF.FakeFlight(start_utcts, end_utcts, model, file_dir, variables, max_height=400, min_height=300, n=20)"
   ]
  },
  {
   "cell_type": "code",
   "execution_count": 9,
   "id": "416d7e99",
   "metadata": {},
   "outputs": [
    {
     "data": {
      "text/latex": [
       "\\begin{equation}\\rho_{n}{\\left(time \\right)}[\\frac{kg}{m^{3}}] = \\lambda{\\left(time \\right)}\\end{equation} \\begin{equation}\\operatorname{TEC}{\\left(time \\right)}[\\frac{10000000000000000}{m^{2}}] = \\lambda{\\left(time \\right)}\\end{equation}"
      ],
      "text/plain": [
       "{rho_n(time): <function Functionalize_TimeSeries.<locals>.timeseries_func at 0x000001C4609D1948>, rho_n: <function Functionalize_TimeSeries.<locals>.timeseries_func at 0x000001C4609D1948>, TEC(time): <function Functionalize_TimeSeries.<locals>.timeseries_func at 0x000001C4609D14C8>, TEC: <function Functionalize_TimeSeries.<locals>.timeseries_func at 0x000001C4609D14C8>}"
      ]
     },
     "execution_count": 9,
     "metadata": {},
     "output_type": "execute_result"
    }
   ],
   "source": [
    "# Functionalize the output.\n",
    "kamodo_object_fake = SF.O.Functionalize_SFResults(model, results_fake)\n",
    "kamodo_object_fake"
   ]
  },
  {
   "cell_type": "markdown",
   "id": "4b6489f8",
   "metadata": {},
   "source": [
    "## TLEFlight\n",
    "The TLEFlight function uses two-line elements to calculate a satellite trajectory using sgp4, \n",
    "and then flies that satellite trajectory through the chosen model data."
   ]
  },
  {
   "cell_type": "code",
   "execution_count": 10,
   "id": "e03098a5",
   "metadata": {},
   "outputs": [
    {
     "name": "stdout",
     "output_type": "stream",
     "text": [
      "Help on function TLEFlight in module kamodo_ccmc.flythrough.SatelliteFlythrough:\n",
      "\n",
      "TLEFlight(tle_file, start, stop, time_cadence, model, file_dir, variable_list, output_name='', plot_coord='GEO', method='forward', verbose=False)\n",
      "    Use sgp4 to calculate a satellite trajectory given TLEs, then fly the\n",
      "    trajectory through the chosen model data. If the time cadence does not\n",
      "    evenly divide into the range of timestamps given, then the ending time\n",
      "    value will be extended so that the entire requested range will be covered.\n",
      "    Parameters:\n",
      "        tle_file: The file name, including complete file path, of a file\n",
      "            containing two-line elements. It is assumed that the file has no\n",
      "            header and no other content.\n",
      "        start_utcts: The UTC timestamp corresponding to the desired start time.\n",
      "            Should be an integer.\n",
      "        stop_utcts: The UTC timestamp corresponding to the desired stop time.\n",
      "            Should be an integer.\n",
      "        time_cadence: The number of seconds desired between trajectory\n",
      "            positions. Should be an integer.\n",
      "        model: 'CTIPe','IRI', ...\n",
      "        file_dir: complete path to where model data files are stored.\n",
      "        variable_list: List of standardized variable names. See model variable\n",
      "            output for details. Dimensions must be at least time + 2D spatial.\n",
      "        coord_type: Pick from GEO, GSM, GSE, or SM for the satellite\n",
      "            trajectory.\n",
      "        output_name: complete path with filename (with the extension) for the\n",
      "            file to write the results to. Plotting filenames are determined by\n",
      "            output_name - extension + variable names + plot type (1D or 3D).\n",
      "            Extensions must be one of 'nc' for netCDF4 files, 'csv' for comma\n",
      "            separated data, or 'txt' for tab separated data files.\n",
      "        plot_coord: Any of the coordinate systems in SpacePy or AstroPy.\n",
      "            See the ConvertCoord function for more information on the choices\n",
      "            of string values.\n",
      "        method: 'forward' or 'nearest'. This keyword changes the propagation\n",
      "            method for timestamps between TLEs, not for timestamps before the\n",
      "            first TLE or after the last TLE. The 'forward' (default) method\n",
      "            uses the previous TLE to propagate forward for all timestamps\n",
      "            between the selected TLE and the next one, while the 'nearest'\n",
      "            method finds the TLE nearest to the timestamp and propagates either\n",
      "            forward or backward for the timestamp.\n",
      "        verbose: Set to true to be overwhelmed with information.\n",
      "    \n",
      "    Returns a dictionary with keys: 'utc_time', 'c1', 'c2', 'c3', and 'net_idx'\n",
      "        - utc_time is an array in UTC seconds since 1970-01-01 of the satellite\n",
      "            timestamps with any occuring outside of the model data removed.\n",
      "        - 'c1', 'c2', and 'c3' are arrays of the given coordinate values for\n",
      "            each surviving timestamp\n",
      "        - 'net_idx' is the original index value of the surviving timestamps.\n",
      "            This is kept for easier comparison with the original dataset.\n",
      "        - additional keys are included for each variable and label an array of\n",
      "            the values of the indicated variable for each time+spatial\n",
      "            coordinate given.\n",
      "        - The units of each array in the returned dictionary are printed to\n",
      "            the screen.\n",
      "    \n",
      "    See kamodo_ccmc.flythrough.utils.ConvertCoord for info on the coordinate\n",
      "    systems.\n",
      "\n"
     ]
    }
   ],
   "source": [
    "help(SF.TLEFlight)"
   ]
  },
  {
   "cell_type": "code",
   "execution_count": 11,
   "id": "daa22184",
   "metadata": {},
   "outputs": [
    {
     "name": "stdout",
     "output_type": "stream",
     "text": [
      "Time slice index 0 added from file.\n",
      "Time slice index 1 added from file.\n",
      "Time slice index 2 added from file.\n",
      "Time slice index 3 added from file.\n",
      "Time slice index 4 added from file.\n",
      "Time slice index 5 added from file.\n",
      "Time slice index 6 added from file.\n",
      "Time slice index 7 added from file.\n",
      "Time slice index 8 added from file.\n",
      "Time slice index 9 added from file.\n",
      "Time slice index 10 added from file.\n",
      "Time slice index 11 added from file.\n",
      "Time slice index 12 added from file.\n",
      "Time slice index 13 added from file.\n",
      "Time slice index 14 added from file.\n",
      "Time slice index 0 added from file.\n",
      "Time slice index 1 added from file.\n",
      "Time slice index 2 added from file.\n",
      "Time slice index 3 added from file.\n",
      "Time slice index 4 added from file.\n",
      "Time slice index 5 added from file.\n",
      "Time slice index 6 added from file.\n",
      "Time slice index 7 added from file.\n",
      "Time slice index 8 added from file.\n",
      "Time slice index 9 added from file.\n",
      "Time slice index 10 added from file.\n",
      "Time slice index 11 added from file.\n",
      "Time slice index 12 added from file.\n",
      "Time slice index 13 added from file.\n",
      "Time slice index 14 added from file.\n",
      "{'rho_n': 'kg/m**3', 'TEC': '10**16/m**2', 'utc_time': 's', 'net_idx': '', 'c1': 'R_E', 'c2': 'R_E', 'c3': 'R_E'}\n"
     ]
    }
   ],
   "source": [
    "# Run TLEFlight flythrough command.\n",
    "tle_file = 'Files/GRACE1_TLEs.txt'\n",
    "time_cadence = 60.  # seconds between propagated trajectory positions\n",
    "results_tle = SF.TLEFlight(tle_file, start_utcts, end_utcts, time_cadence, model, file_dir, variables)"
   ]
  },
  {
   "cell_type": "code",
   "execution_count": 12,
   "id": "a26f2d32",
   "metadata": {},
   "outputs": [
    {
     "data": {
      "text/latex": [
       "\\begin{equation}\\rho_{n}{\\left(time \\right)}[\\frac{kg}{m^{3}}] = \\lambda{\\left(time \\right)}\\end{equation} \\begin{equation}\\operatorname{TEC}{\\left(time \\right)}[\\frac{10000000000000000}{m^{2}}] = \\lambda{\\left(time \\right)}\\end{equation}"
      ],
      "text/plain": [
       "{rho_n(time): <function Functionalize_TimeSeries.<locals>.timeseries_func at 0x000001C461C51A68>, rho_n: <function Functionalize_TimeSeries.<locals>.timeseries_func at 0x000001C461C51A68>, TEC(time): <function Functionalize_TimeSeries.<locals>.timeseries_func at 0x000001C461CD8828>, TEC: <function Functionalize_TimeSeries.<locals>.timeseries_func at 0x000001C461CD8828>}"
      ]
     },
     "execution_count": 12,
     "metadata": {},
     "output_type": "execute_result"
    }
   ],
   "source": [
    "# Functionalize the output.\n",
    "kamodo_object_tle = SF.O.Functionalize_SFResults(model, results_tle)\n",
    "kamodo_object_tle"
   ]
  },
  {
   "cell_type": "markdown",
   "id": "a3ec5259",
   "metadata": {},
   "source": [
    "## MyFlight\n",
    "The MyFlight function flies a trajectory from a file through the chosen model data. The file must be formatted to match the csv/nc/txt file examples given. The easiest way to create this is to write out a given trajectory to a file using the SF.O.SF_write function demonstrated in the Trajectories section and use the output file from there."
   ]
  },
  {
   "cell_type": "code",
   "execution_count": 13,
   "id": "47b0df33",
   "metadata": {},
   "outputs": [
    {
     "name": "stdout",
     "output_type": "stream",
     "text": [
      "Help on function MyFlight in module kamodo_ccmc.flythrough.SatelliteFlythrough:\n",
      "\n",
      "MyFlight(traj_file, model, file_dir, variable_list, output_name='', plot_coord='GEO', verbose=False)\n",
      "    Read in a trajectory from a file, then fly through the model data\n",
      "    selected.\n",
      "    \n",
      "    traj_file: complete path and filename for file containing trajectory data.\n",
      "    file_type: one of 'cdf4' for netCDF4 files, 'csv' for comma-separated\n",
      "        files, or 'txt' for a tab-separated text file. Indicates the format of\n",
      "        the input trajectory file.\n",
      "    coord_sys: one of 'GDZ', 'GEO', 'GSM', 'GSE', 'SM', 'GEI', 'MAG', 'SPH',\n",
      "        'RLL' combined with '-sph' or '-car'. E.g. 'SM-car' or 'GDZ-sph'.\n",
      "        Astropy coordinate systems also supported.\n",
      "    model: 'CTIPe', 'IRI', ...\n",
      "    file_dir: complete path to model data files\n",
      "    variable_list: List of standardized variable names. See model variable\n",
      "        output for details. Dimensions must be at least time + 2D spatial.\n",
      "    output_name: complete path with filename (with the extension) for the file\n",
      "        to write the results to. Plotting filenames are determined by\n",
      "        output_name - extension + variable names + plot type (1D or 3D).\n",
      "        Extensions must be one of 'nc' for netCDF4 files, 'csv' for comma\n",
      "        separated data, or 'txt' for tab separated data files.\n",
      "    plot_coord: one of 'GDZ', 'GEO', 'GSM', 'GSE', 'SM', 'GEI', 'MAG', etc.\n",
      "        Indicates the coordinate system the plot will be generated in.\n",
      "        Only plots in cartesian coordinates systems are supported, so 'SPH'\n",
      "        and 'RLL' are not accepted. Default is 'GEO'. Astropy coordinates\n",
      "        also allowed.\n",
      "    verbose: Set to true to be overwhelmed with information.\n",
      "    \n",
      "    Returns a dictionary with keys: 'utc_time', 'c1', 'c2', 'c3', and 'net_idx'\n",
      "        - utc_time is an array in UTC seconds since 1970-01-01 of the given\n",
      "            timestamps with any occuring outside of the model data removed.\n",
      "        - 'c1', 'c2', and 'c3' are arrays of the given coordinate values for\n",
      "            each surviving timestamp.\n",
      "        - 'net_idx' is the original index value of the surviving timestamps.\n",
      "            This is kept for easier comparison with the original dataset.\n",
      "        - additional keys are included for each variable and label an array of\n",
      "            the values of the indicated variable for each time+spatial\n",
      "            coordinate given.\n",
      "        - The units of each array in the returned dictionary are printed to\n",
      "            the screen.\n",
      "    \n",
      "    See kamodo_ccmc.flythrough.utils.ConvertCoord for info on the coordinate\n",
      "    systems.\n",
      "\n"
     ]
    }
   ],
   "source": [
    "help(SF.MyFlight)"
   ]
  },
  {
   "cell_type": "code",
   "execution_count": 14,
   "id": "9791705b",
   "metadata": {},
   "outputs": [
    {
     "name": "stdout",
     "output_type": "stream",
     "text": [
      "Time slice index 0 added from file.\n",
      "Time slice index 1 added from file.\n",
      "Time slice index 2 added from file.\n",
      "Time slice index 3 added from file.\n",
      "Time slice index 4 added from file.\n",
      "Time slice index 5 added from file.\n",
      "Time slice index 6 added from file.\n",
      "Time slice index 7 added from file.\n",
      "Time slice index 8 added from file.\n",
      "Time slice index 9 added from file.\n",
      "Time slice index 10 added from file.\n",
      "Time slice index 11 added from file.\n",
      "Time slice index 12 added from file.\n",
      "Time slice index 13 added from file.\n",
      "Time slice index 0 added from file.\n",
      "Time slice index 1 added from file.\n",
      "Time slice index 2 added from file.\n",
      "Time slice index 3 added from file.\n",
      "Time slice index 4 added from file.\n",
      "Time slice index 5 added from file.\n",
      "Time slice index 6 added from file.\n",
      "Time slice index 7 added from file.\n",
      "Time slice index 8 added from file.\n",
      "Time slice index 9 added from file.\n",
      "Time slice index 10 added from file.\n",
      "Time slice index 11 added from file.\n",
      "Time slice index 12 added from file.\n",
      "Time slice index 13 added from file.\n",
      "{'rho_n': 'kg/m**3', 'TEC': '10**16/m**2', 'utc_time': 's', 'net_idx': '', 'c1': 'R_E', 'c2': 'R_E', 'c3': 'R_E'}\n"
     ]
    }
   ],
   "source": [
    "# Run MyFlight with user-supplied trajectory\n",
    "traj_file = 'Files/RealFlightExample_GITM.txt' \n",
    "results_my = SF.MyFlight(traj_file, model, file_dir, variables)"
   ]
  },
  {
   "cell_type": "code",
   "execution_count": 15,
   "id": "55de79f0",
   "metadata": {},
   "outputs": [
    {
     "data": {
      "text/latex": [
       "\\begin{equation}\\rho_{n}{\\left(time \\right)}[\\frac{kg}{m^{3}}] = \\lambda{\\left(time \\right)}\\end{equation} \\begin{equation}\\operatorname{TEC}{\\left(time \\right)}[\\frac{10000000000000000}{m^{2}}] = \\lambda{\\left(time \\right)}\\end{equation}"
      ],
      "text/plain": [
       "{rho_n(time): <function Functionalize_TimeSeries.<locals>.timeseries_func at 0x000001C461DDC828>, rho_n: <function Functionalize_TimeSeries.<locals>.timeseries_func at 0x000001C461DDC828>, TEC(time): <function Functionalize_TimeSeries.<locals>.timeseries_func at 0x000001C461DDC948>, TEC: <function Functionalize_TimeSeries.<locals>.timeseries_func at 0x000001C461DDC948>}"
      ]
     },
     "execution_count": 15,
     "metadata": {},
     "output_type": "execute_result"
    }
   ],
   "source": [
    "# Functionalize the output.\n",
    "kamodo_object_my = SF.O.Functionalize_SFResults(model, results_my)\n",
    "kamodo_object_my"
   ]
  },
  {
   "cell_type": "markdown",
   "id": "7cc13eae",
   "metadata": {},
   "source": [
    "## ModelFlythrough\n",
    "The ModelFlythough function flies a user-supplied trajectory through the chosen model data. This is the function the other flythrough functions call once a trajectory is acquired. The blocks below demonstrate this by first getting a trajectory from one of the Kamodo trajectory functions - SatelliteTrajectory in this case - and can be done with any of the trajectory functions. See the Trajectory section for more details."
   ]
  },
  {
   "cell_type": "code",
   "execution_count": 16,
   "id": "c4cc6d4d",
   "metadata": {},
   "outputs": [
    {
     "name": "stdout",
     "output_type": "stream",
     "text": [
      "Help on function ModelFlythrough in module kamodo_ccmc.flythrough.SatelliteFlythrough:\n",
      "\n",
      "ModelFlythrough(model, file_dir, variable_list, sat_time, c1, c2, c3, coord_sys, output_name='', plot_coord='GEO', verbose=False, _print_units=True)\n",
      "    Call satellite flythrough wrapper specific to the model chosen.\n",
      "    Parameters:\n",
      "    ------------\n",
      "    model: 'CTIPe','IRI', ...\n",
      "    file_dir: complete path to where model data files are stored\n",
      "    variable_list: List of standardized variable names. See model variable\n",
      "        output for details. Dimensions must be at least time + 2D spatial.\n",
      "    sat_time: a numpy array of the utc timestamps\n",
      "    c1, c2, c3: numpy arrays of the positions correlating to the utc timestamps\n",
      "        (c1, c2, c3) should be (x,y,z) in R_E for cartesian coordinates, and\n",
      "        (lon, lat, radius (R_E) or altitude (km)) for spherical coordinates.\n",
      "    coord_sys: one of 'GDZ', 'GEO', 'GSM', 'GSE', 'SM', 'GEI', 'MAG', 'SPH',\n",
      "        'RLL', etc, combined with '-sph' or '-car'. E.g. 'SM-car' or 'GDZ-sph'.\n",
      "    output_name: complete path with filename (with the extension) for the file\n",
      "        to write the results to. Plotting filenames are determined by\n",
      "        output_name - extension + variable names + plot type (1D or 3D).\n",
      "        Extensions must be one of 'nc' for netCDF4 files, 'csv' for comma\n",
      "        separated data, or 'txt' for tab separated data files.\n",
      "    plot_coord: one of 'GDZ', 'GEO', 'GSM', 'GSE', 'SM', 'GEI', 'MAG'.\n",
      "        Indicates the coordinate system the plot will be generated in. Only\n",
      "        plots in cartesian coordinates systems are supported, so 'SPH' and\n",
      "        'RLL' are not accepted. Default is 'GEO'.\n",
      "    verbose: Set to true to be overwhelmed with information.\n",
      "    \n",
      "    Returns a dictionary with keys: 'utc_time', 'c1', 'c2', 'c3', and 'net_idx'\n",
      "        - utc_time is an array in UTC seconds since 1970-01-01 of the given\n",
      "            timestamps with any occuring outside of the model data removed.\n",
      "        - 'c1', 'c2', and 'c3' are arrays of the given coordinate values for\n",
      "            each surviving timestamp\n",
      "        - 'net_idx' is the original index value of the surviving timestamps.\n",
      "            This is kept for easier comparison with the original dataset.\n",
      "        - additional keys are included for each variable and label an array of\n",
      "            the values of the indicated variable for each time+spatial\n",
      "            coordinate given.\n",
      "        - The units of each array in the returned dictionary are printed to\n",
      "            the screen.\n",
      "    \n",
      "    See kamodo_ccmc.flythrough.utils.ConvertCoord for info on the coordinate\n",
      "    systems.\n",
      "\n"
     ]
    }
   ],
   "source": [
    "help(SF.ModelFlythrough)"
   ]
  },
  {
   "cell_type": "code",
   "execution_count": 17,
   "id": "f36c77f2",
   "metadata": {},
   "outputs": [
    {
     "name": "stdout",
     "output_type": "stream",
     "text": [
      "Attribute/Key names of return dictionary: dict_keys(['sat_time', 'c1', 'c2', 'c3'])\n",
      "dict_keys(['sat_time', 'c1', 'c2', 'c3']) GSE-car\n"
     ]
    }
   ],
   "source": [
    "# Pull a real satellite trajectory\n",
    "traj_dict, new_coord_sys = SF.SatelliteTrajectory('grace1', start_utcts, end_utcts, coord_type='GSE')\n",
    "print(traj_dict.keys(), new_coord_sys)"
   ]
  },
  {
   "cell_type": "code",
   "execution_count": 18,
   "id": "7e836977",
   "metadata": {},
   "outputs": [
    {
     "name": "stdout",
     "output_type": "stream",
     "text": [
      "Time slice index 0 added from file.\n",
      "Time slice index 1 added from file.\n",
      "Time slice index 2 added from file.\n",
      "Time slice index 3 added from file.\n",
      "Time slice index 4 added from file.\n",
      "Time slice index 5 added from file.\n",
      "Time slice index 6 added from file.\n",
      "Time slice index 7 added from file.\n",
      "Time slice index 8 added from file.\n",
      "Time slice index 9 added from file.\n",
      "Time slice index 10 added from file.\n",
      "Time slice index 11 added from file.\n",
      "Time slice index 12 added from file.\n",
      "Time slice index 13 added from file.\n",
      "Time slice index 0 added from file.\n",
      "Time slice index 1 added from file.\n",
      "Time slice index 2 added from file.\n",
      "Time slice index 3 added from file.\n",
      "Time slice index 4 added from file.\n",
      "Time slice index 5 added from file.\n",
      "Time slice index 6 added from file.\n",
      "Time slice index 7 added from file.\n",
      "Time slice index 8 added from file.\n",
      "Time slice index 9 added from file.\n",
      "Time slice index 10 added from file.\n",
      "Time slice index 11 added from file.\n",
      "Time slice index 12 added from file.\n",
      "Time slice index 13 added from file.\n",
      "{'rho_n': 'kg/m**3', 'TEC': '10**16/m**2', 'utc_time': 's', 'net_idx': '', 'c1': 'R_E', 'c2': 'R_E', 'c3': 'R_E'}\n"
     ]
    },
    {
     "name": "stderr",
     "output_type": "stream",
     "text": [
      "C:\\Users\\rringuet\\Anaconda3\\envs\\Kamodo_Jan2023\\lib\\site-packages\\scipy\\interpolate\\interpolate.py:630: RuntimeWarning:\n",
      "\n",
      "divide by zero encountered in true_divide\n",
      "\n",
      "C:\\Users\\rringuet\\Anaconda3\\envs\\Kamodo_Jan2023\\lib\\site-packages\\scipy\\interpolate\\interpolate.py:633: RuntimeWarning:\n",
      "\n",
      "invalid value encountered in multiply\n",
      "\n"
     ]
    }
   ],
   "source": [
    "# Run ModelFlythrough with grace1 trajectory from SSCWeb\n",
    "results = SF.ModelFlythrough(model, file_dir, variables, traj_dict['sat_time'], traj_dict['c1'], \n",
    "                             traj_dict['c2'], traj_dict['c3'], new_coord_sys)"
   ]
  },
  {
   "cell_type": "code",
   "execution_count": 19,
   "id": "f0509319",
   "metadata": {},
   "outputs": [
    {
     "data": {
      "text/latex": [
       "\\begin{equation}\\rho_{n}{\\left(time \\right)}[\\frac{kg}{m^{3}}] = \\lambda{\\left(time \\right)}\\end{equation} \\begin{equation}\\operatorname{TEC}{\\left(time \\right)}[\\frac{10000000000000000}{m^{2}}] = \\lambda{\\left(time \\right)}\\end{equation}"
      ],
      "text/plain": [
       "{rho_n(time): <function Functionalize_TimeSeries.<locals>.timeseries_func at 0x000001C45F8DEA68>, rho_n: <function Functionalize_TimeSeries.<locals>.timeseries_func at 0x000001C45F8DEA68>, TEC(time): <function Functionalize_TimeSeries.<locals>.timeseries_func at 0x000001C45F8DECA8>, TEC: <function Functionalize_TimeSeries.<locals>.timeseries_func at 0x000001C45F8DECA8>}"
      ]
     },
     "execution_count": 19,
     "metadata": {},
     "output_type": "execute_result"
    }
   ],
   "source": [
    "# Functionalize the output.\n",
    "kamodo_object = SF.O.Functionalize_SFResults(model, results)\n",
    "kamodo_object"
   ]
  }
 ],
 "metadata": {
  "kernelspec": {
   "display_name": "Python 3 (ipykernel)",
   "language": "python",
   "name": "python3"
  },
  "language_info": {
   "codemirror_mode": {
    "name": "ipython",
    "version": 3
   },
   "file_extension": ".py",
   "mimetype": "text/x-python",
   "name": "python",
   "nbconvert_exporter": "python",
   "pygments_lexer": "ipython3",
   "version": "3.7.13"
  }
 },
 "nbformat": 4,
 "nbformat_minor": 5
}
