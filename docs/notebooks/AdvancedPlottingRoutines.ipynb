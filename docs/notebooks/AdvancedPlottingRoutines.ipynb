{
 "cells": [
  {
   "cell_type": "markdown",
   "id": "9cede150",
   "metadata": {},
   "source": [
    "# Advanced Plotting Routines\n",
    "This notebook tutorial shows special customized visualization options that can be utilized for some model output or data type."
   ]
  },
  {
   "cell_type": "markdown",
   "id": "a01d429c",
   "metadata": {},
   "source": [
    "## SatPlot4D\n",
    "This tool enables many customizations for timeseries output along a satellite trajectory. It is designed to work with FlyThrough output or more generalized datasets."
   ]
  },
  {
   "cell_type": "code",
   "execution_count": 2,
   "id": "807e2208",
   "metadata": {},
   "outputs": [
    {
     "name": "stdout",
     "output_type": "stream",
     "text": [
      "Help on function SatPlot4D in module kamodo_ccmc.flythrough.plots:\n",
      "\n",
      "SatPlot4D(var, time, c1, c2, c3, vard, varu, inCoordName, inCoordType, plotCoord, groupby, model, displayplot=True, returnfig=False, type='3D', body='black', zoom=False, divfile='', htmlfile='', plotCoordType1D='car', vUnit='', vxName='', vx='', vyName='', vy='', vzName='', vz='', vScale=1.0, vSkip=0)\n",
      "    4D plotting for satellite trajectories using plotly by Darren De Zeeuw\n",
      "    \n",
      "    __Required variables__\n",
      "    \n",
      "    var: string of variable name\n",
      "    time: time formatted as a timestamp in UTC\n",
      "    c1: latitude  or X\n",
      "    c2: longitude or Y\n",
      "    c3: altitude  or Z\n",
      "    vard: data of variable var, same size array as positions\n",
      "    varu: string of variable var units\n",
      "    inCoordName: string for incoming coordinate system.\n",
      "        GDZ, GEO, GSM, GSE, SM, GEI, MAG, RLL\n",
      "    inCoordType: string for incoming coordinate type.  car, sph\n",
      "    plotCoord: string for coordinate system used in 3D plot. \n",
      "        Assumes car for 3D and Polar, sph otherwise.\n",
      "    groupby: grouping of data for animation, values include\n",
      "        all, day, hour, minute, N, orbitE, orbitM\n",
      "    model: string of name of model the data was extracted from\n",
      "    \n",
      "    __Optional variables__\n",
      "    \n",
      "    displayplot: logical to show/hide displayed plot\n",
      "    returnfig: logical to return figure object for further modification,\n",
      "        will override displayplot if True\n",
      "    type: string for choice of plot type, values:\n",
      "        3D, 3Dv, 1D, 2D, 2DLT, 2DPN, 2DPS\n",
      "    body: string choice of 3D inner body, values: black, earth (GEO), none\n",
      "    zoom: logical to show zoomed in view for polar plots\n",
      "    divfile: string with filename to save a html div file of the plot\n",
      "    htmlfile: string with filename to save a full html file of the plot\n",
      "    plotCoordType1D: displayed coordinate type for 1D plots.  car, sph\n",
      "    vUnit: units of quiver vector quantity, ie 'nT'\n",
      "    vxName: string name of X component of quiver vector, ie 'B_x'\n",
      "    vx: array of values of X component of quiver vector\n",
      "    vyName: string name of Y component of quiver vector, ie 'B_y'\n",
      "    vy: array of values of Y component of quiver vector\n",
      "    vzName: string name of Z component of quiver vector, ie 'B_z'\n",
      "    vz: array of values of Z component of quiver vector\n",
      "    vScale: length scale factor to quiver vectors\n",
      "    vSkip: skip this number of points between displaying quiver vector\n",
      "\n"
     ]
    }
   ],
   "source": [
    "from kamodo_ccmc.flythrough.plots import SatPlot4D\n",
    "help(SatPlot4D)"
   ]
  },
  {
   "cell_type": "markdown",
   "id": "aa687a8f",
   "metadata": {},
   "source": [
    "### Load data and make several different plots"
   ]
  },
  {
   "cell_type": "code",
   "execution_count": 3,
   "id": "8da0b3c6",
   "metadata": {},
   "outputs": [],
   "source": [
    "# Load a saved satellite flythrough file (or use data in memory)\n",
    "from kamodo_ccmc.flythrough.SF_output import SFcsv_reader\n",
    "cdf_dict = SFcsv_reader('Files/FakeFlightExample_CTIPe20s.csv')\n",
    "\n",
    "var = 'rho' # variable to plot"
   ]
  },
  {
   "cell_type": "markdown",
   "id": "996c5435",
   "metadata": {},
   "source": [
    "![Screenshot](Files/SatPlot4D_1D.png)"
   ]
  },
  {
   "cell_type": "markdown",
   "id": "9121b293",
   "metadata": {},
   "source": [
    "![Screenshot](Files/SatPlot4D_2D.png)"
   ]
  },
  {
   "cell_type": "markdown",
   "id": "a0537bd7",
   "metadata": {},
   "source": [
    "![Screenshot](Files/SatPlot4D_2DPN.png)"
   ]
  },
  {
   "cell_type": "markdown",
   "id": "0266b9c3",
   "metadata": {},
   "source": [
    "![Screenshot](Files/SatPlot4D_3Da.png)"
   ]
  },
  {
   "cell_type": "markdown",
   "id": "f41e2815",
   "metadata": {},
   "source": [
    "![Screenshot](Files/SatPlot4D_3Db.png)"
   ]
  },
  {
   "cell_type": "markdown",
   "id": "aeb4d3b0",
   "metadata": {},
   "source": [
    "## Other ways to modify figures"
   ]
  },
  {
   "cell_type": "markdown",
   "id": "1e020f49",
   "metadata": {},
   "source": [
    "We have already loaded a kamodo_object with a couple of days of model output (not shown). With time and altitude fixed, the plot will show the ion Temperature for all latitude and longitude values.\n",
    "\n",
    "Now we compare the default plot for a slice through the model at noon and 500km altitude with one where several plot parameters are modified, for a subjectively more appealing figure."
   ]
  },
  {
   "cell_type": "markdown",
   "id": "7bec74a3",
   "metadata": {},
   "source": [
    "![Screenshot](Files/FigMods0.png)"
   ]
  },
  {
   "cell_type": "markdown",
   "id": "434afc60",
   "metadata": {},
   "source": [
    "![Screenshot](Files/FigMods1.png)"
   ]
  },
  {
   "cell_type": "markdown",
   "id": "661bc290",
   "metadata": {},
   "source": [
    "While these are improved plots, more can be done. Another plot modification function can pick any arbitrary two values from Lat, Lon, Alt, Time and plot in 2D. Any supported coordinate system is also available, and Earth shorlines can also be overlayed, as well as custom plot titles."
   ]
  },
  {
   "cell_type": "markdown",
   "id": "5aa02862",
   "metadata": {},
   "source": [
    "![Screenshot](Files/GDZSlice4D.png)"
   ]
  },
  {
   "cell_type": "markdown",
   "id": "0e20f796",
   "metadata": {},
   "source": [
    "Alternatively, the original fig1 from above can be viewed in 3D, again with other customizations such as coordinate system, title, colorscale, and contour ranges."
   ]
  },
  {
   "cell_type": "markdown",
   "id": "bb6717d5",
   "metadata": {},
   "source": [
    "![Screenshot](Files/ReplotLL3D.png)"
   ]
  },
  {
   "cell_type": "markdown",
   "id": "4ef55bc3",
   "metadata": {},
   "source": [
    "## Custom plots for just one data source"
   ]
  },
  {
   "cell_type": "markdown",
   "id": "0230ffe2",
   "metadata": {},
   "source": [
    "Sometimes, custom plotting can't easily be generalized for all model readers yet. These custom options fit one model reader for now for specific types of plots. A custom model reader was written to read in satellite extractions from CCMC Run on Request magnetosphere runs. The custom plotting can show multiple satellite positions available for the duration of the run or it can pick one and show value and/or vector plots broken up into groupings by day or orbit."
   ]
  },
  {
   "cell_type": "markdown",
   "id": "29f6768f",
   "metadata": {},
   "source": [
    "![Screenshot](Files/ror0.png)"
   ]
  },
  {
   "cell_type": "markdown",
   "id": "c14abec8",
   "metadata": {},
   "source": [
    "![Screenshot](Files/ror1.png)"
   ]
  }
 ],
 "metadata": {
  "kernelspec": {
   "display_name": "Python 3 (ipykernel)",
   "language": "python",
   "name": "python3"
  },
  "language_info": {
   "codemirror_mode": {
    "name": "ipython",
    "version": 3
   },
   "file_extension": ".py",
   "mimetype": "text/x-python",
   "name": "python",
   "nbconvert_exporter": "python",
   "pygments_lexer": "ipython3",
   "version": "3.7.13"
  }
 },
 "nbformat": 4,
 "nbformat_minor": 5
}
