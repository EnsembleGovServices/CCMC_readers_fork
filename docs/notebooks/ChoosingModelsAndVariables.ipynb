{
 "cells": [
  {
   "cell_type": "markdown",
   "metadata": {},
   "source": [
    "# Choosing Models and Variables\n",
    "You may run the notebook as is if you have the sample data file, but you must change the 'file_dir' variable in block 5 to have the correct file path. Try changing the model, variable type, variable names, plotting values, and so on to interact with the data. All of the model readers have identical syntax and function, so you can choose any model reader and expect the same results. Execution time varies between datasets.\n",
    "Sample datasets may be obtained from https://ccmc.gsfc.nasa.gov/RoR_WWW/output_files/KAMODO_DEMO/. For examples of other functions, such as the flythrough, see the other notebooks in this directory."
   ]
  },
  {
   "cell_type": "markdown",
   "metadata": {},
   "source": [
    "## Show a list of models currently available"
   ]
  },
  {
   "cell_type": "code",
   "execution_count": 1,
   "metadata": {},
   "outputs": [
    {
     "name": "stdout",
     "output_type": "stream",
     "text": [
      "Possible models are: \n",
      "ADELPHI: AMPERE-Derived ELectrodynamic Properties of the High-latitude Ionosphere https://doi.org/10.1029/2020SW002677\n",
      "AMGeO: Assimilative Mapping of Geospace Observations https://doi.org/10.5281/zenodo.3564914\n",
      "CTIPe: Coupled Thermosphere Ionosphere Plasmasphere Electrodynamics Model https://doi.org/10.1029/2007SW000364\n",
      "DTM: The Drag Temperature Model https://doi.org/10.1051/swsc/2015001\n",
      "GAMERA_GM: Grid Agnostic MHD for Extended Research Applications - Global Magnetosphere outputs https://doi.org/10.3847/1538-4365/ab3a4c (coming soon)\n",
      "GITM: Global Ionosphere Thermosphere Model https://doi.org/10.1016/j.jastp.2006.01.008\n",
      "IRI: International Reference Ionosphere Model https://doi.org/10.5194/ars-16-1-2018\n",
      "OpenGGCM_GM: The Open Geospace General Circulation Model - Global Magnetosphere outputs only https://doi.org/10.1023/A:1014228230714\n",
      "SuperDARN_uni: SuperDARN uniform grid output https://doi.org/10.1029/2010JA016017\n",
      "SuperDARN_equ: SuperDARN equal area grid output https://doi.org/10.1029/2010JA016017\n",
      "SWMF_IE: Space Weather Modeling Framework - Ionosphere and Electrodynamics outputs https://doi.org/10.1029/2006SW000272\n",
      "SWMF_GM: Space Weather Modeling Framework - Global Magnetosphere outputs https://doi.org/10.1029/2006SW000272\n",
      "TIEGCM: Thermosphere Ionosphere Electrodynamics General Circulation Model https://doi.org/10.1029/2012GM001297\n",
      "WACCMX: Whole Atmosphere Community Climate Model With Thermosphere and Ionosphere Extension https://doi.org/10.1002/2017MS001232\n",
      "WAMIPE: The coupled Whole Atmosphere Model - Ionosphere Plasmasphere Model https://doi.org/10.1002/2015GL067312 and https://doi.org/10.1029/2022SW003193\n",
      "Weimer: Weimer Ionosphere model https://doi.org/10.1029/2005JA011270\n"
     ]
    }
   ],
   "source": [
    "import kamodo_ccmc.flythrough.model_wrapper as MW\n",
    "MW.Choose_Model('')"
   ]
  },
  {
   "cell_type": "markdown",
   "metadata": {},
   "source": [
    "## Access documentation"
   ]
  },
  {
   "cell_type": "code",
   "execution_count": 2,
   "metadata": {},
   "outputs": [
    {
     "name": "stdout",
     "output_type": "stream",
     "text": [
      "Help on function Variable_Search in module kamodo_ccmc.flythrough.model_wrapper:\n",
      "\n",
      "Variable_Search(search_string='', model='', file_dir='', return_dict=False)\n",
      "    Search variable descriptions for the given string. If the model string\n",
      "    is set, the chosen model will be searched. If file_dir is set to the\n",
      "    directory where some model data is stored, the files available in that\n",
      "    model data will be searched. If neither is set, then all model variables\n",
      "    will be searched. Searching all of the model variables will take additional\n",
      "    time as the model library grows. All searches are performed using lower\n",
      "    case text (e.g. \"temperature\" not \"Temperature\").\n",
      "    \n",
      "    Returns a dictionary with information that varies per call type if \n",
      "    return_dict is True. Default is to print the information to the screen\n",
      "    and return nothing (return_dict=False).\n",
      "    - if the search_string is left blank, then nothing will be returned. Only\n",
      "        the chosen information will be printed to the screen.\n",
      "    - if neither model nor file_dir is set, the dictionary will have the model\n",
      "        names as keys and the value will be a dictionary with the variable\n",
      "        names as keys and the variable description, coordinate dependencies,\n",
      "        and variable units as the value.\n",
      "    - if only the model value is set, then the dictionary will have the\n",
      "        variable names as keys and the variable description, coordinate\n",
      "        dependencies, and variable units as the value.\n",
      "    - if the model and file_dir values are set, then the dictionary will have\n",
      "        the file names (or prefixes) as keys and the value will be a dictionary\n",
      "        with the variable names as keys and the variable description,\n",
      "        coordinate dependencies, and variable units as the value.\n",
      "\n"
     ]
    }
   ],
   "source": [
    "help(MW.Variable_Search)"
   ]
  },
  {
   "cell_type": "markdown",
   "metadata": {},
   "source": [
    "## Show all the possible variables"
   ]
  },
  {
   "cell_type": "code",
   "execution_count": 3,
   "metadata": {
    "scrolled": false
   },
   "outputs": [],
   "source": [
    "# The command below outputs well over 500 lines of output.\n",
    "# Click the link in the next cell to view all the output.\n",
    "\n",
    "# MW.Variable_Search()"
   ]
  },
  {
   "cell_type": "code",
   "execution_count": 4,
   "metadata": {},
   "outputs": [
    {
     "data": {
      "text/html": [
       "<a href=\"Files/MW.Variable_Search.txt\">MW.Variable_Search</a>\n"
      ],
      "text/plain": [
       "<IPython.core.display.HTML object>"
      ]
     },
     "metadata": {},
     "output_type": "display_data"
    }
   ],
   "source": [
    "%%html\n",
    "<a href=\"Files/MW.Variable_Search.txt\">MW.Variable_Search</a>"
   ]
  },
  {
   "cell_type": "markdown",
   "metadata": {},
   "source": [
    "## Choosing a model"
   ]
  },
  {
   "cell_type": "code",
   "execution_count": 5,
   "metadata": {},
   "outputs": [
    {
     "name": "stdout",
     "output_type": "stream",
     "text": [
      "\n",
      "ADELPHI:\n",
      "No temperature variables found.\n",
      "\n",
      "AMGeO:\n",
      "No temperature variables found.\n",
      "\n",
      "CTIPe:\n",
      "T_ilev1: ['temperature', 'GDZ-sph', ['time', 'lon', 'lat', 'ilev1'], 'K']\n",
      "T: ['temperature', 'GDZ-sph', ['time', 'lon', 'lat', 'height'], 'K']\n",
      "T_e: ['electron temperature', 'GDZ-sph', ['time', 'lon', 'lat', 'height'], 'K']\n",
      "T_i: ['ion temperature', 'GDZ-sph', ['time', 'lon', 'lat', 'height'], 'K']\n",
      "T_n_ilev: ['neutral temperature', 'GDZ-sph', ['time', 'lon', 'lat', 'ilev'], 'K']\n",
      "T_n: ['neutral temperature', 'GDZ-sph', ['time', 'lon', 'lat', 'height'], 'K']\n",
      "\n",
      "DTM:\n",
      "T_exo: ['Exospheric temperature', 'GDZ-sph', ['time', 'lon', 'lat'], 'K']\n",
      "T: ['temperature', 'GDZ-sph', ['time', 'lon', 'lat', 'height'], 'K']\n",
      "\n",
      "GAMERA_GM:\n",
      "No temperature variables found.\n",
      "\n",
      "GITM:\n",
      "T_n: ['neutral temperature', 'GDZ-sph', ['time', 'lon', 'lat', 'height'], 'K']\n",
      "T_e: ['electron temperature', 'GDZ-sph', ['time', 'lon', 'lat', 'height'], 'K']\n",
      "T_i: ['ion temperature', 'GDZ-sph', ['time', 'lon', 'lat', 'height'], 'K']\n",
      "\n",
      "IRI:\n",
      "T_e: ['electron temperature', 'GDZ-sph', ['time', 'lon', 'lat', 'height'], 'K']\n",
      "T_i: ['ion temperature', 'GDZ-sph', ['time', 'lon', 'lat', 'height'], 'K']\n",
      "T_n: ['neutral temperature', 'GDZ-sph', ['time', 'lon', 'lat', 'height'], 'K']\n",
      "\n",
      "OpenGGCM_GM:\n",
      "No temperature variables found.\n",
      "\n",
      "SuperDARN_uni:\n",
      "No temperature variables found.\n",
      "\n",
      "SuperDARN_equ:\n",
      "No temperature variables found.\n",
      "\n",
      "SWMF_IE:\n",
      "No temperature variables found.\n",
      "\n",
      "SWMF_GM:\n",
      "No temperature variables found.\n",
      "\n",
      "TIEGCM:\n",
      "T_n_ilev: ['neutral temperature', 'GDZ-sph', ['time', 'lon', 'lat', 'ilev'], 'K']\n",
      "T_n: ['neutral temperature', 'GDZ-sph', ['time', 'lon', 'lat', 'height'], 'K']\n",
      "T_e_ilev: ['electron temperature', 'GDZ-sph', ['time', 'lon', 'lat', 'ilev'], 'K']\n",
      "T_e: ['electron temperature', 'GDZ-sph', ['time', 'lon', 'lat', 'height'], 'K']\n",
      "T_i_ilev: ['ion temperature', 'GDZ-sph', ['time', 'lon', 'lat', 'ilev'], 'K']\n",
      "T_i: ['ion temperature', 'GDZ-sph', ['time', 'lon', 'lat', 'height'], 'K']\n",
      "\n",
      "WACCMX:\n",
      "T_ilev: ['Temperature', 'GDZ-sph', ['time', 'lon', 'lat', 'ilev'], 'K']\n",
      "T: ['Temperature', 'GDZ-sph', ['time', 'lon', 'lat', 'height'], 'K']\n",
      "T_e_ilev: ['Electron Temperature', 'GDZ-sph', ['time', 'lon', 'lat', 'ilev'], 'K']\n",
      "T_e: ['Electron Temperature', 'GDZ-sph', ['time', 'lon', 'lat', 'height'], 'K']\n",
      "T_i_ilev: ['Ion Temperature', 'GDZ-sph', ['time', 'lon', 'lat', 'ilev'], 'K']\n",
      "T_i: ['Ion Temperature', 'GDZ-sph', ['time', 'lon', 'lat', 'height'], 'K']\n",
      "T_08_COS_ilev: ['Temperature  8hr. cos coeff.', 'GDZ-sph', ['time', 'lon', 'lat', 'ilev'], 'K']\n",
      "T_08_COS: ['Temperature  8hr. cos coeff.', 'GDZ-sph', ['time', 'lon', 'lat', 'height'], 'K']\n",
      "T_08_SIN_ilev: ['Temperature  8hr. sin coeff.', 'GDZ-sph', ['time', 'lon', 'lat', 'ilev'], 'K']\n",
      "T_08_SIN: ['Temperature  8hr. sin coeff.', 'GDZ-sph', ['time', 'lon', 'lat', 'height'], 'K']\n",
      "T_12_COS_ilev: ['Temperature 12hr. cos coeff.', 'GDZ-sph', ['time', 'lon', 'lat', 'ilev'], 'K']\n",
      "T_12_COS: ['Temperature 12hr. cos coeff.', 'GDZ-sph', ['time', 'lon', 'lat', 'height'], 'K']\n",
      "T_12_SIN_ilev: ['Temperature 12hr. sin coeff.', 'GDZ-sph', ['time', 'lon', 'lat', 'ilev'], 'K']\n",
      "T_12_SIN: ['Temperature 12hr. sin coeff.', 'GDZ-sph', ['time', 'lon', 'lat', 'height'], 'K']\n",
      "T_24_COS_ilev: ['Temperature 24hr. cos coeff.', 'GDZ-sph', ['time', 'lon', 'lat', 'ilev'], 'K']\n",
      "T_24_COS: ['Temperature 24hr. cos coeff.', 'GDZ-sph', ['time', 'lon', 'lat', 'height'], 'K']\n",
      "T_24_SIN_ilev: ['Temperature 24hr. sin coeff.', 'GDZ-sph', ['time', 'lon', 'lat', 'ilev'], 'K']\n",
      "T_24_SIN: ['Temperature 24hr. sin coeff.', 'GDZ-sph', ['time', 'lon', 'lat', 'height'], 'K']\n",
      "\n",
      "WAMIPE:\n",
      "T_n_ilev: ['neutral temperature', 'GDZ-sph', ['time', 'lon', 'lat', 'ilev'], 'K']\n",
      "T_n: ['neutral temperature', 'GDZ-sph', ['time', 'lon', 'lat', 'height'], 'K']\n",
      "T_i: ['Ion temperature', 'GDZ-sph', ['time', 'lon', 'lat', 'height'], 'K']\n",
      "T_e: ['Electron temperature', 'GDZ-sph', ['time', 'lon', 'lat', 'height'], 'K']\n",
      "\n",
      "Weimer:\n",
      "No temperature variables found.\n"
     ]
    }
   ],
   "source": [
    "MW.Variable_Search('temperature')"
   ]
  },
  {
   "cell_type": "markdown",
   "metadata": {},
   "source": [
    "## Choosing a variable"
   ]
  },
  {
   "cell_type": "code",
   "execution_count": 6,
   "metadata": {},
   "outputs": [
    {
     "name": "stdout",
     "output_type": "stream",
     "text": [
      "T_exo: ['Exospheric temperature', 'GDZ-sph', ['time', 'lon', 'lat'], 'K']\n",
      "T: ['temperature', 'GDZ-sph', ['time', 'lon', 'lat', 'height'], 'K']\n"
     ]
    }
   ],
   "source": [
    "# Temperature variables\n",
    "MW.Variable_Search('temperature', model='DTM')"
   ]
  },
  {
   "cell_type": "code",
   "execution_count": 7,
   "metadata": {
    "scrolled": false
   },
   "outputs": [
    {
     "name": "stdout",
     "output_type": "stream",
     "text": [
      "\n",
      "The DTM model accepts the standardized variable names listed below.\n",
      "-----------------------------------------------------------------------------------\n",
      "N_H : '['Atomic hydrogen partial density', 0, 'GDZ', 'sph', ['time', 'lon', 'lat', 'height'], 'g/cm**3']'\n",
      "N_He : '['Atomic helium partial density', 0, 'GDZ', 'sph', ['time', 'lon', 'lat', 'height'], 'g/cm**3']'\n",
      "N_N2 : '['Molecular nitrogen partial density', 0, 'GDZ', 'sph', ['time', 'lon', 'lat', 'height'], 'g/cm**3']'\n",
      "N_O : '['Atomic oxygen partial density', 0, 'GDZ', 'sph', ['time', 'lon', 'lat', 'height'], 'g/cm**3']'\n",
      "N_O2 : '['Molecular oxygen partial density', 0, 'GDZ', 'sph', ['time', 'lon', 'lat', 'height'], 'g/cm**3']'\n",
      "T : '['temperature', 0, 'GDZ', 'sph', ['time', 'lon', 'lat', 'height'], 'K']'\n",
      "T_exo : '['Exospheric temperature', 0, 'GDZ', 'sph', ['time', 'lon', 'lat'], 'K']'\n",
      "m_avgmol : '['Mean molecular mass', 0, 'GDZ', 'sph', ['time', 'lon', 'lat', 'height'], 'g']'\n",
      "rho : '['Total mass density', 0, 'GDZ', 'sph', ['time', 'lon', 'lat', 'height'], 'g/cm**3']'\n",
      "\n"
     ]
    }
   ],
   "source": [
    "# All variables\n",
    "MW.Variable_Search('', model='DTM')"
   ]
  },
  {
   "cell_type": "markdown",
   "metadata": {},
   "source": [
    "## Choosing a dataset\n",
    "Notes:\n",
    "- Change the file_dir variable in the next cell to be the file path to the chosen dataset before running.\n",
    "- This command and any call to MW.Variable_Search that includes the file_dir also performs any file conversion or pre-processing necessary."
   ]
  },
  {
   "cell_type": "code",
   "execution_count": 12,
   "metadata": {
    "scrolled": false
   },
   "outputs": [
    {
     "name": "stdout",
     "output_type": "stream",
     "text": [
      "\n",
      "The file directory contains the following standardized variable names:\n",
      "-----------------------------------------------------------------------------------\n",
      "T_exo : '['Exospheric temperature', 0, 'GDZ', 'sph', ['time', 'lon', 'lat'], 'K']'\n",
      "T : '['temperature', 0, 'GDZ', 'sph', ['time', 'lon', 'lat', 'height'], 'K']'\n",
      "rho : '['Total mass density', 0, 'GDZ', 'sph', ['time', 'lon', 'lat', 'height'], 'g/cm**3']'\n",
      "m_avgmol : '['Mean molecular mass', 0, 'GDZ', 'sph', ['time', 'lon', 'lat', 'height'], 'g']'\n",
      "N_H : '['Atomic hydrogen partial density', 0, 'GDZ', 'sph', ['time', 'lon', 'lat', 'height'], 'g/cm**3']'\n",
      "N_He : '['Atomic helium partial density', 0, 'GDZ', 'sph', ['time', 'lon', 'lat', 'height'], 'g/cm**3']'\n",
      "N_O : '['Atomic oxygen partial density', 0, 'GDZ', 'sph', ['time', 'lon', 'lat', 'height'], 'g/cm**3']'\n",
      "N_N2 : '['Molecular nitrogen partial density', 0, 'GDZ', 'sph', ['time', 'lon', 'lat', 'height'], 'g/cm**3']'\n",
      "N_O2 : '['Molecular oxygen partial density', 0, 'GDZ', 'sph', ['time', 'lon', 'lat', 'height'], 'g/cm**3']'\n"
     ]
    }
   ],
   "source": [
    "# All variables available in the chosen data\n",
    "file_dir = '/Users/ddezeeuw/KAMODO_DEMO/DTM/Joshua_Anumolu_101722_IT_1/'\n",
    "MW.Variable_Search('', model='DTM', file_dir=file_dir)"
   ]
  },
  {
   "cell_type": "code",
   "execution_count": 13,
   "metadata": {},
   "outputs": [
    {
     "name": "stdout",
     "output_type": "stream",
     "text": [
      "T_exo: ['Exospheric temperature', 'GDZ-sph', ['time', 'lon', 'lat'], 'K']\n",
      "T: ['temperature', 'GDZ-sph', ['time', 'lon', 'lat', 'height'], 'K']\n"
     ]
    }
   ],
   "source": [
    "# Temperature variables in the chosen data.\n",
    "MW.Variable_Search('temperature', model='DTM', file_dir=file_dir)"
   ]
  },
  {
   "cell_type": "markdown",
   "metadata": {},
   "source": [
    "## Querying a dataset"
   ]
  },
  {
   "cell_type": "code",
   "execution_count": 14,
   "metadata": {},
   "outputs": [
    {
     "name": "stdout",
     "output_type": "stream",
     "text": [
      "UTC time ranges\n",
      "------------------------------------------\n",
      "Start Date: 2003-11-19  Time: 00:00:00\n",
      "End Date: 2003-11-22  Time: 23:45:00\n"
     ]
    },
    {
     "data": {
      "text/plain": [
       "(datetime.datetime(2003, 11, 19, 0, 0, tzinfo=datetime.timezone.utc),\n",
       " datetime.datetime(2003, 11, 22, 23, 45, tzinfo=datetime.timezone.utc))"
      ]
     },
     "execution_count": 14,
     "metadata": {},
     "output_type": "execute_result"
    }
   ],
   "source": [
    "MW.File_Times('DTM', file_dir)"
   ]
  }
 ],
 "metadata": {
  "kernelspec": {
   "display_name": "Python 3 (ipykernel)",
   "language": "python",
   "name": "python3"
  },
  "language_info": {
   "codemirror_mode": {
    "name": "ipython",
    "version": 3
   },
   "file_extension": ".py",
   "mimetype": "text/x-python",
   "name": "python",
   "nbconvert_exporter": "python",
   "pygments_lexer": "ipython3",
   "version": "3.7.13"
  }
 },
 "nbformat": 4,
 "nbformat_minor": 2
}
