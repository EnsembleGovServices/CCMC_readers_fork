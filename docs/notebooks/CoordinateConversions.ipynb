{
 "cells": [
  {
   "cell_type": "markdown",
   "id": "cadfb350",
   "metadata": {},
   "source": [
    "# Coordinate Conversions\n",
    "This notebook tutorial shows how to convert between coordinate systems using a sample trajectory retrieved from SSCWeb."
   ]
  },
  {
   "cell_type": "code",
   "execution_count": 1,
   "id": "statewide-animation",
   "metadata": {
    "scrolled": false
   },
   "outputs": [
    {
     "name": "stdout",
     "output_type": "stream",
     "text": [
      "Help on function ConvertCoord in module kamodo_ccmc.flythrough.utils:\n",
      "\n",
      "ConvertCoord(inTime, c1, c2, c3, inCoord, inType, outCoord, outType, verbose=False)\n",
      "    This function uses spacepy and astropy to convert time and position arrays\n",
      "    from one coordinate system to another. It will correct obvious errors in\n",
      "    the return units, but may not catch all incorrect values.\n",
      "    \n",
      "    INPUTS:\n",
      "    inTime array:  time in UTC timestamp\n",
      "    c1 array:  x (in R_earth)*, lon (in deg)\n",
      "    c2 array:  y (in R_earth)*, lat (in deg)\n",
      "    c3 array:  z (in R_earth)*, alt (in km), radius (in R_earth)\n",
      "    inCoord string: case-sensitive string from list:\n",
      "        'GDZ', 'GEO', 'GSM', 'GSE', 'SM', 'GEI', 'MAG', 'SPH', 'RLL'\n",
      "        (SpacePy coordinates)\n",
      "        'teme', 'icrs', 'fk5', 'fk4', 'itrs', 'galactic', 'galactocentric',\n",
      "        'cirs', 'tete', 'precessedgeocentric', 'geocentricmeanecliptic',\n",
      "        'geocentrictrueecliptic', 'hcrs', 'barycentricmeanecliptic',\n",
      "        'heliocentricmeanecliptic', 'barycentrictrueecliptic',\n",
      "        'heliocentrictrueecliptic', 'heliocentriceclipticiau76',\n",
      "        'custombarycentricecliptic', 'lsr', 'lsrk', 'lsrd', 'supergalactic',\n",
      "        'galacticlsr', 'fk4noeterms' (AstroPy coordinates)\n",
      "        Note: Not compatible with AstroPy's HADec and AltAz coordinate systems.\n",
      "        Note: Conversions using the galactocentric coordinate system are not\n",
      "            conserved (a conversion to and then from this coordinate system\n",
      "                       does not return the same beginning values).\n",
      "    inType string: car, sph\n",
      "    outCoord string: (same list as for inCoord string)\n",
      "    outType string: car, sph\n",
      "    \n",
      "    OUTPUT:\n",
      "    c1 array:  x (in R_earth)*, lon (in deg)\n",
      "    c2 array:  y (in R_earth)*, lat (in deg)\n",
      "    c3 array:  z (in R_earth)*, alt (in km), radius (in R_earth)\n",
      "    units array:  [unit_c1, unit_c2, unit_c3]  (for example ['deg','deg','km']\n",
      "                                                    or ['R_E','R_E','R_E'])\n",
      "    *SpacePy's GDZ car coordinate system requires and produces (x, y, z) in km.\n",
      "    \n",
      "    The resource information on SpacePy's coordinate conversion function is\n",
      "        sparse at best, so the below information has been collected via other\n",
      "        resources and our own testing of the function. The data concerning the\n",
      "        spherical coordinate systems are collected into a table format for\n",
      "        easier perusal. Some details concerning the AstroPy coordinate systems\n",
      "        are also below.\n",
      "    For cartesian coordinates, all of the input values after time should be in\n",
      "        earth radii (R_E) in order (x, y, z) to work properly, except for GDZ.\n",
      "    For spherical coordinates, all of the input values after time should be in\n",
      "        order (longitude, latitude, altitude or radius). The longitude and\n",
      "        latitude values should be in degrees, altitude values in kilometers,\n",
      "        and radius values in earth radii (R_E) from the Earth's center. All\n",
      "        latitude values should fall between -90 and 90 degrees. The longitude\n",
      "        range differs between the coordinate systems and is given for each in\n",
      "        the table below.\n",
      "    The intepretations of the input coordinates vary between the AstroPy\n",
      "        coordinate systems (see below). We leave it to the user to determine\n",
      "        the proper input values accordingly.\n",
      "    The longitude values returned for a given coordinate converted to an\n",
      "        AstroPy coordinate system are always positive (0 to 360 degrees).\n",
      "    \n",
      "    SpacePy\n",
      "    Abbrev.   Full Name                       Lon. range     vertical variable\n",
      "    --------------------------------------------------------------------------\n",
      "    GDZ    Geodetic (WGS 84)                  (-180, 180)    Altitude (km)\n",
      "    GEO    Geographic                         (-180, 180)    Radius (R_E)\n",
      "    GSM    Geocentric Solar Magnetospheric    (-180, 180)    Radius (R_E)\n",
      "    GSE    Geocentric Solar Ecliptic          (-180, 180)    Radius (R_E)\n",
      "    SM     Solar Magnetic                     (-180, 180)    Radius (R_E)\n",
      "    GEI    Geocentric Equatorial Inertial     (-180, 180)    Radius (R_E)\n",
      "          (also ECI = Earth-Centered Inertial)\n",
      "    MAG    Geomagnetic                        (-180, 180)    Radius (R_E)\n",
      "    SPH    Spherical                            (0, 360)     Radius (R_E)\n",
      "    RLL    Radius, Latitude, Longitude        (-180, 180)    Radius (R_E)\n",
      "    \n",
      "    For descriptions of most of the coordinate systems, see\n",
      "    https://sscweb.gsfc.nasa.gov/users_guide/Appendix_C.shtml and\n",
      "    \"Geophysical Coordinate Transformations\", C.T. Russell, Cosmic\n",
      "        Electrodynamics, Vol. 2, pp. 184 - 196, 1971.\n",
      "    The current links to SpacePy's coordinate documentation and wrapped\n",
      "    conversion functions are:\n",
      "        https://spacepy.github.io/autosummary/spacepy.coordinates.Coords.html\n",
      "        http://svn.code.sf.net/p/irbem/code/trunk/manual/user_guide.html\n",
      "    \n",
      "    AstroPy coordinate systems:\n",
      "        https://docs.astropy.org/en/stable/coordinates/skycoord.html\n",
      "    Spherical coordinates in the AstroPy coordinate systems are interpreted as\n",
      "    described below with the units [x,y,z] = [deg, deg, R_E].\n",
      "    (All z values must be in R_E, not km.)\n",
      "        teme: ['lon', 'lat', 'distance']\n",
      "        icrs: ['ra', 'dec', 'distance']\n",
      "        fk5: ['ra', 'dec', 'distance']\n",
      "        fk4: ['ra', 'dec', 'distance']\n",
      "        itrs: ['lon', 'lat', 'distance']\n",
      "        galactic: ['l', 'b', 'distance']\n",
      "        galactocentric: ['lon', 'lat', 'distance']\n",
      "        cirs: ['ra', 'dec', 'distance']\n",
      "        tete: ['ra', 'dec', 'distance']\n",
      "        precessedgeocentric: ['ra', 'dec', 'distance']\n",
      "        geocentricmeanecliptic: ['lon', 'lat', 'distance']\n",
      "        geocentrictrueecliptic: ['lon', 'lat', 'distance']\n",
      "        hcrs: ['ra', 'dec', 'distance']\n",
      "        barycentricmeanecliptic: ['lon', 'lat', 'distance']\n",
      "        heliocentricmeanecliptic: ['lon', 'lat', 'distance']\n",
      "        barycentrictrueecliptic: ['lon', 'lat', 'distance']\n",
      "        heliocentrictrueecliptic: ['lon', 'lat', 'distance']\n",
      "        heliocentriceclipticiau76: ['lon', 'lat', 'distance']\n",
      "        custombarycentricecliptic: ['lon', 'lat', 'distance']\n",
      "        lsr: ['ra', 'dec', 'distance']\n",
      "        lsrk: ['ra', 'dec', 'distance']\n",
      "        lsrd: ['ra', 'dec', 'distance']\n",
      "        galacticlsr: ['l', 'b', 'distance']\n",
      "        fk4noeterms: ['ra', 'dec', 'distance']\n",
      "        supergalactic: ['sgl', 'sgb', 'distance']\n",
      "    Cartesian coordinates in the AstroPy coordinate systems are interpreted as\n",
      "    (x,y,z) with a few exceptions (below) and always in R_E (earth radii).\n",
      "        galactic: ['u', 'v', 'w']\n",
      "        supergalactic: ['sgx', 'sgy', 'sgz']\n",
      "\n"
     ]
    },
    {
     "name": "stderr",
     "output_type": "stream",
     "text": [
      "C:\\Users\\rringuet\\Anaconda3\\envs\\Kamodo_Jan2023\\lib\\site-packages\\spacepy\\time.py:2367: UserWarning: Leapseconds may be out of date. Use spacepy.toolbox.update(leapsecs=True)\n",
      "  warnings.warn('Leapseconds may be out of date.'\n"
     ]
    }
   ],
   "source": [
    "# Import satellite flythrough coordinate conversion code for more info on the coordinate systems.\n",
    "from kamodo_ccmc.flythrough.utils import ConvertCoord\n",
    "help(ConvertCoord)"
   ]
  },
  {
   "cell_type": "markdown",
   "id": "9a4c2497",
   "metadata": {},
   "source": [
    "## Retrieve a real satellite trajectory as input"
   ]
  },
  {
   "cell_type": "code",
   "execution_count": 2,
   "id": "built-salmon",
   "metadata": {},
   "outputs": [
    {
     "name": "stdout",
     "output_type": "stream",
     "text": [
      "Attribute/Key names of return dictionary: dict_keys(['sat_time', 'c1', 'c2', 'c3'])\n",
      "Coordinate system: GEO-car\n",
      "sat_time = utc timestamp: 1426660020.0 1426680660.0\n",
      "2015-03-18 06:27:00 2015-03-18 12:11:00\n",
      "c1 = x(R_E): -0.9270195119 1.0114874276\n",
      "c2 = y(R_E): -1.0605838293 1.0114874276\n",
      "c3 = z(R_E): -1.0639983632 1.0114874276\n"
     ]
    }
   ],
   "source": [
    "# Typical coordinates possible through SSCWeb are GEO, GSE, SM, and GSM (all cartesian and in R_E).\n",
    "from kamodo_ccmc.flythrough import SatelliteFlythrough as SF\n",
    "from datetime import datetime, timezone\n",
    "start = datetime(2015, 3, 18, 6, 26, 40).replace(tzinfo=timezone.utc)\n",
    "end = datetime(2015, 3, 18, 12, 11, 40).replace(tzinfo=timezone.utc)\n",
    "traj_dict, coord_type = SF.SatelliteTrajectory('grace1', start.timestamp(), end.timestamp(), coord_type='GEO')\n",
    "# Show the range of each coordinate. \n",
    "print('Coordinate system:', coord_type)\n",
    "print('sat_time = utc timestamp:', traj_dict['sat_time'].min(), traj_dict['sat_time'].max())\n",
    "print(datetime.utcfromtimestamp(traj_dict['sat_time'].min()), datetime.utcfromtimestamp(traj_dict['sat_time'].max()))\n",
    "print('c1 = x(R_E):', traj_dict['c1'].min(), traj_dict['c1'].max())\n",
    "print('c2 = y(R_E):', traj_dict['c2'].min(), traj_dict['c1'].max())\n",
    "print('c3 = z(R_E):', traj_dict['c3'].min(), traj_dict['c1'].max())"
   ]
  },
  {
   "cell_type": "markdown",
   "id": "3f9f98cf",
   "metadata": {},
   "source": [
    "## Convert to a spherical coordinate system in SpacePy"
   ]
  },
  {
   "cell_type": "code",
   "execution_count": 3,
   "id": "793cafb4",
   "metadata": {},
   "outputs": [
    {
     "name": "stdout",
     "output_type": "stream",
     "text": [
      "Coordinate system: SM-sph\n",
      "c1 = longitude(deg): -175.82629680633556 150.11391934929247\n",
      "c2 = latitude(deg): -88.63688132453802 88.71473929655991\n",
      "c3 = radius(R_E): 1.0599501466186172 1.0644604465687955\n",
      "units (c1, c2, c3): ['deg', 'deg', 'R_E']\n"
     ]
    }
   ],
   "source": [
    "# The syntax to convert:\n",
    "c1, c2, c3, units = ConvertCoord(traj_dict['sat_time'], traj_dict['c1'], traj_dict['c2'], traj_dict['c3'], \n",
    "                                 *coord_type.split('-'), 'SM', 'sph')\n",
    "# Show the range of each coordinate. Note the time does not change.\n",
    "print('Coordinate system: SM-sph')\n",
    "print('c1 = longitude(deg):', c1.min(), c1.max())\n",
    "print('c2 = latitude(deg):', c2.min(), c2.max())\n",
    "print('c3 = radius(R_E):', c3.min(), c3.max())\n",
    "print('units (c1, c2, c3):',units)"
   ]
  },
  {
   "cell_type": "markdown",
   "id": "063da7ca",
   "metadata": {},
   "source": [
    "## Convert to a cartesian coordinate system in AstroPy"
   ]
  },
  {
   "cell_type": "code",
   "execution_count": 4,
   "id": "d685559d",
   "metadata": {},
   "outputs": [
    {
     "name": "stdout",
     "output_type": "stream",
     "text": [
      "Coordinate system: teme-car\n",
      "c1 = x(R_E): -0.2046378793907867 0.20505787042036003\n",
      "c2 = y(R_E): -1.0421557059743505 1.0437086971696456\n",
      "c3 = z(R_E): -1.0640045699238057 1.0598887612232442\n",
      "units (c1, c2, c3): ['R_E', 'R_E', 'R_E']\n"
     ]
    }
   ],
   "source": [
    "# The syntax to convert:\n",
    "c1, c2, c3, units = ConvertCoord(traj_dict['sat_time'], traj_dict['c1'], traj_dict['c2'], traj_dict['c3'], \n",
    "                                 *coord_type.split('-'), 'teme', 'car')\n",
    "# Show the range of each coordinate. Note the time does not change\n",
    "print('Coordinate system: teme-car')\n",
    "print('c1 = x(R_E):', c1.min(), c1.max())\n",
    "print('c2 = y(R_E):', c2.min(), c2.max())\n",
    "print('c3 = z(R_E):', c3.min(), c3.max())\n",
    "print('units (c1, c2, c3):',units)"
   ]
  }
 ],
 "metadata": {
  "kernelspec": {
   "display_name": "Python 3 (ipykernel)",
   "language": "python",
   "name": "python3"
  },
  "language_info": {
   "codemirror_mode": {
    "name": "ipython",
    "version": 3
   },
   "file_extension": ".py",
   "mimetype": "text/x-python",
   "name": "python",
   "nbconvert_exporter": "python",
   "pygments_lexer": "ipython3",
   "version": "3.7.16"
  }
 },
 "nbformat": 4,
 "nbformat_minor": 5
}
