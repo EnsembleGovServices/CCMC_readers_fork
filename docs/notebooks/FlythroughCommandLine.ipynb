{
 "cells": [
  {
   "cell_type": "markdown",
   "id": "fff91bd3",
   "metadata": {},
   "source": [
    "# Performing a Flythrough from the Command Line\n",
    "This notebook tutorial shows how to perform a flythrough from the command line in a variety of methods. The main difference between the notebook and the command line syntaxes is that all of the arguments and default values must be specified in the call from the command line, while the the notebook calls are more flexible.\n",
    "1. Fly a real satellite trajectory through a dataset,\n",
    "2. Fly a sample trajectory through a dataset,\n",
    "3. Fly a two-line elements (TLEs) through a dataset,\n",
    "4. Fly a trajectory from a file through a dataset.\n",
    "\n",
    "The ModelFlythrough option is not available from the command line.\n",
    "Note: You may run the notebook as is if you have the sample data files, but you must\n",
    "change the 'file_dir', 'output_name', and 'plot_output' variables the relevant blocks to have the correct file path. The sample data files can be obtained from https://ccmc.gsfc.nasa.gov/RoR_WWW/output_files/KAMODO_DEMO/GITM/jasoon_shim_071418_IT_1_subset/. Only the \\*.nc files need to be downloaded.\n",
    "\n",
    "All coordinate conversions needed are automatically detected and handled in the background. These routines are designed for scalars. Proper treatment of vectors in this process is a capability currently under development by Ensemble's Kamodo-core."
   ]
  },
  {
   "cell_type": "code",
   "execution_count": 9,
   "id": "a5111aff",
   "metadata": {},
   "outputs": [
    {
     "name": "stdout",
     "output_type": "stream",
     "text": [
      "\n",
      "Possible call types (first argument): FakeFlight, RealFlight, TLEFlight, MyFlight\n",
      "Use the call type as the first input to get call syntax.\n",
      "\n",
      "Possible models are: \n",
      "ADELPHI: AMPERE-Derived ELectrodynamic Properties of the High-latitude Ionosphere https://doi.org/10.1029/2020SW002677\n",
      "AMGeO: Assimilative Mapping of Geospace Observations https://doi.org/10.5281/zenodo.3564914\n",
      "CTIPe: Coupled Thermosphere Ionosphere Plasmasphere Electrodynamics Model https://doi.org/10.1029/2007SW000364\n",
      "DTM: The Drag Temperature Model https://doi.org/10.1051/swsc/2015001\n",
      "GAMERA_GM: Grid Agnostic MHD for Extended Research Applications - Global Magnetosphere outputs https://doi.org/10.3847/1538-4365/ab3a4c (coming soon)\n",
      "GITM: Global Ionosphere Thermosphere Model https://doi.org/10.1016/j.jastp.2006.01.008\n",
      "IRI: International Reference Ionosphere Model https://doi.org/10.5194/ars-16-1-2018\n",
      "OpenGGCM_GM: The Open Geospace General Circulation Model - Global Magnetosphere outputs only https://doi.org/10.1023/A:1014228230714\n",
      "SuperDARN_uni: SuperDARN uniform grid output https://doi.org/10.1029/2010JA016017\n",
      "SuperDARN_equ: SuperDARN equal area grid output https://doi.org/10.1029/2010JA016017\n",
      "SWMF_IE: Space Weather Modeling Framework - Ionosphere and Electrodynamics outputs https://doi.org/10.1029/2006SW000272\n",
      "SWMF_GM: Space Weather Modeling Framework - Global Magnetosphere outputs https://doi.org/10.1029/2006SW000272\n",
      "TIEGCM: Thermosphere Ionosphere Electrodynamics General Circulation Model https://doi.org/10.1029/2012GM001297\n",
      "WACCMX: Whole Atmosphere Community Climate Model With Thermosphere and Ionosphere Extension https://doi.org/10.1002/2017MS001232\n",
      "WAMIPE: The coupled Whole Atmosphere Model - Ionosphere Plasmasphere Model https://doi.org/10.1002/2015GL067312 and https://doi.org/10.1029/2022SW003193\n",
      "Weimer: Weimer Ionosphere model https://doi.org/10.1029/2005JA011270\n"
     ]
    },
    {
     "name": "stderr",
     "output_type": "stream",
     "text": [
      "C:\\Users\\rringuet\\Anaconda3\\envs\\Kamodo_Jan2023\\lib\\site-packages\\spacepy\\time.py:2367: UserWarning: Leapseconds may be out of date. Use spacepy.toolbox.update(leapsecs=True)\n",
      "  warnings.warn('Leapseconds may be out of date.'\n"
     ]
    }
   ],
   "source": [
    "# Get list of function calls possible and a list of supported models\n",
    "!python ../../kamodo_ccmc/flythrough/SatelliteFlythrough.py"
   ]
  },
  {
   "cell_type": "markdown",
   "id": "134ccac9",
   "metadata": {},
   "source": [
    "## Variable searching syntax"
   ]
  },
  {
   "cell_type": "code",
   "execution_count": 11,
   "id": "c2dc277e",
   "metadata": {
    "scrolled": false
   },
   "outputs": [
    {
     "name": "stdout",
     "output_type": "stream",
     "text": [
      "\n",
      "The GITM model accepts the standardized variable names listed below.\n",
      "-----------------------------------------------------------------------------------\n",
      "B_east : '['zonal magnetic field (east)', 69, 'GDZ', 'sph', ['time', 'lon', 'lat', 'height'], 'nT']'\n",
      "B_mag : '['magnitude of magnetic field', 71, 'GDZ', 'sph', ['time', 'lon', 'lat', 'height'], 'nT']'\n",
      "B_north : '['meridional magnetic field (north)', 70, 'GDZ', 'sph', ['time', 'lon', 'lat', 'height'], 'nT']'\n",
      "B_up : '['vertical magnetic field velocity (up)', 68, 'GDZ', 'sph', ['time', 'lon', 'lat', 'height'], 'nT']'\n",
      "DivI_nalt : '['divergence of the neutral wind-driven currents integrated along the altitude', 51, 'GDZ', 'sph', ['time', 'lon', 'lat', 'height'], '']'\n",
      "DivI_nfl : '['divergence of the neutral wind-driven currents integrated along the field-line', 50, 'GDZ', 'sph', ['time', 'lon', 'lat', 'height'], '']'\n",
      "E_east : '['zonal electric field (east)', 65, 'GDZ', 'sph', ['time', 'lon', 'lat', 'height'], 'V/m']'\n",
      "E_eavg : '['average electron energy', 45, 'GDZ', 'sph', ['time', 'lon', 'lat', 'height'], 'J']'\n",
      "E_mag : '['magnitude of electric field', 67, 'GDZ', 'sph', ['time', 'lon', 'lat', 'height'], 'V/m']'\n",
      "E_north : '['meridional electric field (north)', 66, 'GDZ', 'sph', ['time', 'lon', 'lat', 'height'], 'V/m']'\n",
      "E_perpeast : '['dynamo electric field in the perpendicular to the magnetic field direction that is \"eastward\"', 61, 'GDZ', 'sph', ['time', 'lon', 'lat', 'height'], '']'\n",
      "E_perpnorth : '['dynamo electric field in the perpendicular to the magnetic field direction that is \"northward\"', 62, 'GDZ', 'sph', ['time', 'lon', 'lat', 'height'], '']'\n",
      "E_up : '['vertical electric field velocity (up)', 64, 'GDZ', 'sph', ['time', 'lon', 'lat', 'height'], 'V/m']'\n",
      "GradP_east : '['zonal component of gradient of sum of ion and electron pressures (east)', 75, 'GDZ', 'sph', ['time', 'lon', 'lat', 'height'], 'Pa/m']'\n",
      "GradP_north : '['meridional component of gradient of sum of ion and electron pressures (north)', 76, 'GDZ', 'sph', ['time', 'lon', 'lat', 'height'], 'Pa/m']'\n",
      "GradP_up : '['vertical component of gradient of sum of ion and electron pressures (up)', 77, 'GDZ', 'sph', ['time', 'lon', 'lat', 'height'], 'Pa/m']'\n",
      "N_e : '['electron number density', 44, 'GDZ', 'sph', ['time', 'lon', 'lat', 'height'], '1/m**3']'\n",
      "NmF2 : '['Maximum electron number density in F2 layer', 89, 'GDZ', 'sph', ['time', 'lon', 'lat'], '']'\n",
      "Phi_EUV : '['EUV heat flux', 94, 'GDZ', 'sph', ['time', 'lon', 'lat'], 'W/m**2']'\n",
      "Phi_Joule : '['joule heat flux', 92, 'GDZ', 'sph', ['time', 'lon', 'lat'], 'W/m**2']'\n",
      "Phi_NOCooling : '['NO cooling flux', 95, 'GDZ', 'sph', ['time', 'lon', 'lat'], 'W/m**2']'\n",
      "Phi_eE : '['electron energy flux', 52, 'GDZ', 'sph', ['time', 'lon', 'lat', 'height'], 'J/m**2']'\n",
      "Phi_heat : '['heat flux', 93, 'GDZ', 'sph', ['time', 'lon', 'lat'], 'W/m**2']'\n",
      "Q_EUV : '['EUV heating', 4, 'GDZ', 'sph', ['time', 'lon', 'lat', 'height'], 'K per timestep']'\n",
      "Q_EUVabs : '['total absolute EUV', 80, 'GDZ', 'sph', ['time', 'lon', 'lat', 'height'], 'K per timestep']'\n",
      "Q_Joule : '['joule heating', 82, 'GDZ', 'sph', ['time', 'lon', 'lat', 'height'], 'K per timestep']'\n",
      "Q_NOcool : '['cooling rate of nitric oxide', 87, 'GDZ', 'sph', ['time', 'lon', 'lat', 'height'], 'K per timestep']'\n",
      "Q_Ocool : '['cooling rate of atomic oxygen', 81, 'GDZ', 'sph', ['time', 'lon', 'lat', 'height'], 'K per timestep']'\n",
      "Q_auroral : '['auroral heating', 83, 'GDZ', 'sph', ['time', 'lon', 'lat', 'height'], 'K per timestep']'\n",
      "Q_bal : '['heat balance total', 12, 'GDZ', 'sph', ['time', 'lon', 'lat', 'height'], '']'\n",
      "Q_chem : '['chemical heating rate', 79, 'GDZ', 'sph', ['time', 'lon', 'lat', 'height'], '']'\n",
      "Q_cool : '['radiative cooling rate', 29, 'GDZ', 'sph', ['time', 'lon', 'lat', 'height'], '']'\n",
      "Q_eff : '['heating efficiency', 11, 'GDZ', 'sph', ['time', 'lon', 'lat', 'height'], '']'\n",
      "Q_photoe : '['heating due to the photoelectric effect', 84, 'GDZ', 'sph', ['time', 'lon', 'lat', 'height'], 'K per timestep']'\n",
      "SLT : '['solar local time', 63, 'GDZ', 'sph', ['time', 'lon', 'lat'], 'hr']'\n",
      "SZA : '['solar zenith angle', 48, 'GDZ', 'sph', ['time', 'lon', 'lat'], 'radians']'\n",
      "TEC : '['vertical total electron content (height integrated from bottom to top boundary)', 91, 'GDZ', 'sph', ['time', 'lon', 'lat'], '10**16/m**2']'\n",
      "T_e : '['electron temperature', 46, 'GDZ', 'sph', ['time', 'lon', 'lat', 'height'], 'K']'\n",
      "T_i : '['ion temperature', 47, 'GDZ', 'sph', ['time', 'lon', 'lat', 'height'], 'K']'\n",
      "T_n : '['neutral temperature', 31, 'GDZ', 'sph', ['time', 'lon', 'lat', 'height'], 'K']'\n",
      "V : '['electric potential', 57, 'GDZ', 'sph', ['time', 'lon', 'lat', 'height'], 'V']'\n",
      "g : '['gravitational acceleration', 74, 'GDZ', 'sph', ['time', 'lon', 'lat', 'height'], 'm/s**2']'\n",
      "hmF2 : '['Height of maximum electron number density in F2 layer', 90, 'GDZ', 'sph', ['time', 'lon', 'lat'], 'km']'\n",
      "j_R1 : '['region 1 electric current density', 60, 'GDZ', 'sph', ['time', 'lon', 'lat', 'height'], 'A/m**2']'\n",
      "j_R2 : '['region 2 electric current density', 59, 'GDZ', 'sph', ['time', 'lon', 'lat', 'height'], 'A/m**2']'\n",
      "k : '['total conduction', 3, 'GDZ', 'sph', ['time', 'lon', 'lat', 'height'], 'W/m/K']'\n",
      "k_ed : '['eddy conduction', 85, 'GDZ', 'sph', ['time', 'lon', 'lat', 'height'], '']'\n",
      "k_edadiab : '['adiabatic eddy conduction', 86, 'GDZ', 'sph', ['time', 'lon', 'lat', 'height'], '']'\n",
      "k_mol : '['molecular conduction', 88, 'GDZ', 'sph', ['time', 'lon', 'lat', 'height'], '']'\n",
      "lat_B : '['magnetic latitude', 72, 'GDZ', 'sph', ['time', 'lon', 'lat', 'height'], 'deg']'\n",
      "lon_B : '['magnetic longitude', 73, 'GDZ', 'sph', ['time', 'lon', 'lat', 'height'], 'deg']'\n",
      "mmr_Ar : '['mass mixing ratio of argon/neutrals', 0, 'GDZ', 'sph', ['time', 'lon', 'lat', 'height'], '']'\n",
      "mmr_CH4 : '['mass mixing ratio of methane/neutrals', 2, 'GDZ', 'sph', ['time', 'lon', 'lat', 'height'], '']'\n",
      "mmr_H2 : '['mass mixing ratio of molecular hydrogen/neutrals', 7, 'GDZ', 'sph', ['time', 'lon', 'lat', 'height'], '']'\n",
      "mmr_HCN : '['mass mixing ratio of hydrogen cyanide/neutrals', 8, 'GDZ', 'sph', ['time', 'lon', 'lat', 'height'], '']'\n",
      "mmr_N2 : '['mass mixing ratio of molecular nitrogen', 19, 'GDZ', 'sph', ['time', 'lon', 'lat', 'height'], '']'\n",
      "nu_ion : '['ion neutral collision frequency', 78, 'GDZ', 'sph', ['time', 'lon', 'lat', 'height'], '1/s']'\n",
      "rho_Ar : '['mass density of argon', 1, 'GDZ', 'sph', ['time', 'lon', 'lat', 'height'], 'kg/m**3']'\n",
      "rho_CO2 : '['mass density of carbon dioxide', 49, 'GDZ', 'sph', ['time', 'lon', 'lat', 'height'], 'kg/m**3']'\n",
      "rho_H : '['mass density of hydrogen', 5, 'GDZ', 'sph', ['time', 'lon', 'lat', 'height'], 'kg/m**3']'\n",
      "rho_He : '['mass density of helium', 9, 'GDZ', 'sph', ['time', 'lon', 'lat', 'height'], 'kg/m**3']'\n",
      "rho_Heplus : '['mass density of helium ion', 10, 'GDZ', 'sph', ['time', 'lon', 'lat', 'height'], 'kg/m**3']'\n",
      "rho_Hplus : '['mass density of hydrogen ion', 6, 'GDZ', 'sph', ['time', 'lon', 'lat', 'height'], 'kg/m**3']'\n",
      "rho_N2 : '['mass density of molecular nitrogen', 13, 'GDZ', 'sph', ['time', 'lon', 'lat', 'height'], 'kg/m**3']'\n",
      "rho_N2D : '['mass density of atomic nitrogen (2D state)', 16, 'GDZ', 'sph', ['time', 'lon', 'lat', 'height'], 'kg/m**3']'\n",
      "rho_N2P : '['mass density of atomic nitrogen (2P state)', 17, 'GDZ', 'sph', ['time', 'lon', 'lat', 'height'], 'kg/m**3']'\n",
      "rho_N2plus : '['mass density of molecular nitrogen ion', 14, 'GDZ', 'sph', ['time', 'lon', 'lat', 'height'], 'kg/m**3']'\n",
      "rho_N4S : '['mass density of atomic nitrogen (4S state)', 18, 'GDZ', 'sph', ['time', 'lon', 'lat', 'height'], 'kg/m**3']'\n",
      "rho_NO : '['mass density of nitric oxide', 20, 'GDZ', 'sph', ['time', 'lon', 'lat', 'height'], 'kg/m**3']'\n",
      "rho_NOplus : '['mass density of nitric oxide ion', 21, 'GDZ', 'sph', ['time', 'lon', 'lat', 'height'], 'kg/m**3']'\n",
      "rho_Nplus : '['mass density of atomic nitrogen ion', 15, 'GDZ', 'sph', ['time', 'lon', 'lat', 'height'], 'kg/m**3']'\n",
      "rho_O1D : '['mass density of atomic oxygen (1D state)', 23, 'GDZ', 'sph', ['time', 'lon', 'lat', 'height'], 'kg/m**3']'\n",
      "rho_O2 : '['mass density of molecular oxygen', 22, 'GDZ', 'sph', ['time', 'lon', 'lat', 'height'], 'kg/m**3']'\n",
      "rho_O2D : '['mass density of atomic oxygen (2D state)', 25, 'GDZ', 'sph', ['time', 'lon', 'lat', 'height'], '1/m**3']'\n",
      "rho_O2plus : '['mass density of molecular oxygen ion', 24, 'GDZ', 'sph', ['time', 'lon', 'lat', 'height'], 'kg/m**3']'\n",
      "rho_O3P : '['mass density of atomic oxygen (3P state)', 27, 'GDZ', 'sph', ['time', 'lon', 'lat', 'height'], 'kg/m**3']'\n",
      "rho_Oplus2P : '['mass density of atomic oxygen ion (2P state)', 26, 'GDZ', 'sph', ['time', 'lon', 'lat', 'height'], 'kg/m**3']'\n",
      "rho_Oplus4S4P : '['mass density of atomic oxygen ion (4S or 4P state)', 28, 'GDZ', 'sph', ['time', 'lon', 'lat', 'height'], 'kg/m**3']'\n",
      "rho_n : '['neutral mass density', 30, 'GDZ', 'sph', ['time', 'lon', 'lat', 'height'], 'kg/m**3']'\n",
      "s_Bfield : '['magnetic field arc line length', 53, 'GDZ', 'sph', ['time', 'lon', 'lat', 'height'], 'm']'\n",
      "sigma_H : '['Hall conductivity', 58, 'GDZ', 'sph', ['time', 'lon', 'lat', 'height'], 'S/m']'\n",
      "sigma_P : '['Pedersen conductivity', 54, 'GDZ', 'sph', ['time', 'lon', 'lat', 'height'], 'S/m']'\n",
      "v_Heup : '['vertical velocity of helium (up)', 43, 'GDZ', 'sph', ['time', 'lon', 'lat', 'height'], 'm/s']'\n",
      "v_N2up : '['vertical velocity of molecular nitrogen (up)', 38, 'GDZ', 'sph', ['time', 'lon', 'lat', 'height'], 'm/s']'\n",
      "v_Nstate4Sup : '['vertical velocity of atomic nitrogen (4S state) (up)', 39, 'GDZ', 'sph', ['time', 'lon', 'lat', 'height'], 'm/s']'\n",
      "v_Nup : '['vertical velocity of atomic nitrogen (up)', 40, 'GDZ', 'sph', ['time', 'lon', 'lat', 'height'], 'm/s']'\n",
      "v_O2up : '['vertical velocity of molecular oxygen (up)', 41, 'GDZ', 'sph', ['time', 'lon', 'lat', 'height'], 'm/s']'\n",
      "v_Ostate3Pup : '['vertical velocity of atomic (3P state) (up)', 42, 'GDZ', 'sph', ['time', 'lon', 'lat', 'height'], 'm/s']'\n",
      "v_ieast : '['zonal ion wind velocity (east)', 32, 'GDZ', 'sph', ['time', 'lon', 'lat', 'height'], 'm/s']'\n",
      "v_inorth : '['meridional ion wind velocity (north)', 33, 'GDZ', 'sph', ['time', 'lon', 'lat', 'height'], 'm/s']'\n",
      "v_iup : '['vertical ion wind velocity (up)', 34, 'GDZ', 'sph', ['time', 'lon', 'lat', 'height'], 'm/s']'\n",
      "v_neast : '['zonal neutral wind velocity (east)', 35, 'GDZ', 'sph', ['time', 'lon', 'lat', 'height'], 'm/s']'\n",
      "v_nnorth : '['meridional neutral wind velocity (north)', 36, 'GDZ', 'sph', ['time', 'lon', 'lat', 'height'], 'm/s']'\n",
      "v_nup : '['vertical neutral wind velocity (up)', 37, 'GDZ', 'sph', ['time', 'lon', 'lat', 'height'], 'm/s']'\n",
      "\n"
     ]
    },
    {
     "name": "stderr",
     "output_type": "stream",
     "text": [
      "C:\\Users\\rringuet\\Anaconda3\\envs\\Kamodo_Jan2023\\lib\\site-packages\\spacepy\\time.py:2367: UserWarning: Leapseconds may be out of date. Use spacepy.toolbox.update(leapsecs=True)\n",
      "  warnings.warn('Leapseconds may be out of date.'\n"
     ]
    }
   ],
   "source": [
    "# Get the list of possible variables for a given model\n",
    "!python ../../kamodo_ccmc/flythrough/SatelliteFlythrough.py GITM"
   ]
  },
  {
   "cell_type": "code",
   "execution_count": 29,
   "id": "af0110c2",
   "metadata": {},
   "outputs": [
    {
     "name": "stdout",
     "output_type": "stream",
     "text": [
      "\n",
      "ADELPHI:\n",
      "No temperature variables found.\n",
      "\n",
      "AMGeO:\n",
      "No temperature variables found.\n",
      "\n",
      "CTIPe:\n",
      "T_ilev1: ['temperature', 'GDZ-sph', ['time', 'lon', 'lat', 'ilev1'], 'K']\n",
      "T: ['temperature', 'GDZ-sph', ['time', 'lon', 'lat', 'height'], 'K']\n",
      "T_e: ['electron temperature', 'GDZ-sph', ['time', 'lon', 'lat', 'height'], 'K']\n",
      "T_i: ['ion temperature', 'GDZ-sph', ['time', 'lon', 'lat', 'height'], 'K']\n",
      "T_n_ilev: ['neutral temperature', 'GDZ-sph', ['time', 'lon', 'lat', 'ilev'], 'K']\n",
      "T_n: ['neutral temperature', 'GDZ-sph', ['time', 'lon', 'lat', 'height'], 'K']\n",
      "\n",
      "DTM:\n",
      "T_exo: ['Exospheric temperature', 'GDZ-sph', ['time', 'lon', 'lat'], 'K']\n",
      "T: ['temperature', 'GDZ-sph', ['time', 'lon', 'lat', 'height'], 'K']\n",
      "\n",
      "GAMERA_GM:\n",
      "No temperature variables found.\n",
      "\n",
      "GITM:\n",
      "T_n: ['neutral temperature', 'GDZ-sph', ['time', 'lon', 'lat', 'height'], 'K']\n",
      "T_e: ['electron temperature', 'GDZ-sph', ['time', 'lon', 'lat', 'height'], 'K']\n",
      "T_i: ['ion temperature', 'GDZ-sph', ['time', 'lon', 'lat', 'height'], 'K']\n",
      "\n",
      "IRI:\n",
      "T_e: ['electron temperature', 'GDZ-sph', ['time', 'lon', 'lat', 'height'], 'K']\n",
      "T_i: ['ion temperature', 'GDZ-sph', ['time', 'lon', 'lat', 'height'], 'K']\n",
      "T_n: ['neutral temperature', 'GDZ-sph', ['time', 'lon', 'lat', 'height'], 'K']\n",
      "\n",
      "OpenGGCM_GM:\n",
      "No temperature variables found.\n",
      "\n",
      "SuperDARN_uni:\n",
      "No temperature variables found.\n",
      "\n",
      "SuperDARN_equ:\n",
      "No temperature variables found.\n",
      "\n",
      "SWMF_IE:\n",
      "No temperature variables found.\n",
      "\n",
      "SWMF_GM:\n",
      "No temperature variables found.\n",
      "\n",
      "TIEGCM:\n",
      "T_n_ilev: ['neutral temperature', 'GDZ-sph', ['time', 'lon', 'lat', 'ilev'], 'K']\n",
      "T_n: ['neutral temperature', 'GDZ-sph', ['time', 'lon', 'lat', 'height'], 'K']\n",
      "T_e_ilev: ['electron temperature', 'GDZ-sph', ['time', 'lon', 'lat', 'ilev'], 'K']\n",
      "T_e: ['electron temperature', 'GDZ-sph', ['time', 'lon', 'lat', 'height'], 'K']\n",
      "T_i_ilev: ['ion temperature', 'GDZ-sph', ['time', 'lon', 'lat', 'ilev'], 'K']\n",
      "T_i: ['ion temperature', 'GDZ-sph', ['time', 'lon', 'lat', 'height'], 'K']\n",
      "\n",
      "WACCMX:\n",
      "T_ilev: ['Temperature', 'GDZ-sph', ['time', 'lon', 'lat', 'ilev'], 'K']\n",
      "T: ['Temperature', 'GDZ-sph', ['time', 'lon', 'lat', 'height'], 'K']\n",
      "T_e_ilev: ['Electron Temperature', 'GDZ-sph', ['time', 'lon', 'lat', 'ilev'], 'K']\n",
      "T_e: ['Electron Temperature', 'GDZ-sph', ['time', 'lon', 'lat', 'height'], 'K']\n",
      "T_i_ilev: ['Ion Temperature', 'GDZ-sph', ['time', 'lon', 'lat', 'ilev'], 'K']\n",
      "T_i: ['Ion Temperature', 'GDZ-sph', ['time', 'lon', 'lat', 'height'], 'K']\n",
      "T_08_COS_ilev: ['Temperature  8hr. cos coeff.', 'GDZ-sph', ['time', 'lon', 'lat', 'ilev'], 'K']\n",
      "T_08_COS: ['Temperature  8hr. cos coeff.', 'GDZ-sph', ['time', 'lon', 'lat', 'height'], 'K']\n",
      "T_08_SIN_ilev: ['Temperature  8hr. sin coeff.', 'GDZ-sph', ['time', 'lon', 'lat', 'ilev'], 'K']\n",
      "T_08_SIN: ['Temperature  8hr. sin coeff.', 'GDZ-sph', ['time', 'lon', 'lat', 'height'], 'K']\n",
      "T_12_COS_ilev: ['Temperature 12hr. cos coeff.', 'GDZ-sph', ['time', 'lon', 'lat', 'ilev'], 'K']\n",
      "T_12_COS: ['Temperature 12hr. cos coeff.', 'GDZ-sph', ['time', 'lon', 'lat', 'height'], 'K']\n",
      "T_12_SIN_ilev: ['Temperature 12hr. sin coeff.', 'GDZ-sph', ['time', 'lon', 'lat', 'ilev'], 'K']\n",
      "T_12_SIN: ['Temperature 12hr. sin coeff.', 'GDZ-sph', ['time', 'lon', 'lat', 'height'], 'K']\n",
      "T_24_COS_ilev: ['Temperature 24hr. cos coeff.', 'GDZ-sph', ['time', 'lon', 'lat', 'ilev'], 'K']\n",
      "T_24_COS: ['Temperature 24hr. cos coeff.', 'GDZ-sph', ['time', 'lon', 'lat', 'height'], 'K']\n",
      "T_24_SIN_ilev: ['Temperature 24hr. sin coeff.', 'GDZ-sph', ['time', 'lon', 'lat', 'ilev'], 'K']\n",
      "T_24_SIN: ['Temperature 24hr. sin coeff.', 'GDZ-sph', ['time', 'lon', 'lat', 'height'], 'K']\n",
      "\n",
      "WAMIPE:\n",
      "T_n_ilev: ['neutral temperature', 'GDZ-sph', ['time', 'lon', 'lat', 'ilev'], 'K']\n",
      "T_n: ['neutral temperature', 'GDZ-sph', ['time', 'lon', 'lat', 'height'], 'K']\n",
      "T_i: ['Ion temperature', 'GDZ-sph', ['time', 'lon', 'lat', 'height'], 'K']\n",
      "T_e: ['Electron temperature', 'GDZ-sph', ['time', 'lon', 'lat', 'height'], 'K']\n",
      "\n",
      "Weimer:\n",
      "No temperature variables found.\n"
     ]
    },
    {
     "name": "stderr",
     "output_type": "stream",
     "text": [
      "C:\\Users\\rringuet\\Anaconda3\\envs\\Kamodo_Jan2023\\lib\\site-packages\\spacepy\\time.py:2367: UserWarning: Leapseconds may be out of date. Use spacepy.toolbox.update(leapsecs=True)\n",
      "  warnings.warn('Leapseconds may be out of date.'\n"
     ]
    }
   ],
   "source": [
    "# Searching for temperature variables in CCMC Kamodo\n",
    "!python ../../kamodo_ccmc/flythrough/SatelliteFlythrough.py temperature \"\" \"\""
   ]
  },
  {
   "cell_type": "code",
   "execution_count": 28,
   "id": "7502d5b6",
   "metadata": {},
   "outputs": [
    {
     "name": "stdout",
     "output_type": "stream",
     "text": [
      "T_n: ['neutral temperature', 'GDZ-sph', ['time', 'lon', 'lat', 'height'], 'K']\n",
      "T_e: ['electron temperature', 'GDZ-sph', ['time', 'lon', 'lat', 'height'], 'K']\n",
      "T_i: ['ion temperature', 'GDZ-sph', ['time', 'lon', 'lat', 'height'], 'K']\n"
     ]
    },
    {
     "name": "stderr",
     "output_type": "stream",
     "text": [
      "C:\\Users\\rringuet\\Anaconda3\\envs\\Kamodo_Jan2023\\lib\\site-packages\\spacepy\\time.py:2367: UserWarning: Leapseconds may be out of date. Use spacepy.toolbox.update(leapsecs=True)\n",
      "  warnings.warn('Leapseconds may be out of date.'\n"
     ]
    }
   ],
   "source": [
    "# Searching for temperature variables in a model\n",
    "!python ../../kamodo_ccmc/flythrough/SatelliteFlythrough.py temperature GITM \"\""
   ]
  },
  {
   "cell_type": "code",
   "execution_count": 31,
   "id": "7d8ae99e",
   "metadata": {},
   "outputs": [
    {
     "name": "stdout",
     "output_type": "stream",
     "text": [
      "\n",
      "The file directory contains the following standardized variable names:\n",
      "-----------------------------------------------------------------------------------\n",
      "rho_N2 : '['mass density of molecular nitrogen', 13, 'GDZ', 'sph', ['time', 'lon', 'lat', 'height'], 'kg/m**3']'\n",
      "rho_N2plus : '['mass density of molecular nitrogen ion', 14, 'GDZ', 'sph', ['time', 'lon', 'lat', 'height'], 'kg/m**3']'\n",
      "rho_NO : '['mass density of nitric oxide', 20, 'GDZ', 'sph', ['time', 'lon', 'lat', 'height'], 'kg/m**3']'\n",
      "rho_NOplus : '['mass density of nitric oxide ion', 21, 'GDZ', 'sph', ['time', 'lon', 'lat', 'height'], 'kg/m**3']'\n",
      "rho_O2 : '['mass density of molecular oxygen', 22, 'GDZ', 'sph', ['time', 'lon', 'lat', 'height'], 'kg/m**3']'\n",
      "rho_O2plus : '['mass density of molecular oxygen ion', 24, 'GDZ', 'sph', ['time', 'lon', 'lat', 'height'], 'kg/m**3']'\n",
      "rho_O3P : '['mass density of atomic oxygen (3P state)', 27, 'GDZ', 'sph', ['time', 'lon', 'lat', 'height'], 'kg/m**3']'\n",
      "rho_Oplus4S4P : '['mass density of atomic oxygen ion (4S or 4P state)', 28, 'GDZ', 'sph', ['time', 'lon', 'lat', 'height'], 'kg/m**3']'\n",
      "rho_n : '['neutral mass density', 30, 'GDZ', 'sph', ['time', 'lon', 'lat', 'height'], 'kg/m**3']'\n",
      "T_n : '['neutral temperature', 31, 'GDZ', 'sph', ['time', 'lon', 'lat', 'height'], 'K']'\n",
      "v_ieast : '['zonal ion wind velocity (east)', 32, 'GDZ', 'sph', ['time', 'lon', 'lat', 'height'], 'm/s']'\n",
      "v_inorth : '['meridional ion wind velocity (north)', 33, 'GDZ', 'sph', ['time', 'lon', 'lat', 'height'], 'm/s']'\n",
      "v_iup : '['vertical ion wind velocity (up)', 34, 'GDZ', 'sph', ['time', 'lon', 'lat', 'height'], 'm/s']'\n",
      "v_neast : '['zonal neutral wind velocity (east)', 35, 'GDZ', 'sph', ['time', 'lon', 'lat', 'height'], 'm/s']'\n",
      "v_nnorth : '['meridional neutral wind velocity (north)', 36, 'GDZ', 'sph', ['time', 'lon', 'lat', 'height'], 'm/s']'\n",
      "v_nup : '['vertical neutral wind velocity (up)', 37, 'GDZ', 'sph', ['time', 'lon', 'lat', 'height'], 'm/s']'\n",
      "SZA : '['solar zenith angle', 48, 'GDZ', 'sph', ['time', 'lon', 'lat'], 'radians']'\n",
      "SLT : '['solar local time', 63, 'GDZ', 'sph', ['time', 'lon', 'lat'], 'hr']'\n",
      "TEC : '['vertical total electron content (height integrated from bottom to top boundary)', 91, 'GDZ', 'sph', ['time', 'lon', 'lat'], '10**16/m**2']'\n"
     ]
    },
    {
     "name": "stderr",
     "output_type": "stream",
     "text": [
      "C:\\Users\\rringuet\\Anaconda3\\envs\\Kamodo_Jan2023\\lib\\site-packages\\spacepy\\time.py:2367: UserWarning: Leapseconds may be out of date. Use spacepy.toolbox.update(leapsecs=True)\n",
      "  warnings.warn('Leapseconds may be out of date.'\n"
     ]
    }
   ],
   "source": [
    "# Searching for all variables in a dataset\n",
    "!python ../../kamodo_ccmc/flythrough/SatelliteFlythrough.py \"\" GITM D:/GITM/jasoon_shim_071418_IT_1_tenth_oneday/"
   ]
  },
  {
   "cell_type": "code",
   "execution_count": 32,
   "id": "f6e0c49e",
   "metadata": {},
   "outputs": [
    {
     "name": "stdout",
     "output_type": "stream",
     "text": [
      "T_n: ['neutral temperature', 'GDZ-sph', ['time', 'lon', 'lat', 'height'], 'K']\n"
     ]
    },
    {
     "name": "stderr",
     "output_type": "stream",
     "text": [
      "C:\\Users\\rringuet\\Anaconda3\\envs\\Kamodo_Jan2023\\lib\\site-packages\\spacepy\\time.py:2367: UserWarning: Leapseconds may be out of date. Use spacepy.toolbox.update(leapsecs=True)\n",
      "  warnings.warn('Leapseconds may be out of date.'\n"
     ]
    }
   ],
   "source": [
    "# Searching for temperature variables in a dataset\n",
    "!python ../../kamodo_ccmc/flythrough/SatelliteFlythrough.py temperature GITM D:/GITM/jasoon_shim_071418_IT_1_tenth_oneday/"
   ]
  },
  {
   "cell_type": "markdown",
   "id": "5b6edc82",
   "metadata": {},
   "source": [
    "## RealFlight\n",
    "Fly a real satellite trajectory obtained from the SSCWeb through a dataset."
   ]
  },
  {
   "cell_type": "code",
   "execution_count": 10,
   "id": "ec840cf0",
   "metadata": {},
   "outputs": [
    {
     "name": "stdout",
     "output_type": "stream",
     "text": [
      "Help on function RealFlight in module __main__:\n",
      "\n",
      "RealFlight(dataset, start, stop, model, file_dir, variable_list, coord_type='GEO', output_name='', plot_coord='GEO', verbose=False)\n",
      "    Retrieves the trajectory for the satellite requested and then flies that\n",
      "    trajectory through the model data requested.\n",
      "    \n",
      "    dataset: name of the satellite data set to pull trajectory from\n",
      "    start: utc timestamp for start of desired time interval\n",
      "    stop: utc timestamp for end of desired time interval\n",
      "    model: 'CTIPe','IRI', ...\n",
      "    file_dir: complete path to where model data files are stored\n",
      "    variable_list: List of standardized variable names. See model variable\n",
      "        output for details. Dimensions must be at least time + 2D spatial.\n",
      "    coord_type: Pick from GEO, GSM, GSE, or SM for the satellite trajectory.\n",
      "    output_name: complete path with filename (with the extension) for the file\n",
      "        to write the results to. Plotting filenames are determined by\n",
      "        output_name - extension + variable names + plot type (1D or 3D).\n",
      "        Extensions must be one of 'nc' for netCDF4 files, 'csv' for comma\n",
      "        separated data, or 'txt' for tab separated data files.\n",
      "    plot_coord: one of 'GDZ', 'GEO', 'GSM', 'GSE', 'SM', 'GEI', 'MAG', etc.\n",
      "        Indicates the coordinate system the plot will be generated in.\n",
      "        Only plots in cartesian coordinates systems are supported, so 'SPH'\n",
      "        and 'RLL' are not accepted. Default is 'GEO'. Astropy coordinates\n",
      "        also allowed.\n",
      "    verbose: Set to true to be overwhelmed with information.\n",
      "    \n",
      "    Returns a dictionary with keys: 'utc_time', 'c1', 'c2', 'c3', and 'net_idx'\n",
      "        - utc_time is an array in UTC seconds since 1970-01-01 of the satellite\n",
      "            timestamps with any occuring outside of the model data removed.\n",
      "        - 'c1', 'c2', and 'c3' are arrays of the given coordinate values for\n",
      "            each surviving timestamp.\n",
      "        - 'net_idx' is the original index value of the surviving timestamps.\n",
      "            This is kept for easier comparison with the original dataset.\n",
      "        - additional keys are included for each variable and label an array of\n",
      "            the values of the indicated variable for each time+spatial\n",
      "            coordinate given.\n",
      "        - The units of each array in the returned dictionary are printed to\n",
      "            the screen.\n",
      "    \n",
      "    See kamodo_ccmc.flythrough.utils.ConvertCoord for info on the coordinate\n",
      "    systems.\n",
      "\n"
     ]
    },
    {
     "name": "stderr",
     "output_type": "stream",
     "text": [
      "C:\\Users\\rringuet\\Anaconda3\\envs\\Kamodo_Jan2023\\lib\\site-packages\\spacepy\\time.py:2367: UserWarning: Leapseconds may be out of date. Use spacepy.toolbox.update(leapsecs=True)\n",
      "  warnings.warn('Leapseconds may be out of date.'\n"
     ]
    }
   ],
   "source": [
    "# Show documentation\n",
    "!python ../../kamodo_ccmc/flythrough/SatelliteFlythrough.py RealFlight"
   ]
  },
  {
   "cell_type": "code",
   "execution_count": 41,
   "id": "fe55f81f",
   "metadata": {},
   "outputs": [
    {
     "name": "stdout",
     "output_type": "stream",
     "text": [
      "1426550400.0 1426557599.0\n"
     ]
    }
   ],
   "source": [
    "# Select input values\n",
    "import datetime as dt\n",
    "# Choose input values for RealFlight function call.\n",
    "model = 'GITM'  # Choose the model.\n",
    "# Full file path to model output data.\n",
    "file_dir = 'D:/GITM/jasoon_shim_071418_IT_1_tenth_oneday/'  \n",
    "start_utcts = dt.datetime(2015, 3, 17, 0).replace(tzinfo=dt.timezone.utc).timestamp()\n",
    "end_utcts = dt.datetime(2015, 3, 17, 2).replace(tzinfo=dt.timezone.utc).timestamp()-1\n",
    "variables = ['rho_n', 'TEC']  # one or more variable names to retrieve\n",
    "dataset = 'cnofs' \n",
    "# Use https://sscweb.gsfc.nasa.gov/ to find the satellite name and time range desired.\n",
    "coord_type = 'GEO'  # Desired coordinate system for retrieved trajectory.\n",
    "print(start_utcts, end_utcts)\n",
    "# Choose naming convention for output files\n",
    "output_name = 'Files/RealFlightExampleCMD_GITM.txt' \n",
    "plot_coord = 'GSE'  # Coordinate system chosen for output plots\n",
    "# See https://sscweb.gsfc.nasa.gov/users_guide/Appendix_C.shtml for a description of coordinate types"
   ]
  },
  {
   "cell_type": "markdown",
   "id": "b99b7848",
   "metadata": {},
   "source": [
    "The flythrough commands will break if the output file requested already exists. This feature is included by design to prevent users from accidentally overwriting a previously created file, especially since some flythrough execution times may take a while depending on various factors. So, the next block removes the file if it already exists. Avoid executing the next block if this is not the desired behavior."
   ]
  },
  {
   "cell_type": "code",
   "execution_count": 44,
   "id": "8247a567",
   "metadata": {},
   "outputs": [
    {
     "name": "stdout",
     "output_type": "stream",
     "text": [
      "Files/RealFlightExampleCMD_GITM.txt file removed.\n"
     ]
    }
   ],
   "source": [
    "# Remove the previously created output file.\n",
    "import os\n",
    "if os.path.isfile(output_name):\n",
    "    os.remove(output_name)\n",
    "    print(output_name, 'file removed.')\n",
    "else:\n",
    "    print(output_name, 'file not found.')"
   ]
  },
  {
   "cell_type": "code",
   "execution_count": 45,
   "id": "88335af5",
   "metadata": {},
   "outputs": [
    {
     "name": "stdout",
     "output_type": "stream",
     "text": [
      "\n",
      "dataset: cnofs, \n",
      "start: 1426550400, \n",
      "stop: 1426557599,\n",
      "model: GITM, \n",
      "file_dir: D:/GITM/jasoon_shim_071418_IT_1_tenth_oneday/,\n",
      "variable_list: ['rho_n', 'TEC'], \n",
      "coord_type: GEO,\n",
      "output_name: Files/RealFlightExampleCMD_GITM.txt, \n",
      "plot_coord: SM\n",
      "Attribute/Key names of return dictionary: dict_keys(['sat_time', 'c1', 'c2', 'c3'])\n",
      "Time slice index 0 added from file.\n",
      "Time slice index 1 added from file.\n",
      "Time slice index 2 added from file.\n",
      "Time slice index 3 added from file.\n",
      "Time slice index 4 added from file.\n",
      "Time slice index 5 added from file.\n",
      "Time slice index 6 added from file.\n",
      "Time slice index 7 added from file.\n",
      "Time slice index 8 added from file.\n",
      "Time slice index 9 added from file.\n",
      "Time slice index 10 added from file.\n",
      "Time slice index 11 added from file.\n",
      "Time slice index 12 added from file.\n",
      "Time slice index 13 added from file.\n",
      "Time slice index 0 added from file.\n",
      "Time slice index 1 added from file.\n",
      "Time slice index 2 added from file.\n",
      "Time slice index 3 added from file.\n",
      "Time slice index 4 added from file.\n",
      "Time slice index 5 added from file.\n",
      "Time slice index 6 added from file.\n",
      "Time slice index 7 added from file.\n",
      "Time slice index 8 added from file.\n",
      "Time slice index 9 added from file.\n",
      "Time slice index 10 added from file.\n",
      "Time slice index 11 added from file.\n",
      "Time slice index 12 added from file.\n",
      "Time slice index 13 added from file.\n",
      "{'rho_n': 'kg/m**3', 'TEC': '10**16/m**2', 'utc_time': 's', 'net_idx': '', 'c1': 'R_E', 'c2': 'R_E', 'c3': 'R_E'}\n",
      "Output saved in Files/RealFlightExampleCMD_GITM.txt.\n",
      "Generating interactive plots...\n",
      "-saving html div file:  Files/RealFlightExampleCMD_GITM_rho_n_3D.html\n",
      "-saving html div file:  Files/RealFlightExampleCMD_GITM_rho_n_1D.html\n",
      "-saving html div file:  Files/RealFlightExampleCMD_GITM_TEC_3D.html\n",
      "-saving html div file:  Files/RealFlightExampleCMD_GITM_TEC_1D.html\n"
     ]
    },
    {
     "name": "stderr",
     "output_type": "stream",
     "text": [
      "C:\\Users\\rringuet\\Anaconda3\\envs\\Kamodo_Jan2023\\lib\\site-packages\\spacepy\\time.py:2367: UserWarning: Leapseconds may be out of date. Use spacepy.toolbox.update(leapsecs=True)\n",
      "  warnings.warn('Leapseconds may be out of date.'\n",
      "C:\\Users\\rringuet\\Anaconda3\\envs\\Kamodo_Jan2023\\lib\\site-packages\\scipy\\interpolate\\interpolate.py:630: RuntimeWarning: divide by zero encountered in true_divide\n",
      "  slope = (y_hi - y_lo) / (x_hi - x_lo)[:, None]\n",
      "C:\\Users\\rringuet\\Anaconda3\\envs\\Kamodo_Jan2023\\lib\\site-packages\\scipy\\interpolate\\interpolate.py:633: RuntimeWarning: invalid value encountered in multiply\n",
      "  y_new = slope*(x_new - x_lo)[:, None] + y_lo\n"
     ]
    }
   ],
   "source": [
    "# Run RealFlight flythrough command. Note that variable values must be written out.\n",
    "!python ../../kamodo_ccmc/flythrough/SatelliteFlythrough.py RealFlight cnofs 1426550400 1426557599 GITM D:/GITM/jasoon_shim_071418_IT_1_tenth_oneday/ [rho_n,TEC] GEO Files/RealFlightExampleCMD_GITM.txt SM \n",
    "# results_real = SF.RealFlight(dataset, start_utcts, end_utcts, model, file_dir, variables, \n",
    "#                             coord_type=coord_type, output_name=output_name, plot_coord=plot_coord)\n",
    "# The numerous 'Time slice index' messages printed are generated by the lazy time interpolation,\n",
    "# which only loads the time slices necessary to perform the flythrough execution requested.\n",
    "# Open plots in separate internet browser window for interactivity. Nothing will open here."
   ]
  },
  {
   "cell_type": "code",
   "execution_count": 47,
   "id": "4ed3c141",
   "metadata": {},
   "outputs": [
    {
     "name": "stderr",
     "output_type": "stream",
     "text": [
      "C:\\Users\\rringuet\\Anaconda3\\envs\\Kamodo_Jan2023\\lib\\site-packages\\spacepy\\time.py:2367: UserWarning: Leapseconds may be out of date. Use spacepy.toolbox.update(leapsecs=True)\n",
      "  warnings.warn('Leapseconds may be out of date.'\n"
     ]
    },
    {
     "data": {
      "text/latex": [
       "\\begin{equation}\\rho_{n}{\\left(time \\right)}[\\frac{kg}{m^{3}}] = \\lambda{\\left(time \\right)}\\end{equation} \\begin{equation}\\operatorname{TEC}{\\left(time \\right)}[\\frac{10000000000000000}{m^{2}}] = \\lambda{\\left(time \\right)}\\end{equation}"
      ],
      "text/plain": [
       "{rho_n(time): <function Functionalize_TimeSeries.<locals>.timeseries_func at 0x0000024E1B47D558>, rho_n: <function Functionalize_TimeSeries.<locals>.timeseries_func at 0x0000024E1B47D558>, TEC(time): <function Functionalize_TimeSeries.<locals>.timeseries_func at 0x0000024E1B482708>, TEC: <function Functionalize_TimeSeries.<locals>.timeseries_func at 0x0000024E1B482708>}"
      ]
     },
     "execution_count": 47,
     "metadata": {},
     "output_type": "execute_result"
    }
   ],
   "source": [
    "# Read in and functionalize the output.\n",
    "from kamodo_ccmc.flythrough import SatelliteFlythrough as SF\n",
    "kamodo_object_real = SF.O.Functionalize_SFResults(model, SF.O.SF_read('Files/RealFlightExampleCMD_GITM.txt'))\n",
    "kamodo_object_real"
   ]
  },
  {
   "cell_type": "markdown",
   "id": "2f287212",
   "metadata": {},
   "source": [
    "## FakeFlight\n",
    "Fly a sample satellite trajectory through a dataset"
   ]
  },
  {
   "cell_type": "code",
   "execution_count": 48,
   "id": "5bd1b924",
   "metadata": {},
   "outputs": [
    {
     "name": "stdout",
     "output_type": "stream",
     "text": [
      "Help on function FakeFlight in module __main__:\n",
      "\n",
      "FakeFlight(start_time, stop_time, model, file_dir, variable_list, max_lat=65.0, min_lat=-65.0, lon_perorbit=363.0, max_height=450.0, min_height=400.0, p=0.01, n=2.0, verbose=False, output_name='', plot_coord='GEO')\n",
      "    Generates a sample trajectory and then flies that trajectory through the\n",
      "    model data chosen.\n",
      "    \n",
      "    Parameters:\n",
      "        start_time: utc timestamp in seconds for start\n",
      "        stop_time: utc timestamp in seconds for stop\n",
      "        model: CTIPe, IRI, ....\n",
      "        file_dir: complete path to where model data is stored\n",
      "        variable_list: list of standardized variable names desired.\n",
      "            Integers allowed. Dimensions must be at least time + 2D spatial.\n",
      "        max_lat: maximum latitude for sample trajectory, in degrees\n",
      "            (default=65.)\n",
      "        min_lat: minimum latitude for sample trajectory, in degrees\n",
      "            (default=-65.)\n",
      "        lon_perorbit: the degrees of longitude per about 90 minute orbit\n",
      "            (set less than 360 for precession forward in longitude, set less\n",
      "            than 360 for precession backwards) (default=363.)\n",
      "        max_height: maximum starting height of orbit in km (default=450.)\n",
      "        min_height: minimum starting height of orbit in km (default=400.)\n",
      "        p: a rough precession variable, applied as an overall height decrease\n",
      "            as a percentage of the min_height value: p =  (default=0.01).\n",
      "        n: the time cadence of the sample trajectory generated\n",
      "            (default = 2 seconds)\n",
      "        output_name: complete path with filename (with the extension) for the\n",
      "            file to write the results to. Plotting filenames are determined by\n",
      "            output_name - extension + variable names + plot type (1D or 3D).\n",
      "            Extensions must be one of 'nc' for netCDF4 files, 'csv' for comma\n",
      "            separated data, or 'txt' for tab separated data files.\n",
      "        plot_coord: one of 'GDZ', 'GEO', 'GSM', 'GSE', 'SM', 'GEI', 'MAG', etc.\n",
      "            Indicates the coordinate system the plot will be generated in.\n",
      "            Only plots in cartesian coordinates systems are supported, so 'SPH'\n",
      "            and 'RLL' are not accepted. Default is 'GEO'. Astropy coordinates\n",
      "            also allowed.\n",
      "    \n",
      "    Returns a dictionary with keys: 'utc_time', 'c1', 'c2', 'c3', and 'net_idx'\n",
      "    - utc_time is an array in UTC seconds since 1970-01-01 of the generated\n",
      "        timestamps with any occuring outside of the model data removed.\n",
      "    - 'c1', 'c2', and 'c3' are arrays of the given coordinate values for each\n",
      "        surviving timestamp\n",
      "    - 'net_idx' is the original index value of the surviving timestamps.\n",
      "        This is kept for easier comparison with the original dataset.\n",
      "    - additional keys are included for each variable and label an array of the\n",
      "        values of the indicated variable for each time+spatial coordinate given\n",
      "    - The units of each array in the returned dictionary are printed to\n",
      "        the screen.\n",
      "    \n",
      "    See kamodo_ccmc.flythrough.utils.ConvertCoord for info on the coordinate\n",
      "    systems.\n",
      "\n"
     ]
    },
    {
     "name": "stderr",
     "output_type": "stream",
     "text": [
      "C:\\Users\\rringuet\\Anaconda3\\envs\\Kamodo_Jan2023\\lib\\site-packages\\spacepy\\time.py:2367: UserWarning: Leapseconds may be out of date. Use spacepy.toolbox.update(leapsecs=True)\n",
      "  warnings.warn('Leapseconds may be out of date.'\n"
     ]
    }
   ],
   "source": [
    "# Show documentation\n",
    "!python ../../kamodo_ccmc/flythrough/SatelliteFlythrough.py FakeFlight"
   ]
  },
  {
   "cell_type": "code",
   "execution_count": 51,
   "id": "d40fcb7d",
   "metadata": {},
   "outputs": [
    {
     "name": "stdout",
     "output_type": "stream",
     "text": [
      "\n",
      "start_time: 1426550400, \n",
      "stop_time: 1426557599, \n",
      "model: GITM, \n",
      "file_dir: D:/GITM/jasoon_shim_071418_IT_1_tenth_oneday/, \n",
      "variable_list: ['rho_n', 'TEC'], \n",
      "max_lat: 65.0, \n",
      "min_lat: -65.0, \n",
      "lon_perorbit: 363.0, \n",
      "max_height: 400.0, \n",
      "min_height 300.0, \n",
      "p: 0.01, n: 20.0, \n",
      "output_name: , \n",
      "plot_coord: \n",
      "Attribute/Key names of return dictionary: dict_keys(['sat_time', 'c1', 'c2', 'c3'])\n",
      "(c1,c2,c3) = (lon, lat, alt) in (deg,deg,km) in the GDZ, sph coordinate system.\n",
      "sat_time contains the utc timestamps.\n",
      "Time slice index 0 added from file.\n",
      "Time slice index 1 added from file.\n",
      "Time slice index 2 added from file.\n",
      "Time slice index 3 added from file.\n",
      "Time slice index 4 added from file.\n",
      "Time slice index 5 added from file.\n",
      "Time slice index 6 added from file.\n",
      "Time slice index 7 added from file.\n",
      "Time slice index 8 added from file.\n",
      "Time slice index 9 added from file.\n",
      "Time slice index 10 added from file.\n",
      "Time slice index 11 added from file.\n",
      "Time slice index 12 added from file.\n",
      "Time slice index 13 added from file.\n",
      "Time slice index 0 added from file.\n",
      "Time slice index 1 added from file.\n",
      "Time slice index 2 added from file.\n",
      "Time slice index 3 added from file.\n",
      "Time slice index 4 added from file.\n",
      "Time slice index 5 added from file.\n",
      "Time slice index 6 added from file.\n",
      "Time slice index 7 added from file.\n",
      "Time slice index 8 added from file.\n",
      "Time slice index 9 added from file.\n",
      "Time slice index 10 added from file.\n",
      "Time slice index 11 added from file.\n",
      "Time slice index 12 added from file.\n",
      "Time slice index 13 added from file.\n",
      "{'rho_n': 'kg/m**3', 'TEC': '10**16/m**2', 'utc_time': 's', 'net_idx': '', 'c1': 'deg', 'c2': 'deg', 'c3': 'km'}\n"
     ]
    },
    {
     "name": "stderr",
     "output_type": "stream",
     "text": [
      "C:\\Users\\rringuet\\Anaconda3\\envs\\Kamodo_Jan2023\\lib\\site-packages\\spacepy\\time.py:2367: UserWarning: Leapseconds may be out of date. Use spacepy.toolbox.update(leapsecs=True)\n",
      "  warnings.warn('Leapseconds may be out of date.'\n",
      "C:\\Users\\rringuet\\Anaconda3\\envs\\Kamodo_Jan2023\\lib\\site-packages\\scipy\\interpolate\\interpolate.py:630: RuntimeWarning: divide by zero encountered in true_divide\n",
      "  slope = (y_hi - y_lo) / (x_hi - x_lo)[:, None]\n",
      "C:\\Users\\rringuet\\Anaconda3\\envs\\Kamodo_Jan2023\\lib\\site-packages\\scipy\\interpolate\\interpolate.py:633: RuntimeWarning: invalid value encountered in multiply\n",
      "  y_new = slope*(x_new - x_lo)[:, None] + y_lo\n"
     ]
    }
   ],
   "source": [
    "# Run FakeFlight. Note the same variables defined above are used here, but no outputs are created.\n",
    "!python ../../kamodo_ccmc/flythrough/SatelliteFlythrough.py FakeFlight 1426550400 1426557599 GITM D:/GITM/jasoon_shim_071418_IT_1_tenth_oneday/ [rho_n,TEC] 65 -65 363 400 300 0.01 20 \"\" \"\"\n",
    "# results_fake = SF.FakeFlight(start_utcts, end_utcts, model, file_dir, variables, max_height=400, min_height=300, n=20)"
   ]
  },
  {
   "cell_type": "markdown",
   "id": "4b6489f8",
   "metadata": {},
   "source": [
    "## TLEFlight\n",
    "The TLEFlight function uses two-line elements to calculate a satellite trajectory using sgp4, \n",
    "and then flies that satellite trajectory through the chosen model data."
   ]
  },
  {
   "cell_type": "code",
   "execution_count": 52,
   "id": "e03098a5",
   "metadata": {},
   "outputs": [
    {
     "name": "stdout",
     "output_type": "stream",
     "text": [
      "Help on function TLEFlight in module __main__:\n",
      "\n",
      "TLEFlight(tle_file, start, stop, time_cadence, model, file_dir, variable_list, output_name='', plot_coord='GEO', method='forward', verbose=False)\n",
      "    Use sgp4 to calculate a satellite trajectory given TLEs, then fly the\n",
      "    trajectory through the chosen model data. If the time cadence does not\n",
      "    evenly divide into the range of timestamps given, then the ending time\n",
      "    value will be extended so that the entire requested range will be covered.\n",
      "    Parameters:\n",
      "        tle_file: The file name, including complete file path, of a file\n",
      "            containing two-line elements. It is assumed that the file has no\n",
      "            header and no other content.\n",
      "        start_utcts: The UTC timestamp corresponding to the desired start time.\n",
      "            Should be an integer.\n",
      "        stop_utcts: The UTC timestamp corresponding to the desired stop time.\n",
      "            Should be an integer.\n",
      "        time_cadence: The number of seconds desired between trajectory\n",
      "            positions. Should be an integer.\n",
      "        model: 'CTIPe','IRI', ...\n",
      "        file_dir: complete path to where model data files are stored.\n",
      "        variable_list: List of standardized variable names. See model variable\n",
      "            output for details. Dimensions must be at least time + 2D spatial.\n",
      "        coord_type: Pick from GEO, GSM, GSE, or SM for the satellite\n",
      "            trajectory.\n",
      "        output_name: complete path with filename (with the extension) for the\n",
      "            file to write the results to. Plotting filenames are determined by\n",
      "            output_name - extension + variable names + plot type (1D or 3D).\n",
      "            Extensions must be one of 'nc' for netCDF4 files, 'csv' for comma\n",
      "            separated data, or 'txt' for tab separated data files.\n",
      "        plot_coord: Any of the coordinate systems in SpacePy or AstroPy.\n",
      "            See the ConvertCoord function for more information on the choices\n",
      "            of string values.\n",
      "        method: 'forward' or 'nearest'. This keyword changes the propagation\n",
      "            method for timestamps between TLEs, not for timestamps before the\n",
      "            first TLE or after the last TLE. The 'forward' (default) method\n",
      "            uses the previous TLE to propagate forward for all timestamps\n",
      "            between the selected TLE and the next one, while the 'nearest'\n",
      "            method finds the TLE nearest to the timestamp and propagates either\n",
      "            forward or backward for the timestamp.\n",
      "        verbose: Set to true to be overwhelmed with information.\n",
      "    \n",
      "    Returns a dictionary with keys: 'utc_time', 'c1', 'c2', 'c3', and 'net_idx'\n",
      "        - utc_time is an array in UTC seconds since 1970-01-01 of the satellite\n",
      "            timestamps with any occuring outside of the model data removed.\n",
      "        - 'c1', 'c2', and 'c3' are arrays of the given coordinate values for\n",
      "            each surviving timestamp\n",
      "        - 'net_idx' is the original index value of the surviving timestamps.\n",
      "            This is kept for easier comparison with the original dataset.\n",
      "        - additional keys are included for each variable and label an array of\n",
      "            the values of the indicated variable for each time+spatial\n",
      "            coordinate given.\n",
      "        - The units of each array in the returned dictionary are printed to\n",
      "            the screen.\n",
      "    \n",
      "    See kamodo_ccmc.flythrough.utils.ConvertCoord for info on the coordinate\n",
      "    systems.\n",
      "\n"
     ]
    },
    {
     "name": "stderr",
     "output_type": "stream",
     "text": [
      "C:\\Users\\rringuet\\Anaconda3\\envs\\Kamodo_Jan2023\\lib\\site-packages\\spacepy\\time.py:2367: UserWarning: Leapseconds may be out of date. Use spacepy.toolbox.update(leapsecs=True)\n",
      "  warnings.warn('Leapseconds may be out of date.'\n"
     ]
    }
   ],
   "source": [
    "# Show documentation\n",
    "!python ../../kamodo_ccmc/flythrough/SatelliteFlythrough.py TLEFlight"
   ]
  },
  {
   "cell_type": "code",
   "execution_count": 57,
   "id": "daa22184",
   "metadata": {},
   "outputs": [
    {
     "name": "stdout",
     "output_type": "stream",
     "text": [
      "\n",
      "tle_file: Files/GRACE1_TLEs.txt, \n",
      "start: 1426550400, \n",
      "stop: 1426557599,\n",
      "time_cadence: 60,\n",
      "model: GITM, \n",
      "file_dir: D:/GITM/jasoon_shim_071418_IT_1_tenth_oneday/,\n",
      "variable_list: ['rho_n', 'TEC'], \n",
      "output_name: , \n",
      "plot_coord: , \n",
      "method: forward\n",
      "\n",
      "Time slice index 0 added from file.\n",
      "Time slice index 1 added from file.\n",
      "Time slice index 2 added from file.\n",
      "Time slice index 3 added from file.\n",
      "Time slice index 4 added from file.\n",
      "Time slice index 5 added from file.\n",
      "Time slice index 6 added from file.\n",
      "Time slice index 7 added from file.\n",
      "Time slice index 8 added from file.\n",
      "Time slice index 9 added from file.\n",
      "Time slice index 10 added from file.\n",
      "Time slice index 11 added from file.\n",
      "Time slice index 12 added from file.\n",
      "Time slice index 13 added from file.\n",
      "Time slice index 14 added from file.\n",
      "Time slice index 0 added from file.\n",
      "Time slice index 1 added from file.\n",
      "Time slice index 2 added from file.\n",
      "Time slice index 3 added from file.\n",
      "Time slice index 4 added from file.\n",
      "Time slice index 5 added from file.\n",
      "Time slice index 6 added from file.\n",
      "Time slice index 7 added from file.\n",
      "Time slice index 8 added from file.\n",
      "Time slice index 9 added from file.\n",
      "Time slice index 10 added from file.\n",
      "Time slice index 11 added from file.\n",
      "Time slice index 12 added from file.\n",
      "Time slice index 13 added from file.\n",
      "Time slice index 14 added from file.\n",
      "{'rho_n': 'kg/m**3', 'TEC': '10**16/m**2', 'utc_time': 's', 'net_idx': '', 'c1': 'R_E', 'c2': 'R_E', 'c3': 'R_E'}\n"
     ]
    },
    {
     "name": "stderr",
     "output_type": "stream",
     "text": [
      "C:\\Users\\rringuet\\Anaconda3\\envs\\Kamodo_Jan2023\\lib\\site-packages\\spacepy\\time.py:2367: UserWarning: Leapseconds may be out of date. Use spacepy.toolbox.update(leapsecs=True)\n",
      "  warnings.warn('Leapseconds may be out of date.'\n",
      "C:\\Users\\rringuet\\Anaconda3\\envs\\Kamodo_Jan2023\\lib\\site-packages\\scipy\\interpolate\\interpolate.py:630: RuntimeWarning: divide by zero encountered in true_divide\n",
      "  slope = (y_hi - y_lo) / (x_hi - x_lo)[:, None]\n",
      "C:\\Users\\rringuet\\Anaconda3\\envs\\Kamodo_Jan2023\\lib\\site-packages\\scipy\\interpolate\\interpolate.py:633: RuntimeWarning: invalid value encountered in multiply\n",
      "  y_new = slope*(x_new - x_lo)[:, None] + y_lo\n"
     ]
    }
   ],
   "source": [
    "# Run TLEFlight flythrough command. Note the same variables defined above are used here, but no outputs are created.\n",
    "!python ../../kamodo_ccmc/flythrough/SatelliteFlythrough.py TLEFlight Files/GRACE1_TLEs.txt 1426550400 1426557599 60 GITM D:/GITM/jasoon_shim_071418_IT_1_tenth_oneday/ [rho_n,TEC] \"\" \"\" forward\n",
    "# results_tle = SF.TLEFlight(tle_file, start_utcts, end_utcts, time_cadence, model, file_dir, variables)"
   ]
  },
  {
   "cell_type": "markdown",
   "id": "a3ec5259",
   "metadata": {},
   "source": [
    "## MyFlight\n",
    "The MyFlight function flies a trajectory from a file through the chosen model data. The file must be formatted to match the csv/nc/txt file examples given. The easiest way to create this is to write out a given trajectory to a file using the SF.O.SF_write function demonstrated in the Trajectories section and use the output file from there."
   ]
  },
  {
   "cell_type": "code",
   "execution_count": 58,
   "id": "47b0df33",
   "metadata": {},
   "outputs": [
    {
     "name": "stdout",
     "output_type": "stream",
     "text": [
      "Help on function MyFlight in module __main__:\n",
      "\n",
      "MyFlight(traj_file, model, file_dir, variable_list, output_name='', plot_coord='GEO', verbose=False)\n",
      "    Read in a trajectory from a file, then fly through the model data\n",
      "    selected.\n",
      "    \n",
      "    traj_file: complete path and filename for file containing trajectory data.\n",
      "    file_type: one of 'cdf4' for netCDF4 files, 'csv' for comma-separated\n",
      "        files, or 'txt' for a tab-separated text file. Indicates the format of\n",
      "        the input trajectory file.\n",
      "    coord_sys: one of 'GDZ', 'GEO', 'GSM', 'GSE', 'SM', 'GEI', 'MAG', 'SPH',\n",
      "        'RLL' combined with '-sph' or '-car'. E.g. 'SM-car' or 'GDZ-sph'.\n",
      "        Astropy coordinate systems also supported.\n",
      "    model: 'CTIPe', 'IRI', ...\n",
      "    file_dir: complete path to model data files\n",
      "    variable_list: List of standardized variable names. See model variable\n",
      "        output for details. Dimensions must be at least time + 2D spatial.\n",
      "    output_name: complete path with filename (with the extension) for the file\n",
      "        to write the results to. Plotting filenames are determined by\n",
      "        output_name - extension + variable names + plot type (1D or 3D).\n",
      "        Extensions must be one of 'nc' for netCDF4 files, 'csv' for comma\n",
      "        separated data, or 'txt' for tab separated data files.\n",
      "    plot_coord: one of 'GDZ', 'GEO', 'GSM', 'GSE', 'SM', 'GEI', 'MAG', etc.\n",
      "        Indicates the coordinate system the plot will be generated in.\n",
      "        Only plots in cartesian coordinates systems are supported, so 'SPH'\n",
      "        and 'RLL' are not accepted. Default is 'GEO'. Astropy coordinates\n",
      "        also allowed.\n",
      "    verbose: Set to true to be overwhelmed with information.\n",
      "    \n",
      "    Returns a dictionary with keys: 'utc_time', 'c1', 'c2', 'c3', and 'net_idx'\n",
      "        - utc_time is an array in UTC seconds since 1970-01-01 of the given\n",
      "            timestamps with any occuring outside of the model data removed.\n",
      "        - 'c1', 'c2', and 'c3' are arrays of the given coordinate values for\n",
      "            each surviving timestamp.\n",
      "        - 'net_idx' is the original index value of the surviving timestamps.\n",
      "            This is kept for easier comparison with the original dataset.\n",
      "        - additional keys are included for each variable and label an array of\n",
      "            the values of the indicated variable for each time+spatial\n",
      "            coordinate given.\n",
      "        - The units of each array in the returned dictionary are printed to\n",
      "            the screen.\n",
      "    \n",
      "    See kamodo_ccmc.flythrough.utils.ConvertCoord for info on the coordinate\n",
      "    systems.\n",
      "\n"
     ]
    },
    {
     "name": "stderr",
     "output_type": "stream",
     "text": [
      "C:\\Users\\rringuet\\Anaconda3\\envs\\Kamodo_Jan2023\\lib\\site-packages\\spacepy\\time.py:2367: UserWarning: Leapseconds may be out of date. Use spacepy.toolbox.update(leapsecs=True)\n",
      "  warnings.warn('Leapseconds may be out of date.'\n"
     ]
    }
   ],
   "source": [
    "# Show documentation\n",
    "!python ../../kamodo_ccmc/flythrough/SatelliteFlythrough.py MyFlight"
   ]
  },
  {
   "cell_type": "code",
   "execution_count": 61,
   "id": "9791705b",
   "metadata": {},
   "outputs": [
    {
     "name": "stdout",
     "output_type": "stream",
     "text": [
      "\n",
      "traj_file: Files/RealFlightExample_GITM.txt,\n",
      "model: GITM, \n",
      "file_dir: D:/GITM/jasoon_shim_071418_IT_1_tenth_oneday/,\n",
      "variable_list: ['rho_n', 'TEC'], \n",
      "output_name: , \n",
      "plot_coord: \n",
      "\n",
      "Time slice index 0 added from file.\n",
      "Time slice index 1 added from file.\n",
      "Time slice index 2 added from file.\n",
      "Time slice index 3 added from file.\n",
      "Time slice index 4 added from file.\n",
      "Time slice index 5 added from file.\n",
      "Time slice index 6 added from file.\n",
      "Time slice index 7 added from file.\n",
      "Time slice index 8 added from file.\n",
      "Time slice index 9 added from file.\n",
      "Time slice index 10 added from file.\n",
      "Time slice index 11 added from file.\n",
      "Time slice index 12 added from file.\n",
      "Time slice index 13 added from file.\n",
      "Time slice index 0 added from file.\n",
      "Time slice index 1 added from file.\n",
      "Time slice index 2 added from file.\n",
      "Time slice index 3 added from file.\n",
      "Time slice index 4 added from file.\n",
      "Time slice index 5 added from file.\n",
      "Time slice index 6 added from file.\n",
      "Time slice index 7 added from file.\n",
      "Time slice index 8 added from file.\n",
      "Time slice index 9 added from file.\n",
      "Time slice index 10 added from file.\n",
      "Time slice index 11 added from file.\n",
      "Time slice index 12 added from file.\n",
      "Time slice index 13 added from file.\n",
      "{'rho_n': 'kg/m**3', 'TEC': '10**16/m**2', 'utc_time': 's', 'net_idx': '', 'c1': 'R_E', 'c2': 'R_E', 'c3': 'R_E'}\n"
     ]
    },
    {
     "name": "stderr",
     "output_type": "stream",
     "text": [
      "C:\\Users\\rringuet\\Anaconda3\\envs\\Kamodo_Jan2023\\lib\\site-packages\\spacepy\\time.py:2367: UserWarning: Leapseconds may be out of date. Use spacepy.toolbox.update(leapsecs=True)\n",
      "  warnings.warn('Leapseconds may be out of date.'\n",
      "C:\\Users\\rringuet\\Anaconda3\\envs\\Kamodo_Jan2023\\lib\\site-packages\\scipy\\interpolate\\interpolate.py:630: RuntimeWarning: divide by zero encountered in true_divide\n",
      "  slope = (y_hi - y_lo) / (x_hi - x_lo)[:, None]\n",
      "C:\\Users\\rringuet\\Anaconda3\\envs\\Kamodo_Jan2023\\lib\\site-packages\\scipy\\interpolate\\interpolate.py:633: RuntimeWarning: invalid value encountered in multiply\n",
      "  y_new = slope*(x_new - x_lo)[:, None] + y_lo\n"
     ]
    }
   ],
   "source": [
    "# Run MyFlight with user-supplied trajectory. Note the same variables defined above are used here, but no outputs are created.\n",
    "!python ../../kamodo_ccmc/flythrough/SatelliteFlythrough.py MyFlight Files/RealFlightExample_GITM.txt GITM D:/GITM/jasoon_shim_071418_IT_1_tenth_oneday/ [rho_n,TEC] \"\" \"\"\n",
    "# results_my = SF.MyFlight(traj_file, model, file_dir, variables)"
   ]
  }
 ],
 "metadata": {
  "kernelspec": {
   "display_name": "Python 3 (ipykernel)",
   "language": "python",
   "name": "python3"
  },
  "language_info": {
   "codemirror_mode": {
    "name": "ipython",
    "version": 3
   },
   "file_extension": ".py",
   "mimetype": "text/x-python",
   "name": "python",
   "nbconvert_exporter": "python",
   "pygments_lexer": "ipython3",
   "version": "3.7.13"
  }
 },
 "nbformat": 4,
 "nbformat_minor": 5
}
