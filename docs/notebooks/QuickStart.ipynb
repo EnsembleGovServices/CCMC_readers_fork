{
 "cells": [
  {
   "cell_type": "markdown",
   "id": "e75ff371",
   "metadata": {},
   "source": [
    "# Kamodo Quick Start"
   ]
  },
  {
   "cell_type": "markdown",
   "id": "06c4ac0a",
   "metadata": {},
   "source": [
    "## Installation instructions\n",   
    "Kamodo is built to run with at least 16 GB of RAM. Attempting to run Kamodo with less memory may result in errors.  "
   ]
  },
  {
   "cell_type": "markdown",
   "id": "3dee593e",
   "metadata": {},
   "source": [
    "### Conda prompt commands to create working environment\n",
    "- Move to the directory where you want the Kamodo package to be stored or if you wish to create a new environment, use this command:\n",
    "\n",
    "> conda create -n Kamodo_env python=3.7  \n",
    "\n",
    "- Add the packages needed by the CCMC readers to the desired environment (replace 'Kamodo_env' with your environment name):\n",
    "\n",
    "> conda install -n Kamodo_env -c conda-forge netCDF4 cdflib astropy ipython jupyter h5py sgp4\n",
    "\n",
    "- Activate the desired environment. \n",
    "\n",
    "> conda activate Kamodo_env\n",
    "\n",
    "- Install remaining dependencies:\n",
    "\n",
    "> python -m pip install --upgrade spacepy  \n",
    "> python -m pip install hapiclient    \n",
    "\n",
    "- Download CCMC Kamodo to the current directory:\n",
    "\n",
    "> git clone https://github.com/nasa/Kamodo.git\n",
    "\n",
    "- Install the CCMC Kamodo package. (Check the directory structure before using this command. The ./Kamodo directory should contain the kamodo_ccmc directory.)\n",
    "\n",
    "> python -m pip install ./Kamodo \n",
    "\n",
    "Note: Developers should install CCMC Kamodo with the -e option"
   ]
  },
  {
   "cell_type": "markdown",
   "id": "8b3693e3",
   "metadata": {},
   "source": [
    "### Test install from an ipython or notebook session"
   ]
  },
  {
   "cell_type": "code",
   "execution_count": 1,
   "id": "d9672e9a",
   "metadata": {},
   "outputs": [
    {
     "name": "stdout",
     "output_type": "stream",
     "text": [
      "\n",
      "The OpenGGCM_GM model accepts the standardized variable names listed below.\n",
      "-----------------------------------------------------------------------------------\n",
      "B_x : '['x component of magnetic field', 0, 'GSE', 'car', ['time', 'x', 'y', 'z'], 'nT']'\n",
      "B_y : '['y component of magnetic field', 1, 'GSE', 'car', ['time', 'x', 'y', 'z'], 'nT']'\n",
      "B_z : '['z component of magnetic field', 2, 'GSE', 'car', ['time', 'x', 'y', 'z'], 'nT']'\n",
      "E_x : '['x component of electric field', 6, 'GSE', 'car', ['time', 'x', 'x', 'x'], 'mV/m']'\n",
      "E_y : '['y component of electric field', 7, 'GSE', 'car', ['time', 'y', 'y', 'y'], 'mV/m']'\n",
      "E_z : '['z component of electric field', 8, 'GSE', 'car', ['time', 'z', 'z', 'z'], 'mV/m']'\n",
      "N_plasma : '['number density of plasma (hydrogen equivalent)', 12, 'GSE', 'car', ['time', 'x', 'y', 'z'], '1/cm**3']'\n",
      "P_plasma : '['plasma pressure', 14, 'GSE', 'car', ['time', 'x', 'y', 'z'], 'pPa']'\n",
      "eta : '['resistivity', 13, 'GSE', 'car', ['time', 'x', 'y', 'z'], 'm**2/s']'\n",
      "j_x : '['current density, x component', 15, 'GSE', 'car', ['time', 'x', 'y', 'z'], 'muA/m**2']'\n",
      "j_y : '['current density, y component', 16, 'GSE', 'car', ['time', 'x', 'y', 'z'], 'muA/m**2']'\n",
      "j_z : '['current density, z component', 17, 'GSE', 'car', ['time', 'x', 'y', 'z'], 'muA/m**2']'\n",
      "v_plasmax : '['x component of plasma velocity', 9, 'GSE', 'car', ['time', 'x', 'y', 'z'], 'km/s']'\n",
      "v_plasmay : '['y component of plasma velocity', 10, 'GSE', 'car', ['time', 'x', 'y', 'z'], 'km/s']'\n",
      "v_plasmaz : '['z component of plasma velocity', 11, 'GSE', 'car', ['time', 'x', 'y', 'z'], 'km/s']'\n",
      "\n"
     ]
    }
   ],
   "source": [
    "from kamodo import Kamodo\n",
    "k = Kamodo()  \n",
    "import kamodo_ccmc.flythrough.model_wrapper as MW  \n",
    "MW.Model_Variables('OpenGGCM_GM')"
   ]
  },
  {
   "cell_type": "markdown",
   "id": "e789c5fe",
   "metadata": {},
   "source": [
    "### Other testing\n",
    "Additional quick tests can be performed by following the \"Data Functionalization\" tab in this documentation as it does not require access to a dataset to function. Kamodo does not generate model outputs."
   ]
  },
  {
   "cell_type": "markdown",
   "id": "db98143e",
   "metadata": {},
   "source": [
    "## Plotly interactive plots\n",
    "The default plotting built into Kamodo uses plotly. Plotly (https://plotly.com/python/) is an open-source interactive plotting library supporting a wide range of plotting options. It enables web-based visualizations that can be displayed in Jupyter notebooks, as well as exported to html, png, and pdf. Below is a self contained html file to visualize model output in 3D you can interact with."
   ]
  },
  {
   "cell_type": "code",
   "execution_count": 2,
   "id": "e9cbdad4",
   "metadata": {},
   "outputs": [
    {
     "data": {
      "text/html": [
       "\n",
       "        <iframe\n",
       "            width=\"100%\"\n",
       "            height=\"650\"\n",
       "            src=\"Files/GITM_3D_500km.html\"\n",
       "            frameborder=\"0\"\n",
       "            allowfullscreen\n",
       "            \n",
       "        ></iframe>\n",
       "        "
      ],
      "text/plain": [
       "<IPython.lib.display.IFrame at 0x7f80a0ede490>"
      ]
     },
     "execution_count": 2,
     "metadata": {},
     "output_type": "execute_result"
    }
   ],
   "source": [
    "from IPython.display import IFrame\n",
    "IFrame(src='Files/GITM_3D_500km.html', width=\"100%\", height=\"650\")"
   ]
  }
 ],
 "metadata": {
  "kernelspec": {
   "display_name": "Python 3 (ipykernel)",
   "language": "python",
   "name": "python3"
  },
  "language_info": {
   "codemirror_mode": {
    "name": "ipython",
    "version": 3
   },
   "file_extension": ".py",
   "mimetype": "text/x-python",
   "name": "python",
   "nbconvert_exporter": "python",
   "pygments_lexer": "ipython3",
   "version": "3.7.13"
  }
 },
 "nbformat": 4,
 "nbformat_minor": 5
}
