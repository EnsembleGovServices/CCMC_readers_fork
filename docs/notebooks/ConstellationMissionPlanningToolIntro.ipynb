{
 "cells": [
  {
   "cell_type": "markdown",
   "id": "9cede150",
   "metadata": {},
   "source": [
    "# Constellation Mission Planning Tool\n",
    "This notebook tutorial shows how to fly a constellation of satellites through model data, focusing on spherical coordinate examples as an introduction. Trajectories can be obtained either from the test GDC trajectory file or the flythrough trajectory functions as shown here. See the Satellite Trajectory section for examples on trajectory options, and the Choosing Models and Variables section for more information on choosing models and variables. This functionality is not available from the command line. More complex workflow examples are included in the notebooks directory on the main level."
   ]
  },
  {
   "cell_type": "markdown",
   "id": "a01d429c",
   "metadata": {},
   "source": [
    "## Preparing to run"
   ]
  },
  {
   "cell_type": "code",
   "execution_count": 1,
   "id": "94350b4c",
   "metadata": {},
   "outputs": [],
   "source": [
    "# For a given model, find out what time range is covered by the data in a given directory.\n",
    "from kamodo_ccmc.flythrough import model_wrapper as MW\n",
    "import datetime as dt\n",
    "model, file_dir = 'GITM', 'D:/GITM/jasoon_shim_071418_IT_1_tenth_oneday/'  # change to match your machine\n",
    "start_utcts = dt.datetime(2015, 3, 17, 0).replace(tzinfo=dt.timezone.utc).timestamp()\n",
    "end_utcts = dt.datetime(2015, 3, 17, 6).replace(tzinfo=dt.timezone.utc).timestamp()-1\n",
    "# This function also automatically performs any data preparation needed."
   ]
  },
  {
   "cell_type": "code",
   "execution_count": 2,
   "id": "e8e45ffa",
   "metadata": {},
   "outputs": [
    {
     "name": "stderr",
     "output_type": "stream",
     "text": [
      "C:\\Users\\rringuet\\Anaconda3\\envs\\Kamodo_Jan2023\\lib\\site-packages\\spacepy\\time.py:2367: UserWarning: Leapseconds may be out of date. Use spacepy.toolbox.update(leapsecs=True)\n",
      "  warnings.warn('Leapseconds may be out of date.'\n"
     ]
    },
    {
     "name": "stdout",
     "output_type": "stream",
     "text": [
      "Attribute/Key names of return dictionary: dict_keys(['sat_time', 'c1', 'c2', 'c3'])\n"
     ]
    }
   ],
   "source": [
    "# Import function to retrieve the grace1 trajectory from the SSCWeb.\n",
    "from kamodo_ccmc.flythrough import SatelliteFlythrough as SF\n",
    "# Typical coordinates possible through SSCWeb are GEO, GSE, SM, and GSM (all cartesian and in R_E).\n",
    "input_coord = 'GEO'\n",
    "traj_dict, coord_type = SF.SatelliteTrajectory('grace1', start_utcts, end_utcts, coord_type=input_coord)"
   ]
  },
  {
   "cell_type": "code",
   "execution_count": 3,
   "id": "d1a8d8fb",
   "metadata": {},
   "outputs": [
    {
     "name": "stdout",
     "output_type": "stream",
     "text": [
      "-177.97713698151003 170.68868826059744 -88.76818132167068 88.97299240106359 1.0600288778760936 1.0644534136698656\n"
     ]
    }
   ],
   "source": [
    "# Convert coordinates to system desired for reconstruction to take place in.\n",
    "# The trajectories were retrieved in GEO cartesian, and are converted to GEO spherical below.\n",
    "from kamodo_ccmc.flythrough.utils import ConvertCoord\n",
    "c1, c2, c3, units = ConvertCoord(traj_dict['sat_time'], traj_dict['c1'], traj_dict['c2'], traj_dict['c3'],\n",
    "                                 input_coord, 'car', input_coord, 'sph')\n",
    "print(c1.min(), c1.max(), c2.min(), c2.max(), c3.min(), c3.max())"
   ]
  },
  {
   "cell_type": "code",
   "execution_count": 4,
   "id": "1fcb0b2c",
   "metadata": {},
   "outputs": [
    {
     "name": "stdout",
     "output_type": "stream",
     "text": [
      "\n",
      "The file directory contains the following standardized variable names:\n",
      "-----------------------------------------------------------------------------------\n",
      "rho_N2 : '['mass density of molecular nitrogen', 13, 'GDZ', 'sph', ['time', 'lon', 'lat', 'height'], 'kg/m**3']'\n",
      "rho_N2plus : '['mass density of molecular nitrogen ion', 14, 'GDZ', 'sph', ['time', 'lon', 'lat', 'height'], 'kg/m**3']'\n",
      "rho_NO : '['mass density of nitric oxide', 20, 'GDZ', 'sph', ['time', 'lon', 'lat', 'height'], 'kg/m**3']'\n",
      "rho_NOplus : '['mass density of nitric oxide ion', 21, 'GDZ', 'sph', ['time', 'lon', 'lat', 'height'], 'kg/m**3']'\n",
      "rho_O2 : '['mass density of molecular oxygen', 22, 'GDZ', 'sph', ['time', 'lon', 'lat', 'height'], 'kg/m**3']'\n",
      "rho_O2plus : '['mass density of molecular oxygen ion', 24, 'GDZ', 'sph', ['time', 'lon', 'lat', 'height'], 'kg/m**3']'\n",
      "rho_O3P : '['mass density of atomic oxygen (3P state)', 27, 'GDZ', 'sph', ['time', 'lon', 'lat', 'height'], 'kg/m**3']'\n",
      "rho_Oplus4S4P : '['mass density of atomic oxygen ion (4S or 4P state)', 28, 'GDZ', 'sph', ['time', 'lon', 'lat', 'height'], 'kg/m**3']'\n",
      "rho_n : '['neutral mass density', 30, 'GDZ', 'sph', ['time', 'lon', 'lat', 'height'], 'kg/m**3']'\n",
      "T_n : '['neutral temperature', 31, 'GDZ', 'sph', ['time', 'lon', 'lat', 'height'], 'K']'\n",
      "v_ieast : '['zonal ion wind velocity (east)', 32, 'GDZ', 'sph', ['time', 'lon', 'lat', 'height'], 'm/s']'\n",
      "v_inorth : '['meridional ion wind velocity (north)', 33, 'GDZ', 'sph', ['time', 'lon', 'lat', 'height'], 'm/s']'\n",
      "v_iup : '['vertical ion wind velocity (up)', 34, 'GDZ', 'sph', ['time', 'lon', 'lat', 'height'], 'm/s']'\n",
      "v_neast : '['zonal neutral wind velocity (east)', 35, 'GDZ', 'sph', ['time', 'lon', 'lat', 'height'], 'm/s']'\n",
      "v_nnorth : '['meridional neutral wind velocity (north)', 36, 'GDZ', 'sph', ['time', 'lon', 'lat', 'height'], 'm/s']'\n",
      "v_nup : '['vertical neutral wind velocity (up)', 37, 'GDZ', 'sph', ['time', 'lon', 'lat', 'height'], 'm/s']'\n",
      "SZA : '['solar zenith angle', 48, 'GDZ', 'sph', ['time', 'lon', 'lat'], 'radians']'\n",
      "SLT : '['solar local time', 63, 'GDZ', 'sph', ['time', 'lon', 'lat'], 'hr']'\n",
      "TEC : '['vertical total electron content (height integrated from bottom to top boundary)', 91, 'GDZ', 'sph', ['time', 'lon', 'lat'], '10**16/m**2']'\n"
     ]
    }
   ],
   "source": [
    "# Choose a variable from the model data chosen.\n",
    "MW.Variable_Search('', model, file_dir)"
   ]
  },
  {
   "cell_type": "code",
   "execution_count": 5,
   "id": "b2264669",
   "metadata": {
    "scrolled": false
   },
   "outputs": [
    {
     "data": {
      "text/plain": [
       "['Uses shifted copies of the satellite trajectory to reconstruct ',\n",
       " '    the model data for the variable name given.',\n",
       " '    ',\n",
       " \"    - model: 'CTIPe', 'IRI', 'GITM', 'SWMF_IE', 'TIEGCM'\",\n",
       " '    - variable_name = choose from list of standardized variable names from model chosen',\n",
       " '    - file_dir = file path to model data',\n",
       " '    - sat_time: a numpy array of the utc timestamps',\n",
       " '    - c1, c2, c3: numpy arrays of the positions correlating to the utc timestamps',\n",
       " '        (c1, c2, c3) should be (x,y,z) in R_E for cartesian coordinates, and (lon, lat, ',\n",
       " '        radius (R_E) or altitude (km)) for spherical coordinates. ',\n",
       " \"    - coord_type: one of 'GDZ', 'GEO', 'GSM', 'GSE', 'SM', 'GEI', 'MAG', 'SPH', 'RLL'\",\n",
       " \"    - coord_grid: either 'car' or 'sph'. Note that not all combinations \",\n",
       " \"        make sense (e.g. 'SPH' and 'car') and are not allowed.   \",\n",
       " '        Note that GDZ sph is the only coordinate system that assumes the third coordinate',\n",
       " '        is an altitude and is in km. All other spherical coordinate systems expect',\n",
       " '        a radius in R_E, and all cartesian coordinate systems expect x, y, z values',\n",
       " '        in R_E. All times should be in UTC timestamps.',\n",
       " '    - recon_option = string representing reconstruction and comparison method',\n",
       " \"        Choose from 'UnMod_AvgSlice','UnMod_AvgDSlice','AvgMod_AvgSlice',\",\n",
       " \"        'AvgMod_AvgDSlice', 'UnMod_OrbitSliceD', 'UnMod_OrbitSliceN', 'AvgMod_OrbitSliceD',\",\n",
       " \"        and 'AvgMod_OrbitSliceN'\",\n",
       " '        - UnMod means the satellite trajectory is not modified',\n",
       " '        - AvgMod means the dimensions not reconstructed are replaced with either ',\n",
       " '          the average value of the original and offset satellite trajectories or',\n",
       " '          the value given in the xx_avg keywords.',\n",
       " '        - AvgSlice means recon is compared with a slice at the average dimensions ',\n",
       " '          not reconstructed, again using either the average or the given value ',\n",
       " '          in the xx_avg keywords.',\n",
       " '        - AvgDSlice means recon is compared with an average of all the slices ',\n",
       " '          in the range of the dimensions not reconstructed. Weighted averages',\n",
       " '          are not supported.',\n",
       " '        - OrbitSlice means the model data is retrieved along all trajectories ',\n",
       " '          in the given constellation instead of along a given dimensional average.',\n",
       " '          The OrbitSlice option is what an inifite number of satellites would',\n",
       " '          see if positioned along the trajectory with time offsets t+dt, where',\n",
       " '          dt is the difference in time between satellites along the orbit. For ',\n",
       " '          computation purposes, the user may enter the value of dt in seconds ',\n",
       " '          in the input line or use the default of 60 seconds. The trajectories',\n",
       " '          are split into orbits, defined as where the latitude differential ',\n",
       " '          changes from positive to negative, and then extracted from the model',\n",
       " \"          for the calculated time grid. The 'D' and 'N' variations are for\",\n",
       " '          retrieving only the day or night portions of the orbit rather than ',\n",
       " '          the entire orbit to avoid averaging data of different natures. Whether',\n",
       " '          a given time+spatial coordinate is on the day or night side is ',\n",
       " '          determined by converting the time+spatial coordinates of the orbit slices',\n",
       " '          into GSE spherical coordinates and filtering based on longitude.',\n",
       " '          The longitude logic compensates to keep equatorial crossing in GSE',\n",
       " '          at the same MLT as the original set.',\n",
       " '          NOTE: Orbital slicing may not produce the desired result in cartesian ',\n",
       " '          coordinates.',\n",
       " '    - recon_dims = string representing choice of dimensions to use in reconstruction',\n",
       " \"        'tc1','tc2','tc3','c1c2','c1c3','c2c3' are the options. \",\n",
       " '        The first name is the x-axis, and the second name is the y-axis.',\n",
       " '    - time_offsets: a list of time offsets in seconds to be applied to the trajectories (in s)',\n",
       " '    - c1_offsets: a list of offsets to be applied to the c1 coordinate in the trajectory',\n",
       " '        in the same units indicated by the coordinate system options',\n",
       " '    - c2_offsets: a list of offsets to be applied to the c2 coordinate in the trajectory',\n",
       " '        in the same units indicated by the coordinate system options',\n",
       " '    - c3_offsets: a list of offsets to be applied to the c3 coordinate in the trajectory',\n",
       " '        in the same units indicated by the coordinate system options',\n",
       " '    - the offset lists entered MUST BE THE SAME LENGTH or be equal to [0.], and',\n",
       " '        must be in the same coordinate system and units as the input coordinates.',\n",
       " '    - t_avg: the average time in UTC seconds used for when time is not a reconstructed',\n",
       " '        dimension and the recon_option chosen requires averaging. Default is',\n",
       " '        the average time of the entire set of input and offset trajectories.',\n",
       " '    - c1_avg: the average c1 value used for when c1 is not a reconstructed',\n",
       " '        dimension and the recon_option chosen requires averaging. Default is',\n",
       " '        the average c1 value of the entire set of input and offset trajectories.',\n",
       " '    - c2_avg: the average c2 value used for when c2 is not a reconstructed',\n",
       " '        dimension and the recon_option chosen requires averaging. Default is',\n",
       " '        the average c2 value of the entire set of input and offset trajectories.',\n",
       " '    - c3_avg: the average c3 value used for when c3 is not a reconstructed',\n",
       " '        dimension and the recon_option chosen requires averaging. Default is',\n",
       " '        the average c3 value of the entire set of input and offset trajectories.        ',\n",
       " '    - dx = grid resolution for the x axis in the same units as x, default of 2. ',\n",
       " '    - dy = grid resolution for the y axis in the same units as y, default of 2.',\n",
       " '    - d1 = grid resolution for the first non-reconstructed dimension. Only used',\n",
       " '        if _AvgDSlice options are chosen and if slicing in local time. Default=0.',\n",
       " '    - d2 = grid resolution for the second non-reconstructed dimension. Only used',\n",
       " '        if _AvgDSlice options are chosen. Default=0.',\n",
       " '    - dt = time resolution of sampling for orbit slicing option. Default=60 s.',\n",
       " \"    - run_option = one of 'all' or 'flythrough'. Default is all.\",\n",
       " '    Note: The dx and dy values are assumed to be in the units of the associated ',\n",
       " '        coordinate indicated by the coordinate options (s, R_E, deg, or km).',\n",
       " '    Note: When reconstructing in two spatial cartesian coordinates ',\n",
       " '        (e.g. xy, yz, or xz), filter the input satellite trajectory to only ',\n",
       " '        include times where the third spatial dimension inputs are either ',\n",
       " '        positive OR negative values to avoid a combined reconstruction of both ',\n",
       " '        hemispheres in the same plots. For example, if you wish to perform a',\n",
       " '        reconstruction of the x and y dimensions in spatial coordinates for',\n",
       " '        the North Pole, then filter the satellite trajectory to only include',\n",
       " '        times where the z dimension is positive. Similarly, reconstructions of',\n",
       " '        the South Pole can be performed by simply filtering out the times where',\n",
       " '        the z dimension is positive. This filtering is not needed when time is',\n",
       " '        one of the reconstructed dimensions, but it can be done if desired.',\n",
       " '        Example: ',\n",
       " '            import numpy as np',\n",
       " \"            pos_idx = np.where(results['c3']>0.)[0]  #North Pole is z>0.\",\n",
       " \"            time = results['utc_time'][pos_idx]\",\n",
       " \"            c1 = results['c1'][pos_idx]\",\n",
       " \"            c2 = results['c2'][pos_idx]\",\n",
       " \"            c3 = results['c3'][pos_idx]\",\n",
       " '    Cartesian note: For cartesian reconstructions of nearly spherical ',\n",
       " \"        trajectories, 'Unmod_AvgDSlice' option is recommended to avoid reconstructing\",\n",
       " '        a ring of data around the Earth. Reconstructions will be better achieved',\n",
       " '        in spherical coordinates for these scenarios. To easily switch between',\n",
       " '        coordinate systems, from GSE cartesian to GEO spherical, for example:',\n",
       " '            from kamodo_ccmc.flythrough.utils import ConvertCoord',\n",
       " '            lon, lat, radius, units = ConvertCoord(utc_time,x,y,z,',\n",
       " \"                          'GSE','car','GEO','sph')\",\n",
       " '        See the relevant flythrough example notebook for more details on this function.',\n",
       " '    ']"
      ]
     },
     "execution_count": 5,
     "metadata": {},
     "output_type": "execute_result"
    }
   ],
   "source": [
    "# Bring up documentation for the reconstruction functionality.\n",
    "from kamodo_ccmc.flythrough.Reconstruction_v0 import RECON\n",
    "RECON.__doc__.split('\\n')"
   ]
  },
  {
   "cell_type": "code",
   "execution_count": 6,
   "id": "honey-geography",
   "metadata": {},
   "outputs": [],
   "source": [
    "# Choose inputs.\n",
    "variable_name = 'rho_n'  # from chosen files above\n",
    "recon_dimensions = 'c1c2'  # Longitude vs Latitude reconstruction for spherical coordinates\n",
    "recon_option = 'UnMod_AvgDSlice'\n",
    "# fly the given trajectory through the data unmodified, then fly the reconstructed coordinate grid through the data\n",
    "# after taking the average of t and height.\n",
    "\n",
    "# Set up constellation input:\n",
    "lon_offsets = [0., 30., 60., 90., 120., 150.]  # 6 satellites equally spaced in longitude\n",
    "\n",
    "# Choose the grid resolution of reconstruction. The finer the resolution, the longer the program takes to run and \n",
    "#   the more 'holes' you will see in the reconstructed plot. Physically, these should be set to the instrument's \n",
    "#   field of view in the units of the input coordinate system (e.g. degrees for longitude and latitude, seconds for\n",
    "#   time, etc).\n",
    "dx, dy = 5., 5.  # Since recon_dimensions='c1c2', dx is resolution in longitude, and dy is the resolution in latitude.\n",
    "d1, d2 = 1800., 0.001  # time (in s) and height (in R_E) resolution of sampling for averaging"
   ]
  },
  {
   "cell_type": "markdown",
   "id": "aeb4d3b0",
   "metadata": {},
   "source": [
    "## Execution"
   ]
  },
  {
   "cell_type": "code",
   "execution_count": 7,
   "id": "august-senator",
   "metadata": {},
   "outputs": [
    {
     "name": "stdout",
     "output_type": "stream",
     "text": [
      "Performing satellite constellation flythrough for 2160 locations...\n",
      "Time slice index 0 added from file.\n",
      "Time slice index 1 added from file.\n",
      "Time slice index 2 added from file.\n",
      "Time slice index 3 added from file.\n",
      "Time slice index 4 added from file.\n",
      "Time slice index 5 added from file.\n",
      "Time slice index 6 added from file.\n",
      "Time slice index 7 added from file.\n",
      "Time slice index 8 added from file.\n",
      "Time slice index 9 added from file.\n",
      "Time slice index 10 added from file.\n",
      "Time slice index 11 added from file.\n",
      "Time slice index 12 added from file.\n",
      "Time slice index 13 added from file.\n",
      "Time slice index 14 added from file.\n",
      "Time slice index 15 added from file.\n",
      "Time slice index 16 added from file.\n",
      "Time slice index 17 added from file.\n",
      "Time slice index 18 added from file.\n"
     ]
    },
    {
     "name": "stderr",
     "output_type": "stream",
     "text": [
      "C:\\Users\\rringuet\\Anaconda3\\envs\\Kamodo_Jan2023\\lib\\site-packages\\scipy\\interpolate\\interpolate.py:630: RuntimeWarning: divide by zero encountered in true_divide\n",
      "  slope = (y_hi - y_lo) / (x_hi - x_lo)[:, None]\n",
      "C:\\Users\\rringuet\\Anaconda3\\envs\\Kamodo_Jan2023\\lib\\site-packages\\scipy\\interpolate\\interpolate.py:633: RuntimeWarning: invalid value encountered in multiply\n",
      "  y_new = slope*(x_new - x_lo)[:, None] + y_lo\n"
     ]
    },
    {
     "name": "stdout",
     "output_type": "stream",
     "text": [
      "Time slice index 19 added from file.\n",
      "Time slice index 20 added from file.\n",
      "Time slice index 21 added from file.\n",
      "Time slice index 22 added from file.\n",
      "Time slice index 23 added from file.\n",
      "Time slice index 24 added from file.\n",
      "Time slice index 25 added from file.\n",
      "Time slice index 26 added from file.\n",
      "Time slice index 27 added from file.\n",
      "Time slice index 28 added from file.\n",
      "Time slice index 29 added from file.\n",
      "Time slice index 30 added from file.\n",
      "Time slice index 31 added from file.\n",
      "Time slice index 32 added from file.\n",
      "Time slice index 33 added from file.\n",
      "Time slice index 34 added from file.\n",
      "Time slice index 35 added from file.\n",
      "Time slice index 36 added from file.\n",
      "Time slice index 37 added from file.\n",
      "Gridding data for LonLat...done in 0.11941s for 2701 gridpoints.\n",
      "\n",
      "Performing non-averaged grid flythrough for 162060 locations.\n",
      "Converting 162060 positions into GDZsph coordinates...done in 18.9057 seconds.\n",
      "Time slice index 0 added from file.\n",
      "Time slice index 1 added from file.\n",
      "Time slice index 2 added from file.\n",
      "Time slice index 4 added from file.\n",
      "Time slice index 5 added from file.\n",
      "Time slice index 7 added from file.\n",
      "Time slice index 8 added from file.\n",
      "Time slice index 10 added from file.\n",
      "Time slice index 11 added from file.\n",
      "Time slice index 14 added from file.\n",
      "Time slice index 15 added from file.\n",
      "Time slice index 17 added from file.\n",
      "Time slice index 18 added from file.\n",
      "Time slice index 20 added from file.\n",
      "Time slice index 21 added from file.\n",
      "Time slice index 23 added from file.\n",
      "Time slice index 24 added from file.\n",
      "Time slice index 27 added from file.\n",
      "Time slice index 28 added from file.\n",
      "Time slice index 30 added from file.\n",
      "Time slice index 31 added from file.\n",
      "Time slice index 33 added from file.\n",
      "Time slice index 34 added from file.\n",
      "Time slice index 36 added from file.\n",
      "Time slice index 37 added from file.\n",
      "Grid flythrough completed in 36.82967 s.\n",
      "Reconstruction program complete in 39.31747 s.\n"
     ]
    }
   ],
   "source": [
    "# Run the reconstruction.\n",
    "# This process typically takes up to a few minutes, but can take up to ~2 hours or more depending on the amount of data \n",
    "#  used, the grid resolution chosen, the reconstruction method chosen, and whether conversion to pressure level is \n",
    "#  required. As originally set, the process takes about 360 seconds.\n",
    "# Make sure to include all desired offsets in this block before executing.\n",
    "\n",
    "recon = RECON(model, variable_name, file_dir, traj_dict['sat_time'], c1, c2, c3,\n",
    "              input_coord, 'sph', recon_option, recon_dimensions, c1_offsets=lon_offsets, dx=dx, dy=dy, d1=d1, d2=d2)"
   ]
  },
  {
   "cell_type": "code",
   "execution_count": 8,
   "id": "macro-aspect",
   "metadata": {},
   "outputs": [
    {
     "data": {
      "text/latex": [
       "\\begin{equation}\\rho_{n}(Lon[deg],Lat[deg])[\\frac{kg}{m^{3}}] = \\lambda{\\left(Lon,Lat \\right)}\\end{equation} \\begin{equation}\\rho_{n model}(Lon[deg],Lat[deg])[\\frac{kg}{m^{3}}] = \\lambda{\\left(Lon,Lat \\right)}\\end{equation} \\begin{equation}\\operatorname{PercentDiff}(Lon[deg],Lat[deg]) = \\lambda{\\left(Lon,Lat \\right)}\\end{equation}"
      ],
      "text/plain": [
       "{rho_n(Lon, Lat): <function gridify.<locals>.decorator_gridify.<locals>.wrapped at 0x0000022841C1EEE8>, rho_n: <function gridify.<locals>.decorator_gridify.<locals>.wrapped at 0x0000022841C1EEE8>, rho_n_model(Lon, Lat): <function gridify.<locals>.decorator_gridify.<locals>.wrapped at 0x0000022841A7AB88>, rho_n_model: <function gridify.<locals>.decorator_gridify.<locals>.wrapped at 0x0000022841A7AB88>, PercentDiff(Lon, Lat): <function gridify.<locals>.decorator_gridify.<locals>.wrapped at 0x00000228421DB948>, PercentDiff: <function gridify.<locals>.decorator_gridify.<locals>.wrapped at 0x00000228421DB948>}"
      ]
     },
     "execution_count": 8,
     "metadata": {},
     "output_type": "execute_result"
    }
   ],
   "source": [
    "# The output of the function is a Kamodo object with all of the default features described in documentation.\n",
    "# rho_n is the reconstructed data from the constellation flythrough. rho_n_model is the data from the model in the \n",
    "#  method chosen. PercentDiff is the percent difference between the two, calculated using \n",
    "#  PercentDiff = (rho_n_model - rho_n)/rho_n_model*100.\n",
    "recon"
   ]
  },
  {
   "cell_type": "markdown",
   "id": "4ef55bc3",
   "metadata": {},
   "source": [
    "## Comparing the results"
   ]
  },
  {
   "cell_type": "markdown",
   "id": "7703f041",
   "metadata": {},
   "source": [
    "Nicer version of default Kamodo plot\n",
    "```py\n",
    "from kamodo_ccmc.tools.plotfunctions import toColor\n",
    "toColor(recon.plot(rho_n=dict(Lon=recon.x, Lat=recon.y)), colorscale='Viridis')\n",
    "```\n",
    "![Screenshot](Files/Constellation_rhon.png)"
   ]
  },
  {
   "cell_type": "markdown",
   "id": "4324ca0c",
   "metadata": {},
   "source": [
    "```py\n",
    "toColor(recon.plot(rho_n_model=dict(Lon=recon.x, Lat=recon.y)), colorscale=\"Viridis\")\n",
    "```\n",
    "![Screenshot](Files/Constellation_rhonmodel.png)"
   ]
  },
  {
   "cell_type": "markdown",
   "id": "72d805d4",
   "metadata": {},
   "source": [
    "Show the percent difference between the two. A percent difference of zero is an exact match. How well the reconstructed plot matches the model plot not only depends on the constellation arrangement, but also on the reconstruction method chosen. The 'AvgMod_...' options typically result in the better matches, but are not physically representative of what the constellation will 'see' in real data because the two non-reconstructed dimensions are ignored in the input satellite trajectory (e.g. an average value for both height and time are used instead of the full range for a Lon-Lat reconstruction). The unmodified options ('Unmod_...') are thus recommended as the more physical comparison because the full set of input trajectory values are used.\n",
    "```py\n",
    "toColor(recon.plot(PercentDiff=dict(Lon=recon.x, Lat=recon.y)), colorscale=\"Viridis\")\n",
    "```\n",
    "![Screenshot](Files/Constellation_PercentDiff.png)"
   ]
  },
  {
   "cell_type": "code",
   "execution_count": 12,
   "id": "adverse-sleeve",
   "metadata": {},
   "outputs": [
    {
     "data": {
      "text/plain": [
       "Text(0, 0.5, 'Frequency')"
      ]
     },
     "execution_count": 12,
     "metadata": {},
     "output_type": "execute_result"
    },
    {
     "data": {
      "image/png": "[encoded data removed]",
      "text/plain": [
       "<Figure size 640x480 with 1 Axes>"
      ]
     },
     "metadata": {},
     "output_type": "display_data"
    }
   ],
   "source": [
    "# Retrieve the percent difference data values and show in a histogram, ignoring NaN values.\n",
    "# Some extra logic is required to automatically enforce bins of width 2%\n",
    "import numpy as np\n",
    "import matplotlib.pyplot as plt\n",
    "\n",
    "pdiff_data = recon.PercentDiff()\n",
    "data_min, data_max = np.floor(np.nanmin(pdiff_data)), np.ceil(np.nanmax(pdiff_data))\n",
    "num_bins = int((data_max-data_min)/2.)\n",
    "if num_bins<5:\n",
    "    num_bins=20\n",
    "hist, edges, patches = plt.hist(np.ravel(pdiff_data), range=(data_min,data_max),bins=num_bins)\n",
    "plt.xlabel('Percent Difference')\n",
    "plt.ylabel('Frequency')"
   ]
  }
 ],
 "metadata": {
  "kernelspec": {
   "display_name": "Python 3 (ipykernel)",
   "language": "python",
   "name": "python3"
  },
  "language_info": {
   "codemirror_mode": {
    "name": "ipython",
    "version": 3
   },
   "file_extension": ".py",
   "mimetype": "text/x-python",
   "name": "python",
   "nbconvert_exporter": "python",
   "pygments_lexer": "ipython3",
   "version": "3.7.13"
  }
 },
 "nbformat": 4,
 "nbformat_minor": 5
}
