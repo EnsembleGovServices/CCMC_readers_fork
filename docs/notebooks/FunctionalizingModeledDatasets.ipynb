{
 "cells": [
  {
   "cell_type": "markdown",
   "metadata": {},
   "source": [
    "# Functionalizing a Modeled Dataset\n",
    "This section demonstrates the four syntax options for functionalizing a modeled dataset. For a list of model outputs currently supported by Kamodo, visit the 'Choosing a Model and Variable' section."
   ]
  },
  {
   "cell_type": "markdown",
   "metadata": {},
   "source": [
    "Important!\n",
    "- If you decide to add or remove data from the chosen file directory, you must remove the TIEGCM_list.txt and TIEGCM_times.txt files from the same directory and rerun the above command. The name changes with the model name (e.g. WACCMX_list.txt and WACCMX_times.txt for the WACCMX model, and so on)."
   ]
  },
  {
   "cell_type": "markdown",
   "metadata": {},
   "source": [
    "## Import the model-specific model reader object."
   ]
  },
  {
   "cell_type": "code",
   "execution_count": 2,
   "metadata": {},
   "outputs": [],
   "source": [
    "import kamodo_ccmc.flythrough.model_wrapper as MW\n",
    "file_dir = 'D:/GITM/jasoon_shim_071418_IT_1_tenth_oneday/'\n",
    "reader = MW.Model_Reader('GITM')"
   ]
  },
  {
   "cell_type": "code",
   "execution_count": 5,
   "metadata": {
    "scrolled": false
   },
   "outputs": [
    {
     "data": {
      "text/plain": [
       "['GITM model data reader.',\n",
       " '',\n",
       " '        Inputs:',\n",
       " '            file_dir: a string representing the file directory of the',\n",
       " '                model output data.',\n",
       " \"                Note: This reader 'walks' the entire dataset in the directory.\",\n",
       " '            variables_requested = a list of variable name strings chosen from',\n",
       " '                the model_varnames dictionary in this script, specifically the',\n",
       " '                first item in the list associated with a given key.',\n",
       " '                - If empty, the reader functionalizes all possible variables',\n",
       " '                    (default)',\n",
       " \"                - If 'all', the reader returns the model_varnames dictionary\",\n",
       " '                    above for only the variables present in the given files.',\n",
       " '            filetime = boolean (default = False)',\n",
       " '                - If False, the script fully executes.',\n",
       " '                - If True, the script only executes far enough to determine the',\n",
       " '                    time values associated with the chosen data.',\n",
       " '            printfiles = boolean (default = False)',\n",
       " '                - If False, the filenames associated with the data retrieved',\n",
       " '                    ARE NOT printed.',\n",
       " '                - If True, the filenames associated with the data retrieved ARE',\n",
       " '                    printed.',\n",
       " '            gridded_int = boolean (default = True)',\n",
       " '                - If True, the variables chosen are functionalized in both the',\n",
       " '                    standard method and a gridded method.',\n",
       " '                - If False, the variables chosen are functionalized in only the',\n",
       " '                    standard method.',\n",
       " '            verbose = boolean (False)',\n",
       " '                - If False, script execution and the underlying Kamodo',\n",
       " '                    execution is quiet except for specified messages.',\n",
       " '                - If True, be prepared for a plethora of messages.',\n",
       " '        All inputs are described in further detail in',\n",
       " '            KamodoOnboardingInstructions.pdf.',\n",
       " '',\n",
       " '        Returns: a kamodo object (see Kamodo core documentation) containing all',\n",
       " '            requested variables in functionalized form.',\n",
       " '        ']"
      ]
     },
     "execution_count": 5,
     "metadata": {},
     "output_type": "execute_result"
    }
   ],
   "source": [
    "# The documentation for all the readers is mostly the same.\n",
    "# Some have unique components based on the custom logic required in those cases.\n",
    "reader.__doc__.split('\\n')"
   ]
  },
  {
   "cell_type": "markdown",
   "metadata": {},
   "source": [
    "## Default functionalization method"
   ]
  },
  {
   "cell_type": "code",
   "execution_count": 3,
   "metadata": {
    "scrolled": false
   },
   "outputs": [
    {
     "data": {
      "text/latex": [
       "\\begin{equation}\\operatorname{SZA}{\\left(\\vec{r}_{GDZsph3D} \\right)}[radians] = \\lambda{\\left(\\vec{r}_{GDZsph3D} \\right)}\\end{equation} \\begin{equation}\\operatorname{SZA_{ijk}}(time[hr],lon[deg],lat[deg])[radians] = \\lambda{\\left(time,lon,lat \\right)}\\end{equation} \\begin{equation}\\operatorname{SLT}{\\left(\\vec{r}_{GDZsph3D} \\right)}[hr] = \\lambda{\\left(\\vec{r}_{GDZsph3D} \\right)}\\end{equation} \\begin{equation}\\operatorname{SLT_{ijk}}(time[hr],lon[deg],lat[deg])[hr] = \\lambda{\\left(time,lon,lat \\right)}\\end{equation} \\begin{equation}\\operatorname{TEC}{\\left(\\vec{r}_{GDZsph3D} \\right)}[\\frac{10000000000000000}{m^{2}}] = \\lambda{\\left(\\vec{r}_{GDZsph3D} \\right)}\\end{equation} \\begin{equation}\\operatorname{TEC_{ijk}}(time[hr],lon[deg],lat[deg])[\\frac{10000000000000000}{m^{2}}] = \\lambda{\\left(time,lon,lat \\right)}\\end{equation} \\begin{equation}\\rho_{N2}{\\left(\\vec{r}_{GDZsph4D} \\right)}[\\frac{kg}{m^{3}}] = \\lambda{\\left(\\vec{r}_{GDZsph4D} \\right)}\\end{equation} \\begin{equation}\\rho_{N2 ijk}(time[hr],lon[deg],lat[deg],height[km])[\\frac{kg}{m^{3}}] = \\lambda{\\left(time,lon,lat,height \\right)}\\end{equation} \\begin{equation}\\rho_{N2+}{\\left(\\vec{r}_{GDZsph4D} \\right)}[\\frac{kg}{m^{3}}] = \\lambda{\\left(\\vec{r}_{GDZsph4D} \\right)}\\end{equation} \\begin{equation}\\rho_{N2+ ijk}(time[hr],lon[deg],lat[deg],height[km])[\\frac{kg}{m^{3}}] = \\lambda{\\left(time,lon,lat,height \\right)}\\end{equation} \\begin{equation}\\rho_{NO}{\\left(\\vec{r}_{GDZsph4D} \\right)}[\\frac{kg}{m^{3}}] = \\lambda{\\left(\\vec{r}_{GDZsph4D} \\right)}\\end{equation} \\begin{equation}\\rho_{NO ijk}(time[hr],lon[deg],lat[deg],height[km])[\\frac{kg}{m^{3}}] = \\lambda{\\left(time,lon,lat,height \\right)}\\end{equation} \\begin{equation}\\rho_{NO+}{\\left(\\vec{r}_{GDZsph4D} \\right)}[\\frac{kg}{m^{3}}] = \\lambda{\\left(\\vec{r}_{GDZsph4D} \\right)}\\end{equation} \\begin{equation}\\rho_{NO+ ijk}(time[hr],lon[deg],lat[deg],height[km])[\\frac{kg}{m^{3}}] = \\lambda{\\left(time,lon,lat,height \\right)}\\end{equation} \\begin{equation}\\rho_{O2}{\\left(\\vec{r}_{GDZsph4D} \\right)}[\\frac{kg}{m^{3}}] = \\lambda{\\left(\\vec{r}_{GDZsph4D} \\right)}\\end{equation} \\begin{equation}\\rho_{O2 ijk}(time[hr],lon[deg],lat[deg],height[km])[\\frac{kg}{m^{3}}] = \\lambda{\\left(time,lon,lat,height \\right)}\\end{equation} \\begin{equation}\\rho_{O2+}{\\left(\\vec{r}_{GDZsph4D} \\right)}[\\frac{kg}{m^{3}}] = \\lambda{\\left(\\vec{r}_{GDZsph4D} \\right)}\\end{equation} \\begin{equation}\\rho_{O2+ ijk}(time[hr],lon[deg],lat[deg],height[km])[\\frac{kg}{m^{3}}] = \\lambda{\\left(time,lon,lat,height \\right)}\\end{equation} \\begin{equation}\\rho_{O3P}{\\left(\\vec{r}_{GDZsph4D} \\right)}[\\frac{kg}{m^{3}}] = \\lambda{\\left(\\vec{r}_{GDZsph4D} \\right)}\\end{equation} \\begin{equation}\\rho_{O3P ijk}(time[hr],lon[deg],lat[deg],height[km])[\\frac{kg}{m^{3}}] = \\lambda{\\left(time,lon,lat,height \\right)}\\end{equation} \\begin{equation}\\rho_{O+4S4P}{\\left(\\vec{r}_{GDZsph4D} \\right)}[\\frac{kg}{m^{3}}] = \\lambda{\\left(\\vec{r}_{GDZsph4D} \\right)}\\end{equation} \\begin{equation}\\rho_{O+4S4P ijk}(time[hr],lon[deg],lat[deg],height[km])[\\frac{kg}{m^{3}}] = \\lambda{\\left(time,lon,lat,height \\right)}\\end{equation} \\begin{equation}\\rho_{n}{\\left(\\vec{r}_{GDZsph4D} \\right)}[\\frac{kg}{m^{3}}] = \\lambda{\\left(\\vec{r}_{GDZsph4D} \\right)}\\end{equation} \\begin{equation}\\rho_{n ijk}(time[hr],lon[deg],lat[deg],height[km])[\\frac{kg}{m^{3}}] = \\lambda{\\left(time,lon,lat,height \\right)}\\end{equation} \\begin{equation}\\operatorname{T_{n}}{\\left(\\vec{r}_{GDZsph4D} \\right)}[K] = \\lambda{\\left(\\vec{r}_{GDZsph4D} \\right)}\\end{equation} \\begin{equation}\\operatorname{T_{n ijk}}(time[hr],lon[deg],lat[deg],height[km])[K] = \\lambda{\\left(time,lon,lat,height \\right)}\\end{equation} \\begin{equation}\\operatorname{v_{ieast}}{\\left(\\vec{r}_{GDZsph4D} \\right)}[m / s] = \\lambda{\\left(\\vec{r}_{GDZsph4D} \\right)}\\end{equation} \\begin{equation}\\operatorname{v_{ieast ijk}}(time[hr],lon[deg],lat[deg],height[km])[m / s] = \\lambda{\\left(time,lon,lat,height \\right)}\\end{equation} \\begin{equation}\\operatorname{v_{inorth}}{\\left(\\vec{r}_{GDZsph4D} \\right)}[m / s] = \\lambda{\\left(\\vec{r}_{GDZsph4D} \\right)}\\end{equation} \\begin{equation}\\operatorname{v_{inorth ijk}}(time[hr],lon[deg],lat[deg],height[km])[m / s] = \\lambda{\\left(time,lon,lat,height \\right)}\\end{equation} \\begin{equation}\\operatorname{v_{iup}}{\\left(\\vec{r}_{GDZsph4D} \\right)}[m / s] = \\lambda{\\left(\\vec{r}_{GDZsph4D} \\right)}\\end{equation} \\begin{equation}\\operatorname{v_{iup ijk}}(time[hr],lon[deg],lat[deg],height[km])[m / s] = \\lambda{\\left(time,lon,lat,height \\right)}\\end{equation} \\begin{equation}\\operatorname{v_{neast}}{\\left(\\vec{r}_{GDZsph4D} \\right)}[m / s] = \\lambda{\\left(\\vec{r}_{GDZsph4D} \\right)}\\end{equation} \\begin{equation}\\operatorname{v_{neast ijk}}(time[hr],lon[deg],lat[deg],height[km])[m / s] = \\lambda{\\left(time,lon,lat,height \\right)}\\end{equation} \\begin{equation}\\operatorname{v_{nnorth}}{\\left(\\vec{r}_{GDZsph4D} \\right)}[m / s] = \\lambda{\\left(\\vec{r}_{GDZsph4D} \\right)}\\end{equation} \\begin{equation}\\operatorname{v_{nnorth ijk}}(time[hr],lon[deg],lat[deg],height[km])[m / s] = \\lambda{\\left(time,lon,lat,height \\right)}\\end{equation} \\begin{equation}\\operatorname{v_{nup}}{\\left(\\vec{r}_{GDZsph4D} \\right)}[m / s] = \\lambda{\\left(\\vec{r}_{GDZsph4D} \\right)}\\end{equation} \\begin{equation}\\operatorname{v_{nup ijk}}(time[hr],lon[deg],lat[deg],height[km])[m / s] = \\lambda{\\left(time,lon,lat,height \\right)}\\end{equation}"
      ],
      "text/plain": [
       "{SZA(rvec_GDZsph3D): <function time_interp.<locals>.interp at 0x000002028E032318>, SZA: <function time_interp.<locals>.interp at 0x000002028E032318>, SZA_ijk(time, lon, lat): <function gridify.<locals>.decorator_gridify.<locals>.wrapped at 0x000002028E032708>, SZA_ijk: <function gridify.<locals>.decorator_gridify.<locals>.wrapped at 0x000002028E032708>, SLT(rvec_GDZsph3D): <function time_interp.<locals>.interp at 0x0000020285BD28B8>, SLT: <function time_interp.<locals>.interp at 0x0000020285BD28B8>, SLT_ijk(time, lon, lat): <function gridify.<locals>.decorator_gridify.<locals>.wrapped at 0x00000202872839D8>, SLT_ijk: <function gridify.<locals>.decorator_gridify.<locals>.wrapped at 0x00000202872839D8>, TEC(rvec_GDZsph3D): <function time_interp.<locals>.interp at 0x000002028E1E5318>, TEC: <function time_interp.<locals>.interp at 0x000002028E1E5318>, TEC_ijk(time, lon, lat): <function gridify.<locals>.decorator_gridify.<locals>.wrapped at 0x000002028E1E5558>, TEC_ijk: <function gridify.<locals>.decorator_gridify.<locals>.wrapped at 0x000002028E1E5558>, rho_N2(rvec_GDZsph4D): <function time_interp.<locals>.interp at 0x000002028E1E5F78>, rho_N2: <function time_interp.<locals>.interp at 0x000002028E1E5F78>, rho_N2_ijk(time, lon, lat, height): <function gridify.<locals>.decorator_gridify.<locals>.wrapped at 0x000002028E1B7288>, rho_N2_ijk: <function gridify.<locals>.decorator_gridify.<locals>.wrapped at 0x000002028E1B7288>, rho_N2plus(rvec_GDZsph4D): <function time_interp.<locals>.interp at 0x000002028E1B7DC8>, rho_N2plus: <function time_interp.<locals>.interp at 0x000002028E1B7DC8>, rho_N2plus_ijk(time, lon, lat, height): <function gridify.<locals>.decorator_gridify.<locals>.wrapped at 0x000002028E1F1048>, rho_N2plus_ijk: <function gridify.<locals>.decorator_gridify.<locals>.wrapped at 0x000002028E1F1048>, rho_NO(rvec_GDZsph4D): <function time_interp.<locals>.interp at 0x000002028E1F19D8>, rho_NO: <function time_interp.<locals>.interp at 0x000002028E1F19D8>, rho_NO_ijk(time, lon, lat, height): <function gridify.<locals>.decorator_gridify.<locals>.wrapped at 0x000002028E1F1C18>, rho_NO_ijk: <function gridify.<locals>.decorator_gridify.<locals>.wrapped at 0x000002028E1F1C18>, rho_NOplus(rvec_GDZsph4D): <function time_interp.<locals>.interp at 0x000002028E04D678>, rho_NOplus: <function time_interp.<locals>.interp at 0x000002028E04D678>, rho_NOplus_ijk(time, lon, lat, height): <function gridify.<locals>.decorator_gridify.<locals>.wrapped at 0x000002028E04D828>, rho_NOplus_ijk: <function gridify.<locals>.decorator_gridify.<locals>.wrapped at 0x000002028E04D828>, rho_O2(rvec_GDZsph4D): <function time_interp.<locals>.interp at 0x000002028E1EC318>, rho_O2: <function time_interp.<locals>.interp at 0x000002028E1EC318>, rho_O2_ijk(time, lon, lat, height): <function gridify.<locals>.decorator_gridify.<locals>.wrapped at 0x000002028E1EC558>, rho_O2_ijk: <function gridify.<locals>.decorator_gridify.<locals>.wrapped at 0x000002028E1EC558>, rho_O2plus(rvec_GDZsph4D): <function time_interp.<locals>.interp at 0x000002028E1ECF78>, rho_O2plus: <function time_interp.<locals>.interp at 0x000002028E1ECF78>, rho_O2plus_ijk(time, lon, lat, height): <function gridify.<locals>.decorator_gridify.<locals>.wrapped at 0x000002028E1EB1F8>, rho_O2plus_ijk: <function gridify.<locals>.decorator_gridify.<locals>.wrapped at 0x000002028E1EB1F8>, rho_O3P(rvec_GDZsph4D): <function time_interp.<locals>.interp at 0x000002028E1EBC18>, rho_O3P: <function time_interp.<locals>.interp at 0x000002028E1EBC18>, rho_O3P_ijk(time, lon, lat, height): <function gridify.<locals>.decorator_gridify.<locals>.wrapped at 0x000002028E1EBDC8>, rho_O3P_ijk: <function gridify.<locals>.decorator_gridify.<locals>.wrapped at 0x000002028E1EBDC8>, rho_Oplus4S4P(rvec_GDZsph4D): <function time_interp.<locals>.interp at 0x000002028E2058B8>, rho_Oplus4S4P: <function time_interp.<locals>.interp at 0x000002028E2058B8>, rho_Oplus4S4P_ijk(time, lon, lat, height): <function gridify.<locals>.decorator_gridify.<locals>.wrapped at 0x000002028E205A68>, rho_Oplus4S4P_ijk: <function gridify.<locals>.decorator_gridify.<locals>.wrapped at 0x000002028E205A68>, rho_n(rvec_GDZsph4D): <function time_interp.<locals>.interp at 0x000002028E206558>, rho_n: <function time_interp.<locals>.interp at 0x000002028E206558>, rho_n_ijk(time, lon, lat, height): <function gridify.<locals>.decorator_gridify.<locals>.wrapped at 0x000002028E206798>, rho_n_ijk: <function gridify.<locals>.decorator_gridify.<locals>.wrapped at 0x000002028E206798>, T_n(rvec_GDZsph4D): <function time_interp.<locals>.interp at 0x000002028E1D21F8>, T_n: <function time_interp.<locals>.interp at 0x000002028E1D21F8>, T_n_ijk(time, lon, lat, height): <function gridify.<locals>.decorator_gridify.<locals>.wrapped at 0x000002028E1D2438>, T_n_ijk: <function gridify.<locals>.decorator_gridify.<locals>.wrapped at 0x000002028E1D2438>, v_ieast(rvec_GDZsph4D): <function time_interp.<locals>.interp at 0x000002028E1D2E58>, v_ieast: <function time_interp.<locals>.interp at 0x000002028E1D2E58>, v_ieast_ijk(time, lon, lat, height): <function gridify.<locals>.decorator_gridify.<locals>.wrapped at 0x000002028E2251F8>, v_ieast_ijk: <function gridify.<locals>.decorator_gridify.<locals>.wrapped at 0x000002028E2251F8>, v_inorth(rvec_GDZsph4D): <function time_interp.<locals>.interp at 0x000002028E225AF8>, v_inorth: <function time_interp.<locals>.interp at 0x000002028E225AF8>, v_inorth_ijk(time, lon, lat, height): <function gridify.<locals>.decorator_gridify.<locals>.wrapped at 0x000002028E225CA8>, v_inorth_ijk: <function gridify.<locals>.decorator_gridify.<locals>.wrapped at 0x000002028E225CA8>, v_iup(rvec_GDZsph4D): <function time_interp.<locals>.interp at 0x000002028E22A798>, v_iup: <function time_interp.<locals>.interp at 0x000002028E22A798>, v_iup_ijk(time, lon, lat, height): <function gridify.<locals>.decorator_gridify.<locals>.wrapped at 0x000002028E22A948>, v_iup_ijk: <function gridify.<locals>.decorator_gridify.<locals>.wrapped at 0x000002028E22A948>, v_neast(rvec_GDZsph4D): <function time_interp.<locals>.interp at 0x000002028E221438>, v_neast: <function time_interp.<locals>.interp at 0x000002028E221438>, v_neast_ijk(time, lon, lat, height): <function gridify.<locals>.decorator_gridify.<locals>.wrapped at 0x000002028E221678>, v_neast_ijk: <function gridify.<locals>.decorator_gridify.<locals>.wrapped at 0x000002028E221678>, v_nnorth(rvec_GDZsph4D): <function time_interp.<locals>.interp at 0x000002028E22C0D8>, v_nnorth: <function time_interp.<locals>.interp at 0x000002028E22C0D8>, v_nnorth_ijk(time, lon, lat, height): <function gridify.<locals>.decorator_gridify.<locals>.wrapped at 0x000002028E22C318>, v_nnorth_ijk: <function gridify.<locals>.decorator_gridify.<locals>.wrapped at 0x000002028E22C318>, v_nup(rvec_GDZsph4D): <function time_interp.<locals>.interp at 0x000002028E22CD38>, v_nup: <function time_interp.<locals>.interp at 0x000002028E22CD38>, v_nup_ijk(time, lon, lat, height): <function gridify.<locals>.decorator_gridify.<locals>.wrapped at 0x000002028E246048>, v_nup_ijk: <function gridify.<locals>.decorator_gridify.<locals>.wrapped at 0x000002028E246048>}"
      ]
     },
     "execution_count": 3,
     "metadata": {},
     "output_type": "execute_result"
    }
   ],
   "source": [
    "# This default function call functionalizes all the variables in the data,\n",
    "# including gridded versions for visualization.\n",
    "# TIEGCM has a data type error due to a file creation error.\n",
    "kamodo_object_default = reader(file_dir)  # (gridded_int=True is default)\n",
    "kamodo_object_default"
   ]
  },
  {
   "cell_type": "markdown",
   "metadata": {},
   "source": [
    "## Functionalization method 1\n",
    "Functionalize all variables, excluding the gridded versions."
   ]
  },
  {
   "cell_type": "code",
   "execution_count": 4,
   "metadata": {},
   "outputs": [
    {
     "data": {
      "text/latex": [
       "\\begin{equation}\\operatorname{SZA}{\\left(\\vec{r}_{GDZsph3D} \\right)}[radians] = \\lambda{\\left(\\vec{r}_{GDZsph3D} \\right)}\\end{equation} \\begin{equation}\\operatorname{SLT}{\\left(\\vec{r}_{GDZsph3D} \\right)}[hr] = \\lambda{\\left(\\vec{r}_{GDZsph3D} \\right)}\\end{equation} \\begin{equation}\\operatorname{TEC}{\\left(\\vec{r}_{GDZsph3D} \\right)}[\\frac{10000000000000000}{m^{2}}] = \\lambda{\\left(\\vec{r}_{GDZsph3D} \\right)}\\end{equation} \\begin{equation}\\rho_{N2}{\\left(\\vec{r}_{GDZsph4D} \\right)}[\\frac{kg}{m^{3}}] = \\lambda{\\left(\\vec{r}_{GDZsph4D} \\right)}\\end{equation} \\begin{equation}\\rho_{N2+}{\\left(\\vec{r}_{GDZsph4D} \\right)}[\\frac{kg}{m^{3}}] = \\lambda{\\left(\\vec{r}_{GDZsph4D} \\right)}\\end{equation} \\begin{equation}\\rho_{NO}{\\left(\\vec{r}_{GDZsph4D} \\right)}[\\frac{kg}{m^{3}}] = \\lambda{\\left(\\vec{r}_{GDZsph4D} \\right)}\\end{equation} \\begin{equation}\\rho_{NO+}{\\left(\\vec{r}_{GDZsph4D} \\right)}[\\frac{kg}{m^{3}}] = \\lambda{\\left(\\vec{r}_{GDZsph4D} \\right)}\\end{equation} \\begin{equation}\\rho_{O2}{\\left(\\vec{r}_{GDZsph4D} \\right)}[\\frac{kg}{m^{3}}] = \\lambda{\\left(\\vec{r}_{GDZsph4D} \\right)}\\end{equation} \\begin{equation}\\rho_{O2+}{\\left(\\vec{r}_{GDZsph4D} \\right)}[\\frac{kg}{m^{3}}] = \\lambda{\\left(\\vec{r}_{GDZsph4D} \\right)}\\end{equation} \\begin{equation}\\rho_{O3P}{\\left(\\vec{r}_{GDZsph4D} \\right)}[\\frac{kg}{m^{3}}] = \\lambda{\\left(\\vec{r}_{GDZsph4D} \\right)}\\end{equation} \\begin{equation}\\rho_{O+4S4P}{\\left(\\vec{r}_{GDZsph4D} \\right)}[\\frac{kg}{m^{3}}] = \\lambda{\\left(\\vec{r}_{GDZsph4D} \\right)}\\end{equation} \\begin{equation}\\rho_{n}{\\left(\\vec{r}_{GDZsph4D} \\right)}[\\frac{kg}{m^{3}}] = \\lambda{\\left(\\vec{r}_{GDZsph4D} \\right)}\\end{equation} \\begin{equation}\\operatorname{T_{n}}{\\left(\\vec{r}_{GDZsph4D} \\right)}[K] = \\lambda{\\left(\\vec{r}_{GDZsph4D} \\right)}\\end{equation} \\begin{equation}\\operatorname{v_{ieast}}{\\left(\\vec{r}_{GDZsph4D} \\right)}[m / s] = \\lambda{\\left(\\vec{r}_{GDZsph4D} \\right)}\\end{equation} \\begin{equation}\\operatorname{v_{inorth}}{\\left(\\vec{r}_{GDZsph4D} \\right)}[m / s] = \\lambda{\\left(\\vec{r}_{GDZsph4D} \\right)}\\end{equation} \\begin{equation}\\operatorname{v_{iup}}{\\left(\\vec{r}_{GDZsph4D} \\right)}[m / s] = \\lambda{\\left(\\vec{r}_{GDZsph4D} \\right)}\\end{equation} \\begin{equation}\\operatorname{v_{neast}}{\\left(\\vec{r}_{GDZsph4D} \\right)}[m / s] = \\lambda{\\left(\\vec{r}_{GDZsph4D} \\right)}\\end{equation} \\begin{equation}\\operatorname{v_{nnorth}}{\\left(\\vec{r}_{GDZsph4D} \\right)}[m / s] = \\lambda{\\left(\\vec{r}_{GDZsph4D} \\right)}\\end{equation} \\begin{equation}\\operatorname{v_{nup}}{\\left(\\vec{r}_{GDZsph4D} \\right)}[m / s] = \\lambda{\\left(\\vec{r}_{GDZsph4D} \\right)}\\end{equation}"
      ],
      "text/plain": [
       "{SZA(rvec_GDZsph3D): <function time_interp.<locals>.interp at 0x000002028E2598B8>, SZA: <function time_interp.<locals>.interp at 0x000002028E2598B8>, SLT(rvec_GDZsph3D): <function time_interp.<locals>.interp at 0x000002028E259F78>, SLT: <function time_interp.<locals>.interp at 0x000002028E259F78>, TEC(rvec_GDZsph3D): <function time_interp.<locals>.interp at 0x000002028E2935E8>, TEC: <function time_interp.<locals>.interp at 0x000002028E2935E8>, rho_N2(rvec_GDZsph4D): <function time_interp.<locals>.interp at 0x000002028E293B88>, rho_N2: <function time_interp.<locals>.interp at 0x000002028E293B88>, rho_N2plus(rvec_GDZsph4D): <function time_interp.<locals>.interp at 0x000002028E2551F8>, rho_N2plus: <function time_interp.<locals>.interp at 0x000002028E2551F8>, rho_NO(rvec_GDZsph4D): <function time_interp.<locals>.interp at 0x000002028E255828>, rho_NO: <function time_interp.<locals>.interp at 0x000002028E255828>, rho_NOplus(rvec_GDZsph4D): <function time_interp.<locals>.interp at 0x000002028E255E58>, rho_NOplus: <function time_interp.<locals>.interp at 0x000002028E255E58>, rho_O2(rvec_GDZsph4D): <function time_interp.<locals>.interp at 0x000002028E2434C8>, rho_O2: <function time_interp.<locals>.interp at 0x000002028E2434C8>, rho_O2plus(rvec_GDZsph4D): <function time_interp.<locals>.interp at 0x000002028E243AF8>, rho_O2plus: <function time_interp.<locals>.interp at 0x000002028E243AF8>, rho_O3P(rvec_GDZsph4D): <function time_interp.<locals>.interp at 0x000002028E21F168>, rho_O3P: <function time_interp.<locals>.interp at 0x000002028E21F168>, rho_Oplus4S4P(rvec_GDZsph4D): <function time_interp.<locals>.interp at 0x000002028E21F798>, rho_Oplus4S4P: <function time_interp.<locals>.interp at 0x000002028E21F798>, rho_n(rvec_GDZsph4D): <function time_interp.<locals>.interp at 0x000002028E21FDC8>, rho_n: <function time_interp.<locals>.interp at 0x000002028E21FDC8>, T_n(rvec_GDZsph4D): <function time_interp.<locals>.interp at 0x000002028E27B438>, T_n: <function time_interp.<locals>.interp at 0x000002028E27B438>, v_ieast(rvec_GDZsph4D): <function time_interp.<locals>.interp at 0x000002028E27BA68>, v_ieast: <function time_interp.<locals>.interp at 0x000002028E27BA68>, v_inorth(rvec_GDZsph4D): <function time_interp.<locals>.interp at 0x000002028E29B0D8>, v_inorth: <function time_interp.<locals>.interp at 0x000002028E29B0D8>, v_iup(rvec_GDZsph4D): <function time_interp.<locals>.interp at 0x000002028E29B708>, v_iup: <function time_interp.<locals>.interp at 0x000002028E29B708>, v_neast(rvec_GDZsph4D): <function time_interp.<locals>.interp at 0x000002028E29BD38>, v_neast: <function time_interp.<locals>.interp at 0x000002028E29BD38>, v_nnorth(rvec_GDZsph4D): <function time_interp.<locals>.interp at 0x000002028E28D3A8>, v_nnorth: <function time_interp.<locals>.interp at 0x000002028E28D3A8>, v_nup(rvec_GDZsph4D): <function time_interp.<locals>.interp at 0x000002028E28D9D8>, v_nup: <function time_interp.<locals>.interp at 0x000002028E28D9D8>}"
      ]
     },
     "execution_count": 4,
     "metadata": {},
     "output_type": "execute_result"
    }
   ],
   "source": [
    "kamodo_object_1 = reader(file_dir, gridded_int=False)\n",
    "kamodo_object_1"
   ]
  },
  {
   "cell_type": "markdown",
   "metadata": {},
   "source": [
    "## Functionalization method 2\n",
    "Load a single or multiple variables with the gridded versions.\n",
    "\n",
    "Note:\n",
    "- Requesting variables that are NOT in the list above triggers a printed message: '... name not recognized'.\n",
    "- Requesting variables that ARE in the list above but not in the file triggers a printed message: '...not available'."
   ]
  },
  {
   "cell_type": "code",
   "execution_count": 5,
   "metadata": {},
   "outputs": [
    {
     "name": "stdout",
     "output_type": "stream",
     "text": [
      "Some requested variables are not available in the files found:\n",
      " dict_keys(['2DANC', '3DLST']) ['T_i']\n"
     ]
    },
    {
     "data": {
      "text/latex": [
       "\\begin{equation}\\operatorname{T_{n}}{\\left(\\vec{r}_{GDZsph4D} \\right)}[K] = \\lambda{\\left(\\vec{r}_{GDZsph4D} \\right)}\\end{equation} \\begin{equation}\\operatorname{T_{n ijk}}(time[hr],lon[deg],lat[deg],height[km])[K] = \\lambda{\\left(time,lon,lat,height \\right)}\\end{equation}"
      ],
      "text/plain": [
       "{T_n(rvec_GDZsph4D): <function time_interp.<locals>.interp at 0x000002028E284558>, T_n: <function time_interp.<locals>.interp at 0x000002028E284558>, T_n_ijk(time, lon, lat, height): <function gridify.<locals>.decorator_gridify.<locals>.wrapped at 0x000002028E284798>, T_n_ijk: <function gridify.<locals>.decorator_gridify.<locals>.wrapped at 0x000002028E284798>}"
      ]
     },
     "execution_count": 5,
     "metadata": {},
     "output_type": "execute_result"
    }
   ],
   "source": [
    "# This is the most common method to functionalize the desired data.\n",
    "kamodo_object_2 = reader(file_dir, variables_requested=['T_n', 'T_i'])\n",
    "kamodo_object_2"
   ]
  },
  {
   "cell_type": "markdown",
   "metadata": {},
   "source": [
    "## Functionalization method 3\n",
    "Load a single or multiple variables without the gridded version(s)."
   ]
  },
  {
   "cell_type": "code",
   "execution_count": 6,
   "metadata": {},
   "outputs": [
    {
     "name": "stdout",
     "output_type": "stream",
     "text": [
      "Some requested variables are not available in the files found:\n",
      " dict_keys(['2DANC', '3DLST']) ['T_i']\n"
     ]
    },
    {
     "data": {
      "text/latex": [
       "\\begin{equation}\\operatorname{T_{n}}{\\left(\\vec{r}_{GDZsph4D} \\right)}[K] = \\lambda{\\left(\\vec{r}_{GDZsph4D} \\right)}\\end{equation}"
      ],
      "text/plain": [
       "{T_n(rvec_GDZsph4D): <function time_interp.<locals>.interp at 0x000002028E2B8678>, T_n: <function time_interp.<locals>.interp at 0x000002028E2B8678>}"
      ]
     },
     "execution_count": 6,
     "metadata": {},
     "output_type": "execute_result"
    }
   ],
   "source": [
    "# This is what is used in Kamodo's flythrough.\n",
    "kamodo_object_3 = reader(file_dir, variables_requested=['T_n', 'T_i'], gridded_int=False)\n",
    "kamodo_object_3"
   ]
  },
  {
   "cell_type": "markdown",
   "metadata": {},
   "source": [
    "## Interacting with a kamodo object"
   ]
  },
  {
   "cell_type": "code",
   "execution_count": 7,
   "metadata": {},
   "outputs": [
    {
     "data": {
      "text/plain": [
       "datetime.datetime(2015, 3, 17, 0, 0, tzinfo=datetime.timezone.utc)"
      ]
     },
     "execution_count": 7,
     "metadata": {},
     "output_type": "execute_result"
    }
   ],
   "source": [
    "# Show the datetime object for midnight of the first day of the dataset.\n",
    "kamodo_object_default.filedate"
   ]
  },
  {
   "cell_type": "code",
   "execution_count": 8,
   "metadata": {},
   "outputs": [
    {
     "name": "stdout",
     "output_type": "stream",
     "text": [
      "The minimum and maximum values for each variable and coordinate are:\n",
      "T_n:\n",
      "time: [0.0, 23.83333396911621, 'hr']\n",
      "lon: [-180.0, 180.0, 'deg']\n",
      "lat: [-90.0, 90.0, 'deg']\n",
      "height: [96.62001037597656, 640.3912963867188, 'km']\n",
      "\n",
      "T_n_ijk:\n",
      "time: [0.0, 23.833334, 'hr']\n",
      "lon: [-180.0, 180.0, 'deg']\n",
      "lat: [-90.0, 90.0, 'deg']\n",
      "height: [96.62001, 640.3913, 'km']\n"
     ]
    }
   ],
   "source": [
    "# Print the maxima, minima, and units of each coordinate grid.\n",
    "MW.Coord_Range(kamodo_object_default, ['T_n', 'T_n_ijk'])"
   ]
  },
  {
   "cell_type": "code",
   "execution_count": 9,
   "metadata": {},
   "outputs": [
    {
     "name": "stdout",
     "output_type": "stream",
     "text": [
      "Time slice index 135 added from file.\n",
      "Time slice index 136 added from file.\n",
      "Time slice index 137 added from file.\n",
      "Time slice index 138 added from file.\n"
     ]
    },
    {
     "data": {
      "text/plain": [
       "array([1184.29853082, 1184.16026839])"
      ]
     },
     "execution_count": 9,
     "metadata": {},
     "output_type": "execute_result"
    }
   ],
   "source": [
    "# Example of interpolation command for two points for a regular function.\n",
    "# This is the method used in CCMC Kamodo's flythrough.\n",
    "kamodo_object_default['T_n']([[22.5, -20.5, -20.5, 350.], [22.7, -20.5, -20.5, 350.]])"
   ]
  },
  {
   "cell_type": "code",
   "execution_count": 10,
   "metadata": {},
   "outputs": [
    {
     "data": {
      "text/plain": [
       "array([1184.29853082, 1184.16026839])"
      ]
     },
     "execution_count": 10,
     "metadata": {},
     "output_type": "execute_result"
    }
   ],
   "source": [
    "# Example of interpolation command for a gridded function.\n",
    "# The value will be the same two values as the previous block's result.\n",
    "# The gridded functions slice through the data at the values given.\n",
    "kamodo_object_default['T_n_ijk'](time=[22.5, 22.7], lon=-20.5, lat=-20.5, height=350.)"
   ]
  },
  {
   "cell_type": "markdown",
   "metadata": {},
   "source": [
    "An example of Kamodo's default 2D plot.\n",
    "```py\n",
    "kamodo_object_default.plot('T_n_ijk', plot_partial={'T_n_ijk': {'time': 22.5, 'height': 350.}})\n",
    "```\n",
    "![Screenshot](Files/FunctionalizeModeledData_ExamplePlot.png)"
   ]
  }
 ],
 "metadata": {
  "kernelspec": {
   "display_name": "Python 3 (ipykernel)",
   "language": "python",
   "name": "python3"
  },
  "language_info": {
   "codemirror_mode": {
    "name": "ipython",
    "version": 3
   },
   "file_extension": ".py",
   "mimetype": "text/x-python",
   "name": "python",
   "nbconvert_exporter": "python",
   "pygments_lexer": "ipython3",
   "version": "3.7.13"
  }
 },
 "nbformat": 4,
 "nbformat_minor": 2
}
