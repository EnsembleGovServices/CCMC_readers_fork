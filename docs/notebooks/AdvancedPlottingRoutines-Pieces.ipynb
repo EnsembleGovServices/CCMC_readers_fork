{
 "cells": [
  {
   "cell_type": "markdown",
   "id": "9cede150",
   "metadata": {},
   "source": [
    "# Advanced Plotting Routines -- PIECES\n",
    "This notebook tutorial shows special customized visualization options that can be utilized for some model output or data type."
   ]
  },
  {
   "cell_type": "code",
   "execution_count": null,
   "id": "c6378a5d",
   "metadata": {},
   "outputs": [],
   "source": [
    "from kamodo_ccmc.flythrough.plots import SatPlot4D"
   ]
  },
  {
   "cell_type": "code",
   "execution_count": null,
   "id": "37e2e469",
   "metadata": {},
   "outputs": [],
   "source": [
    "# Load a saved satellite flythrough file (or use data in memory)\n",
    "from kamodo_ccmc.flythrough.SF_output import SFcsv_reader\n",
    "cdf_dict = SFcsv_reader('Files/FakeFlightExample_CTIPe20s.csv')\n",
    "\n",
    "var = 'rho' # variable to plot"
   ]
  },
  {
   "cell_type": "code",
   "execution_count": null,
   "id": "f71bfbe2",
   "metadata": {},
   "outputs": [],
   "source": [
    "# Stacked 1D plot\n",
    "SatPlot4D(var, cdf_dict['utc_time']['data'], cdf_dict['c1']['data'], \n",
    "          cdf_dict['c2']['data'], cdf_dict['c3']['data'],\n",
    "          cdf_dict[var]['data'], cdf_dict[var]['units'],\n",
    "          'GDZ', 'sph', 'GEO', 'all', 'CTIPe', type = '1D')"
   ]
  },
  {
   "cell_type": "code",
   "execution_count": null,
   "id": "58c6a8c7",
   "metadata": {},
   "outputs": [],
   "source": [
    "# 2D plot, GEO coordinates\n",
    "SatPlot4D(var, cdf_dict['utc_time']['data'], cdf_dict['c1']['data'], \n",
    "          cdf_dict['c2']['data'], cdf_dict['c3']['data'],\n",
    "          cdf_dict[var]['data'], cdf_dict[var]['units'],\n",
    "          'GDZ', 'sph', 'GEO', 'all', 'CTIPe', type = '2D')"
   ]
  },
  {
   "cell_type": "code",
   "execution_count": null,
   "id": "b7c67b07",
   "metadata": {},
   "outputs": [],
   "source": [
    "# 2D Polar North plot\n",
    "SatPlot4D(var, cdf_dict['utc_time']['data'], cdf_dict['c1']['data'], \n",
    "          cdf_dict['c2']['data'], cdf_dict['c3']['data'],\n",
    "          cdf_dict[var]['data'], cdf_dict[var]['units'],\n",
    "          'GDZ', 'sph', 'GEO', 'all', 'CTIPe', type = '2DPN', \n",
    "          body = 'lines', zoom = True,\n",
    "         )"
   ]
  },
  {
   "cell_type": "code",
   "execution_count": null,
   "id": "51a2c9e1",
   "metadata": {},
   "outputs": [],
   "source": [
    "# 3D plot\n",
    "SatPlot4D(var, cdf_dict['utc_time']['data'], cdf_dict['c1']['data'], \n",
    "          cdf_dict['c2']['data'], cdf_dict['c3']['data'],\n",
    "          cdf_dict[var]['data'], cdf_dict[var]['units'],\n",
    "          'GDZ', 'sph', 'GSE', 'orbitE', 'CTIPe', type = '3D', \n",
    "          body = 'none', \n",
    "         )"
   ]
  },
  {
   "cell_type": "code",
   "execution_count": null,
   "id": "797c408f",
   "metadata": {},
   "outputs": [],
   "source": []
  },
  {
   "cell_type": "code",
   "execution_count": null,
   "id": "3bac3d18",
   "metadata": {},
   "outputs": [],
   "source": [
    "import datetime as dt\n",
    "import kamodo_ccmc.tools.plotfunctions as pf\n",
    "from kamodo_ccmc.tools.plotfunctions import figMods\n",
    "import kamodo_ccmc.flythrough.model_wrapper as MW\n",
    "\n",
    "basedir='/Users/ddezeeuw/KAMODO_DEMO/'"
   ]
  },
  {
   "cell_type": "code",
   "execution_count": null,
   "id": "ad52b65c",
   "metadata": {},
   "outputs": [],
   "source": [
    "# Retrieve model reader and access model data for the GITM model.\n",
    "# Note the identical syntax!\n",
    "reader = MW.Model_Reader('GITM')\n",
    "file_dir = basedir+'GITM/Storm_201303/'\n",
    "kamodo_object = reader(file_dir, variables_requested=['T_i'])\n",
    "kamodo_object"
   ]
  },
  {
   "cell_type": "code",
   "execution_count": null,
   "id": "c469d8d1",
   "metadata": {},
   "outputs": [],
   "source": [
    "# Default plot at noon, 500km\n",
    "fig1 = kamodo_object.plot('T_i_ijk', plot_partial={'T_i_ijk': {'time': 12., 'height': 500.}})\n",
    "fig1"
   ]
  },
  {
   "cell_type": "code",
   "execution_count": null,
   "id": "91793a98",
   "metadata": {},
   "outputs": [],
   "source": [
    "# Change the colorscale, number of contours, and switch to log scale\n",
    "figMods(fig1, log10=True, ncont=200, colorscale='Viridis')"
   ]
  },
  {
   "cell_type": "code",
   "execution_count": null,
   "id": "a763f42c",
   "metadata": {},
   "outputs": [],
   "source": [
    "# The plot customization needs the time expressed as a timestamp to utilize coordinate\n",
    "#   conversion. The altkm is just passed as metadata for plot labeling.\n",
    "time_utcts = dt.datetime(2013, 3, 16, 12).replace(tzinfo=dt.timezone.utc).timestamp()\n",
    "altkm = 500."
   ]
  },
  {
   "cell_type": "code",
   "execution_count": null,
   "id": "d55db19e",
   "metadata": {},
   "outputs": [],
   "source": [
    "# This function takes the lon-lat plot above and turns it into a 3D plot with many options.\n",
    "# NOTE: The Earth with shorelines is shown 'below' the 500km GITM slice.\n",
    "#       The geographic pole is displayed, along with the pole and equator in selected\n",
    "#         plot coordinates. \n",
    "#       Replace GSE with whatever other coordinate system you like. \n",
    "#       The plot opacity can be modified to taste.\n",
    "pf.ReplotLL3D(fig1, 'GITM', altkm, time_utcts, plotCoord='GSE',\n",
    "             opacity=0.75, colorscale='Viridis', axis=False, crange=[1000,1400],\n",
    "             title='Test of coordinate conversion replot of data. ')"
   ]
  },
  {
   "cell_type": "code",
   "execution_count": null,
   "id": "e2860a50",
   "metadata": {},
   "outputs": [],
   "source": [
    "fig2=pf.ReplotLL3D(fig1, 'GITM', altkm, time_utcts, plotCoord='GSE',\n",
    "             opacity=0.75, colorscale='Viridis', axis=False, crange=[1000,1400],\n",
    "             title='Sample interactive plotly plot of model ion temperature.')\n",
    "fig2.update_layout(width=550,height=500)"
   ]
  },
  {
   "cell_type": "code",
   "execution_count": null,
   "id": "d1162595",
   "metadata": {},
   "outputs": [],
   "source": [
    "fig2.write_html('Files/GITM_3D_500km.html',full_html=True)"
   ]
  },
  {
   "cell_type": "code",
   "execution_count": null,
   "id": "f485d71f",
   "metadata": {},
   "outputs": [],
   "source": [
    "# Arbitrary 2D plot with any of Lon/Lat/Alt/Time as X and Y axis, ie 'Lon-Lat', 'Time-Alt'\n",
    "# NOTE: The line with fixed_* variables can be overspecified, values in X/Y axis ignored.\n",
    "#       Again, choose any coordinate system. Shoreline only shown for Lon-Lat plots.\n",
    "date = dt.datetime(2013, 3, 16).replace(tzinfo=dt.timezone.utc)\n",
    "pf.GDZSlice4D(kamodo_object.T_i, 'T_i[K]', 'GITM', date, 'Lon-Lat',\n",
    "              fixed_lon=22., fixed_lat=33., fixed_alt=500., fixed_time=12., \n",
    "              plotCoord='GEO',shoreline=True,\n",
    "              title='Test of interpolation on coordinate transformed positions. ')"
   ]
  },
  {
   "cell_type": "code",
   "execution_count": null,
   "id": "9b34dd1d",
   "metadata": {},
   "outputs": [],
   "source": []
  },
  {
   "cell_type": "code",
   "execution_count": null,
   "id": "c829df1b",
   "metadata": {},
   "outputs": [],
   "source": [
    "# Import necessary libraries\n",
    "from kamodo_ccmc.readers.sat_extractions import SATEXTRACT,SATEXTRACTALL,ror_show_info"
   ]
  },
  {
   "cell_type": "code",
   "execution_count": null,
   "id": "d79b0c22",
   "metadata": {},
   "outputs": [],
   "source": [
    "# Display RoR information for a particular run\n",
    "runID     = '13819'\n",
    "ror_show_info(runID)"
   ]
  },
  {
   "cell_type": "code",
   "execution_count": null,
   "id": "a374d71e",
   "metadata": {},
   "outputs": [],
   "source": [
    "# Load this run data in specified coordinates for one satellite\n",
    "runID     = '13819'\n",
    "coord     = 'GSE'     # Can choose from GSE, GSM, SM\n",
    "satellite = 'GOES-13'\n",
    "ror = SATEXTRACT(runID, coord, satellite)"
   ]
  },
  {
   "cell_type": "code",
   "execution_count": null,
   "id": "0b9b2e83",
   "metadata": {},
   "outputs": [],
   "source": [
    "# Plot 3D magnetic field with vectors, grouped by day with slider\n",
    "ror.get_plot(type=\"3Dvar\", var=\"B_x\", groupby=\"day\", quiver=True, \n",
    "             quiverscale=2., quiverskip=10)"
   ]
  },
  {
   "cell_type": "code",
   "execution_count": null,
   "id": "5005eac2",
   "metadata": {},
   "outputs": [],
   "source": [
    "# Load this run data in specified coordinates for several satellites (all if unset)\n",
    "satellite = ['Cluster-1','GOES-12','Polar']\n",
    "ror2 = SATEXTRACTALL(runID, coord, sats=satellite)"
   ]
  },
  {
   "cell_type": "code",
   "execution_count": null,
   "id": "c263d12b",
   "metadata": {
    "scrolled": false
   },
   "outputs": [],
   "source": [
    "# Plot pressure, grouped by day with slider\n",
    "ror2.get_plot(type=\"3Dvar\", var=\"P\", groupby=\"day\", quiver=False)"
   ]
  },
  {
   "cell_type": "code",
   "execution_count": null,
   "id": "e6ce2952",
   "metadata": {},
   "outputs": [],
   "source": []
  }
 ],
 "metadata": {
  "kernelspec": {
   "display_name": "Python 3 (ipykernel)",
   "language": "python",
   "name": "python3"
  },
  "language_info": {
   "codemirror_mode": {
    "name": "ipython",
    "version": 3
   },
   "file_extension": ".py",
   "mimetype": "text/x-python",
   "name": "python",
   "nbconvert_exporter": "python",
   "pygments_lexer": "ipython3",
   "version": "3.7.13"
  }
 },
 "nbformat": 4,
 "nbformat_minor": 5
}
